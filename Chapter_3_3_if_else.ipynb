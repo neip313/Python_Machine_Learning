{
  "nbformat": 4,
  "nbformat_minor": 0,
  "metadata": {
    "colab": {
      "name": "Chapter_3_3_if_else.ipynb",
      "provenance": [],
      "collapsed_sections": [],
      "toc_visible": true,
      "include_colab_link": true
    },
    "kernelspec": {
      "name": "python3",
      "display_name": "Python 3"
    }
  },
  "cells": [
    {
      "cell_type": "markdown",
      "metadata": {
        "id": "view-in-github",
        "colab_type": "text"
      },
      "source": [
        "<a href=\"https://colab.research.google.com/github/neip313/Python_Machine_Learning/blob/main/Chapter_3_3_if_else.ipynb\" target=\"_parent\"><img src=\"https://colab.research.google.com/assets/colab-badge.svg\" alt=\"Open In Colab\"/></a>"
      ]
    },
    {
      "cell_type": "markdown",
      "metadata": {
        "id": "--6K6q__gRnA"
      },
      "source": [
        "---\n",
        "title: \"If else, and more\"\n",
        "date: 2020-06-25T21:42:47+09:00\n",
        "tags:\n",
        "  - \"Basic Data Structures\"\n",
        "  - \"Python Basic\"\n",
        "  - \"Python\"\n",
        "  - \"Conditional Statements\"\n",
        "categories:\n",
        "  - \"Conditional Statements\"\n",
        "  - \"Python\"\n",
        "  - \"Python Basic\"\n",
        "menu: \n",
        "  kaggle:\n",
        "    name: If else, and more\n",
        "---\n",
        "\n",
        "![](/img/python/basic_syntax/python_if_else.png)"
      ]
    },
    {
      "cell_type": "markdown",
      "metadata": {
        "id": "REY6iQaBdZXy"
      },
      "source": [
        "## I. 개요\n",
        "- 조건문에 대해 배우고 실습하는 시간을 갖는다. \n",
        "- else와 elif에 대해 배우고 실습한다. \n",
        "- 한줄로 작성하는 if_else에 대해 배우고 실습한다. \n"
      ]
    },
    {
      "cell_type": "markdown",
      "metadata": {
        "id": "MdW3HqwPViGX"
      },
      "source": [
        "## II. If 조건문 소개\n",
        "- Excel을 배운 사람이라면 누구나 아는 문법이다. \n",
        "  + 다만, 위 문법을 파이썬 언어에 맞게 변형한 것이다. \n",
        "\n",
        "```python\n",
        "if <조건=True>:\n",
        "  <코드1>\n",
        "  <코드2>\n",
        "```\n",
        "\n"
      ]
    },
    {
      "cell_type": "markdown",
      "metadata": {
        "id": "CTugtyTZqpaR"
      },
      "source": [
        "### (1) 언제 실행되는가?\n",
        "- 위 구문의 뜻이 무엇인가?\n",
        "  + 프로그래밍 처음 입문하는 사람이라면, 조금 난해할 수 있다. \n",
        "  + 그러나, 절대 어렵지 않다. \n",
        "  + 조건이 `True` 이면 `<코드1>`과 `<코드2>`를 실행한다. \n",
        "  + 만약, 아니라면, `<코드1>`과 `<코드2>`는 실행되지 않는다.\n",
        "\n",
        " - 간단 예문으로 내용을 확인한다. "
      ]
    },
    {
      "cell_type": "code",
      "metadata": {
        "id": "3qkeh6nhXW2r",
        "outputId": "4038364a-dd81-4a50-b849-7c4c3cee4b7c",
        "colab": {
          "base_uri": "https://localhost:8080/",
          "height": 51
        }
      },
      "source": [
        "a = 1\n",
        "b = 3\n",
        "\n",
        "if a < b: # FALSE \n",
        "  print('yes')\n",
        "\n",
        "print(\"if 내 프린트 문은 실행되지 않았습니다. \")"
      ],
      "execution_count": null,
      "outputs": [
        {
          "output_type": "stream",
          "text": [
            "yes\n",
            "if 내 프린트 문은 실행되지 않았습니다. \n"
          ],
          "name": "stdout"
        }
      ]
    },
    {
      "cell_type": "code",
      "metadata": {
        "id": "gKbvd2SYqB-x"
      },
      "source": [
        "if a > b:\n",
        "  print('yes')"
      ],
      "execution_count": null,
      "outputs": []
    },
    {
      "cell_type": "markdown",
      "metadata": {
        "id": "DR44fwxUqTiK"
      },
      "source": [
        "- 위 구문에서는 출력이 되지 않는다. \n",
        "- if 조건에서 `False`가 나타나면 코드는 실행되지 않는다. \n",
        "- 또 다른 예를 확인해본다. "
      ]
    },
    {
      "cell_type": "code",
      "metadata": {
        "id": "vRIxLjfnq6gf",
        "outputId": "7ab8f41e-a4ec-4fde-d813-9a9ebcbbe3b8",
        "colab": {
          "base_uri": "https://localhost:8080/",
          "height": 34
        }
      },
      "source": [
        "if 'BC' in 'ABCD':\n",
        "  print('yes')"
      ],
      "execution_count": null,
      "outputs": [
        {
          "output_type": "stream",
          "text": [
            "yes\n"
          ],
          "name": "stdout"
        }
      ]
    },
    {
      "cell_type": "code",
      "metadata": {
        "id": "m8wmKyoirMpc"
      },
      "source": [
        "if 'ABC' in 'AB':\n",
        "  print('yes')"
      ],
      "execution_count": null,
      "outputs": []
    },
    {
      "cell_type": "markdown",
      "metadata": {
        "id": "6HQ3iL5HrIL4"
      },
      "source": [
        "- 마찬가지로 `TRUE`일 때는 정상적으로 출력되지만, 그렇지 않을 때는 출력되지 않는다. "
      ]
    },
    {
      "cell_type": "markdown",
      "metadata": {
        "id": "jjwlbnAarszS"
      },
      "source": [
        "### (2) 들여쓰기\n",
        "- 각 언어마다 고유의 문법이 있다. \n",
        "- 들여쓰기는 `off-side rule`이라고 한다. \n",
        "  + [off-side rule 언어](https://en.wikipedia.org/wiki/Off-side_rule#Off-side_rule_languages)\n",
        "- 들여쓰기는 일종의 `block`과 같다. \n",
        "\n",
        "```python\n",
        "if <조건>:\n",
        "    <코드1>\n",
        "    <코드2>\n",
        "    ...\n",
        "    <코드N>\n",
        "<다른코드>\n",
        "```\n",
        "\n",
        "- 위 코드에서 조건 False이면, 그 때는 `다른코드`가 실행된다.\n",
        "- 예제를 통해서 한번 더 확인해본다.  "
      ]
    },
    {
      "cell_type": "code",
      "metadata": {
        "id": "ZY1QsGM-3lOW",
        "outputId": "31134f1d-d2ae-4130-f0b9-ce1755252c7f",
        "colab": {
          "base_uri": "https://localhost:8080/",
          "height": 102
        }
      },
      "source": [
        "if 'A' in ['A', 'B', 'C']:\n",
        "    print('조건은 참이다')\n",
        "    print('코드를 실행한다')\n",
        "    print('...')\n",
        "    print('코드가 끝났다')\n",
        "print('다음 코드를 실행한다')"
      ],
      "execution_count": null,
      "outputs": [
        {
          "output_type": "stream",
          "text": [
            "조건은 참이다\n",
            "코드를 실행한다\n",
            "...\n",
            "코드가 끝났다\n",
            "다음 코드를 실행한다\n"
          ],
          "name": "stdout"
        }
      ]
    },
    {
      "cell_type": "code",
      "metadata": {
        "id": "jSXcQoLa3y5o",
        "outputId": "98936f7e-6259-4c3c-e5d1-0f5cf0a472b0",
        "colab": {
          "base_uri": "https://localhost:8080/",
          "height": 34
        }
      },
      "source": [
        "if 'D' in ['A', 'B', 'C']:\n",
        "    print('조건은 참이다')\n",
        "    print('코드를 실행한다')\n",
        "    print('...')\n",
        "    print('코드가 끝났다')\n",
        "print('다음 코드를 실행한다')"
      ],
      "execution_count": null,
      "outputs": [
        {
          "output_type": "stream",
          "text": [
            "다음 코드를 실행한다\n"
          ],
          "name": "stdout"
        }
      ]
    },
    {
      "cell_type": "markdown",
      "metadata": {
        "id": "1i9L_qJx313B"
      },
      "source": [
        "- 위 두 코드의 차이점을 이해하였다면 사실상 조건문은 끝이다. "
      ]
    },
    {
      "cell_type": "markdown",
      "metadata": {
        "id": "XF3pL9wo4BbJ"
      },
      "source": [
        "### (3) else와 elif 조건문\n",
        "- if 조건문의 연장선이다. \n",
        "- 그러나 개념은 똑같다. \n",
        "- 이 부분은 코드를 통해서 빠르게 넘어간다. "
      ]
    },
    {
      "cell_type": "code",
      "metadata": {
        "id": "t1_CaPEc4Oeo",
        "outputId": "2ef489af-1364-4b2a-e352-8eeb3880c645",
        "colab": {
          "base_uri": "https://localhost:8080/",
          "height": 51
        }
      },
      "source": [
        "a = 30\n",
        "\n",
        "if a < 50: # False\n",
        "  print('첫번째 코드 실행')\n",
        "  print('a는 작다')\n",
        "else:\n",
        "  print('두번째 코드 실행')\n",
        "  print('a는 크다')"
      ],
      "execution_count": null,
      "outputs": [
        {
          "output_type": "stream",
          "text": [
            "첫번째 코드 실행\n",
            "a는 작다\n"
          ],
          "name": "stdout"
        }
      ]
    },
    {
      "cell_type": "markdown",
      "metadata": {
        "id": "wWxbiQYt4f_K"
      },
      "source": [
        "- 이번에는 elif 코드를 작성한다. "
      ]
    },
    {
      "cell_type": "code",
      "metadata": {
        "id": "nCMAsUbM4fOU",
        "outputId": "b1412c56-ee5d-4456-c313-93ff4988b550",
        "colab": {
          "base_uri": "https://localhost:8080/",
          "height": 34
        }
      },
      "source": [
        "score = 60\n",
        "if score > 100:\n",
        "  print('100점을 맞지 못했군요')\n",
        "elif score >= 90:\n",
        "  print('90점은 넘었네요')\n",
        "elif score >= 80:\n",
        "  print('80점은 넘었네요')\n",
        "else:\n",
        "  print('80점 아래입니다. ')"
      ],
      "execution_count": null,
      "outputs": [
        {
          "output_type": "stream",
          "text": [
            "80점 아래입니다. \n"
          ],
          "name": "stdout"
        }
      ]
    },
    {
      "cell_type": "markdown",
      "metadata": {
        "id": "oQ0N6HXM55AN"
      },
      "source": [
        "### (4) 한줄로 작성하는 조건문\n",
        "- 오늘 내용의 핵심이다. \n",
        "- 파이썬에서 `조건문은 매우 빈번하게` 작성된다. \n",
        "- 우선 코드는 아래와 같이 작성한다. \n",
        "  + Simple 한 코드는 아래와 같다. \n",
        "```python\n",
        "if <조건문>: <코드>\n",
        "```\n",
        "  + 조금 더 확장된 코드를 작성하면 다음과 같다. \n",
        "```python\n",
        "if <조건문>: <코드1>; <코드2>; ...; <코드3>\n",
        "``` \n",
        "\n",
        "- 위 코드의 특징은 조건문이 참이어야만 다른 코드들이 실행된다는 뜻이다. \n",
        "\n"
      ]
    },
    {
      "cell_type": "code",
      "metadata": {
        "id": "70FIsRH68BQ4",
        "outputId": "0c95b4e0-de8e-4bbf-ec0e-0a5c4d4b36b9",
        "colab": {
          "base_uri": "https://localhost:8080/",
          "height": 68
        }
      },
      "source": [
        "if 'A' in 'ABC': print('A'); print('B'); print('C')"
      ],
      "execution_count": null,
      "outputs": [
        {
          "output_type": "stream",
          "text": [
            "A\n",
            "B\n",
            "C\n"
          ],
          "name": "stdout"
        }
      ]
    },
    {
      "cell_type": "code",
      "metadata": {
        "id": "FbKCDlPg8H-z"
      },
      "source": [
        "if 'D' in 'ABC': print('A'); print('B'); print('C')"
      ],
      "execution_count": null,
      "outputs": []
    },
    {
      "cell_type": "markdown",
      "metadata": {
        "id": "MJYMSlCe8Nvi"
      },
      "source": [
        "- 위 형태의 코드를 `elif` 또는 `else`와 같이 작성하면 다음과 같다. "
      ]
    },
    {
      "cell_type": "code",
      "metadata": {
        "id": "iRfgQzNR8XPY",
        "outputId": "6484670f-3299-4870-edd7-9695de998257",
        "colab": {
          "base_uri": "https://localhost:8080/",
          "height": 68
        }
      },
      "source": [
        "x = 3\n",
        "if x == 1: print('비')\n",
        "elif x == 2: print('가'); print('수')\n",
        "else: print('가'); print('수'); print('비')"
      ],
      "execution_count": null,
      "outputs": [
        {
          "output_type": "stream",
          "text": [
            "가\n",
            "수\n",
            "비\n"
          ],
          "name": "stdout"
        }
      ]
    },
    {
      "cell_type": "markdown",
      "metadata": {
        "id": "s3SuFQ__9DJO"
      },
      "source": [
        "### (5) 파이썬씩 삼항 연산자\n",
        "- 조건이 참이면 `statement1` 값을 취하고 거짓이면 `statement2` 값을 취한다. \n",
        "- Python의 문법은 아래와 같이 작성한다. \n",
        "```python\n",
        "<코드1> if <조건문> else <코드2>\n",
        "```\n",
        "- 코드를 통해서 확인해본다. "
      ]
    },
    {
      "cell_type": "code",
      "metadata": {
        "id": "inwC0BElAGxI",
        "outputId": "b22b64f1-80be-4a78-85ad-4be25b5171d4",
        "colab": {
          "base_uri": "https://localhost:8080/",
          "height": 34
        }
      },
      "source": [
        "is_rain = False\n",
        "print(\"가자\", '도서관으로' if is_rain else '해수욕장으로')"
      ],
      "execution_count": null,
      "outputs": [
        {
          "output_type": "stream",
          "text": [
            "가자 해수욕장으로\n"
          ],
          "name": "stdout"
        }
      ]
    },
    {
      "cell_type": "code",
      "metadata": {
        "id": "phVkrYPOAqmh",
        "outputId": "f1cd13cd-2999-4404-82d2-7632935e5004",
        "colab": {
          "base_uri": "https://localhost:8080/",
          "height": 34
        }
      },
      "source": [
        "is_rain = True\n",
        "print(\"가자\", '도서관으로' if is_rain else '해수욕장으로')"
      ],
      "execution_count": null,
      "outputs": [
        {
          "output_type": "stream",
          "text": [
            "가자 도서관으로\n"
          ],
          "name": "stdout"
        }
      ]
    },
    {
      "cell_type": "markdown",
      "metadata": {
        "id": "3imX-h9oAyDa"
      },
      "source": [
        "- 그런데 이러한 삼항 연산자를 쓰는 가장 큰 이유는 새로운 값을 할당해줄 때 많이 쓴다. \n",
        "- x와 y 값을 비교한뒤 조건에 따라 z값을 할당해주도록 한다. "
      ]
    },
    {
      "cell_type": "code",
      "metadata": {
        "id": "IksUSROLA4Ud",
        "outputId": "6c9ba00a-e102-4b5d-e03e-c0ffcbd15113",
        "colab": {
          "base_uri": "https://localhost:8080/",
          "height": 34
        }
      },
      "source": [
        "x = 30\n",
        "y = 31\n",
        "z = 1 + (x if x > y else y) + 2\n",
        "print(z)"
      ],
      "execution_count": null,
      "outputs": [
        {
          "output_type": "stream",
          "text": [
            "34\n"
          ],
          "name": "stdout"
        }
      ]
    },
    {
      "cell_type": "markdown",
      "metadata": {
        "id": "EJ0TZ8ImBTj5"
      },
      "source": [
        "- x또는 y값을 변형하여 확인해본다. "
      ]
    }
  ]
}