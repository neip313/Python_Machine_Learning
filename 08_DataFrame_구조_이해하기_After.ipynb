{
  "nbformat": 4,
  "nbformat_minor": 0,
  "metadata": {
    "kernelspec": {
      "display_name": "Python 3",
      "language": "python",
      "name": "python3"
    },
    "language_info": {
      "codemirror_mode": {
        "name": "ipython",
        "version": 3
      },
      "file_extension": ".py",
      "mimetype": "text/x-python",
      "name": "python",
      "nbconvert_exporter": "python",
      "pygments_lexer": "ipython3",
      "version": "3.7.3"
    },
    "colab": {
      "name": "08. DataFrame 구조 이해하기_After.ipynb",
      "provenance": [],
      "include_colab_link": true
    }
  },
  "cells": [
    {
      "cell_type": "markdown",
      "metadata": {
        "id": "view-in-github",
        "colab_type": "text"
      },
      "source": [
        "<a href=\"https://colab.research.google.com/github/neip313/Python_Machine_Learning/blob/main/08_DataFrame_%EA%B5%AC%EC%A1%B0_%EC%9D%B4%ED%95%B4%ED%95%98%EA%B8%B0_After.ipynb\" target=\"_parent\"><img src=\"https://colab.research.google.com/assets/colab-badge.svg\" alt=\"Open In Colab\"/></a>"
      ]
    },
    {
      "cell_type": "markdown",
      "metadata": {
        "id": "ICwyiSfNKuON"
      },
      "source": [
        "## 학습목표\n",
        " 1. 인덱스와 컬럼의 이해"
      ]
    },
    {
      "cell_type": "code",
      "metadata": {
        "id": "vPvoWOA3KuON"
      },
      "source": [
        "import pandas as pd"
      ],
      "execution_count": null,
      "outputs": []
    },
    {
      "cell_type": "code",
      "metadata": {
        "id": "q1M_LDIyKuOO"
      },
      "source": [
        "# data 출처: https://www.kaggle.com/hesh97/titanicdataset-traincsv/data\n",
        "train_data = pd.read_csv('./train.csv')"
      ],
      "execution_count": null,
      "outputs": []
    },
    {
      "cell_type": "code",
      "metadata": {
        "id": "87g9vLgJKuOO"
      },
      "source": [
        "train_data.head()"
      ],
      "execution_count": null,
      "outputs": []
    },
    {
      "cell_type": "markdown",
      "metadata": {
        "id": "-rlId6cnKuOO"
      },
      "source": [
        "#### 인덱스(index)\n",
        " - index 속성\n",
        " - 각 아이템을 특정할 수 있는 고유의 값을 저장\n",
        " - 복잡한 데이터의 경우, 멀티 인덱스로 표현 가능"
      ]
    },
    {
      "cell_type": "code",
      "metadata": {
        "id": "qQ-4aonhKuOO"
      },
      "source": [
        "train_data.index"
      ],
      "execution_count": null,
      "outputs": []
    },
    {
      "cell_type": "markdown",
      "metadata": {
        "id": "kg9Ru_R4KuOO"
      },
      "source": [
        "#### 컬럼(column)\n",
        " - columns 속성\n",
        " - 각각의 특성(feature)을 나타냄\n",
        " - 복잡한 데이터의 경우, 멀티 컬럼으로 표현 가능"
      ]
    },
    {
      "cell_type": "code",
      "metadata": {
        "id": "221cDZ82KuOO"
      },
      "source": [
        "train_data.columns"
      ],
      "execution_count": null,
      "outputs": []
    },
    {
      "cell_type": "code",
      "metadata": {
        "id": "X5Jy0N9oKuOO"
      },
      "source": [
        ""
      ],
      "execution_count": null,
      "outputs": []
    }
  ]
}