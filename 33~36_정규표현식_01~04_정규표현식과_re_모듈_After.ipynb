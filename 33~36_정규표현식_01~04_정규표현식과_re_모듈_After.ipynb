{
  "nbformat": 4,
  "nbformat_minor": 0,
  "metadata": {
    "kernelspec": {
      "display_name": "Python 3",
      "language": "python",
      "name": "python3"
    },
    "language_info": {
      "codemirror_mode": {
        "name": "ipython",
        "version": 3
      },
      "file_extension": ".py",
      "mimetype": "text/x-python",
      "name": "python",
      "nbconvert_exporter": "python",
      "pygments_lexer": "ipython3",
      "version": "3.7.3"
    },
    "colab": {
      "name": "33~36.정규표현식 - 01~04.정규표현식과 re 모듈_After.ipynb",
      "provenance": [],
      "include_colab_link": true
    }
  },
  "cells": [
    {
      "cell_type": "markdown",
      "metadata": {
        "id": "view-in-github",
        "colab_type": "text"
      },
      "source": [
        "<a href=\"https://colab.research.google.com/github/neip313/Python_Machine_Learning/blob/main/33~36_%EC%A0%95%EA%B7%9C%ED%91%9C%ED%98%84%EC%8B%9D_01~04_%EC%A0%95%EA%B7%9C%ED%91%9C%ED%98%84%EC%8B%9D%EA%B3%BC_re_%EB%AA%A8%EB%93%88_After.ipynb\" target=\"_parent\"><img src=\"https://colab.research.google.com/assets/colab-badge.svg\" alt=\"Open In Colab\"/></a>"
      ]
    },
    {
      "cell_type": "markdown",
      "metadata": {
        "id": "PvK7Xm82P6ky"
      },
      "source": [
        "## 학습목표\n",
        " 1. 정규표현식(re) 에 대한 이해 및 숙지"
      ]
    },
    {
      "cell_type": "markdown",
      "metadata": {
        "id": "MM9ROu53P6lD"
      },
      "source": [
        "* 정규표현식 \n",
        " - regular expression\n",
        " - 특정한 패턴과 일치하는 문자열를 '검색', '치환', '제거' 하는 기능을 지원\n",
        " - 정규표현식의 도움없이 패턴을 찾는 작업(Rule 기반)은 불완전 하거나, 작업의 cost가 높음\n",
        " - e.g) 이메일 형식 판별, 전화번호 형식 판별, 숫자로만 이루어진 문자열 등"
      ]
    },
    {
      "cell_type": "code",
      "metadata": {
        "colab": {
          "base_uri": "https://localhost:8080/"
        },
        "id": "6TsKTcpPvw0y",
        "outputId": "0f5e43a1-b0fc-4caa-aab1-db242fa553ef"
      },
      "source": [
        "import re\n",
        "\n",
        "text = \"문의사항이 있으면 032-232-3245 으로 연락주시기 바랍니다.\"\n",
        "\n",
        "regex = re.compile(r'\\d\\d\\d-\\d\\d\\d-\\d\\d\\d\\d')  # \\d\\d\\d-\\d\\d\\d-\\d\\d\\d\\d 이게 정규표현식이다. \n",
        "matchobj = regex.search(text)\n",
        "phonenumber = matchobj.group()\n",
        "print(phonenumber)   "
      ],
      "execution_count": 1,
      "outputs": [
        {
          "output_type": "stream",
          "text": [
            "032-232-3245\n"
          ],
          "name": "stdout"
        }
      ]
    },
    {
      "cell_type": "markdown",
      "metadata": {
        "id": "usDlJe4MP6lK"
      },
      "source": [
        "* **raw string**\n",
        " - 문자열 앞에 r이 붙으면 해당 문자열이 구성된 그대로 문자열로 변환"
      ]
    },
    {
      "cell_type": "code",
      "metadata": {
        "scrolled": true,
        "id": "7nRpOTvSP6lN"
      },
      "source": [
        "a = 'abcdef\\n' # escapce 문자열\n",
        "print(a)\n",
        "\n",
        "b = r'abcdef\\n'\n",
        "print(b)"
      ],
      "execution_count": null,
      "outputs": []
    },
    {
      "cell_type": "markdown",
      "metadata": {
        "id": "FuV1kKUWP6lo"
      },
      "source": [
        "#### **기본 패턴**\n",
        " - a, X, 9 등등 문자 하나하나의 character들은 정확히 해당 문자와 일치\n",
        "   - e.g) 패턴 test는 test 문자열과 일치\n",
        "   - 대소문자의 경우 기본적으로 구별하나, 구별하지 않도록 설정 가능\n",
        " - 몇몇 문자들에 대해서는 예외가 존재하는데, 이들은 틀별한 의미로 사용 됨\n",
        "   - . ^ $ * + ? { } [ ] \\ | ( )\n",
        " \n",
        " - . (마침표) - 어떤 한개의 character와 일치 (newline(엔터) 제외)\n",
        " \n",
        " - \\w - 문자 character와 일치 [a-zA-Z0-9_]\n",
        " - \\s - 공백문자와 일치\n",
        " - \\t, \\n, \\r - tab, newline, return\n",
        " - \\d - 숫자 character와 일치 [0-9]\n",
        " - ^ = 시작, $ = 끝 각각 문자열의 시작과 끝을 의미\n",
        " - \\가 붙으면 스페셜한 의미가 없어짐. 예를들어 \\\\.는 .자체를 의미 \\\\\\는 \\를 의미\n",
        " - 자세한 내용은 링크 참조 https://docs.python.org/3/library/re.html"
      ]
    },
    {
      "cell_type": "markdown",
      "metadata": {
        "id": "btnt9iF9P6lq"
      },
      "source": [
        "#### **search method**\n",
        " - 첫번째로 패턴을 찾으면 match 객체를 반환\n",
        " - 패턴을 찾지 못하면 None 반환"
      ]
    },
    {
      "cell_type": "code",
      "metadata": {
        "id": "IGTWgtDRP6lt"
      },
      "source": [
        "import re"
      ],
      "execution_count": null,
      "outputs": []
    },
    {
      "cell_type": "code",
      "metadata": {
        "id": "bkAGknUJP6l5"
      },
      "source": [
        "m = re.search(r'abc', '123abdef')\n",
        "m"
      ],
      "execution_count": null,
      "outputs": []
    },
    {
      "cell_type": "code",
      "metadata": {
        "id": "sSN4zWCkP6mG",
        "colab": {
          "base_uri": "https://localhost:8080/"
        },
        "outputId": "bf1f2356-c49c-40b8-81b6-2016afe13e81"
      },
      "source": [
        "m = re.search(r'\\d\\d\\d\\w', '112abcdef119')\n",
        "m"
      ],
      "execution_count": null,
      "outputs": [
        {
          "output_type": "execute_result",
          "data": {
            "text/plain": [
              "<_sre.SRE_Match object; span=(0, 4), match='112a'>"
            ]
          },
          "metadata": {
            "tags": []
          },
          "execution_count": 6
        }
      ]
    },
    {
      "cell_type": "code",
      "metadata": {
        "id": "qfLmSiuvP6mR",
        "colab": {
          "base_uri": "https://localhost:8080/"
        },
        "outputId": "9abba6d0-2a96-42ca-98be-94097ad69304"
      },
      "source": [
        "m = re.search(r'..\\w\\w', '@#$%ABCDabcd')\n",
        "m"
      ],
      "execution_count": null,
      "outputs": [
        {
          "output_type": "execute_result",
          "data": {
            "text/plain": [
              "<_sre.SRE_Match object; span=(2, 6), match='$%AB'>"
            ]
          },
          "metadata": {
            "tags": []
          },
          "execution_count": 7
        }
      ]
    },
    {
      "cell_type": "markdown",
      "metadata": {
        "id": "9UM2nFsfP6mZ"
      },
      "source": [
        "#### **metacharacters (메타 캐릭터)**"
      ]
    },
    {
      "cell_type": "markdown",
      "metadata": {
        "id": "DXRlxCNYP6mb"
      },
      "source": [
        "#### **[]** 문자들의 범위를 나타내기 위해 사용\n",
        "   - [] 내부의 메타 캐릭터는 캐릭터 자체를 나타냄\n",
        "   - e.g)\n",
        "   - [abck] : a or b or c or k\n",
        "   - [abc.^] : a or b or c or . or ^\n",
        "   - [a-d]  : -와 함께 사용되면 해당 문자 사이의 범위에 속하는 문자 중 하나\n",
        "   - [0-9]  : 모든 숫자\n",
        "   - [a-z]  : 모든 소문자\n",
        "   - [A-Z]  : 모든 대문자\n",
        "   - [a-zA-Z0-9] : 모든 알파벳 문자 및 숫자\n",
        "   - [^0-9] : ^가 맨 앞에 사용 되는 경우 해당 문자 패턴이 아닌 것과 매칭"
      ]
    },
    {
      "cell_type": "code",
      "metadata": {
        "id": "SEpoWRYEP6me"
      },
      "source": [
        "re.search(r'[cbm]at', 'aat')"
      ],
      "execution_count": null,
      "outputs": []
    },
    {
      "cell_type": "code",
      "metadata": {
        "id": "JTi0QjqZP6mq"
      },
      "source": [
        "re.search(r'[0-4]haha', '7hahah')"
      ],
      "execution_count": null,
      "outputs": []
    },
    {
      "cell_type": "code",
      "metadata": {
        "id": "T7hp2GuBP6m6"
      },
      "source": [
        "re.search(r'[abc.^]aron', 'daron')"
      ],
      "execution_count": null,
      "outputs": []
    },
    {
      "cell_type": "code",
      "metadata": {
        "id": "5XNKbntcP6nD",
        "colab": {
          "base_uri": "https://localhost:8080/"
        },
        "outputId": "7a5c2e5a-a922-4701-ee87-a48fd1cde55c"
      },
      "source": [
        "re.search(r'[^abc]aron', '0aron')"
      ],
      "execution_count": null,
      "outputs": [
        {
          "output_type": "execute_result",
          "data": {
            "text/plain": [
              "<_sre.SRE_Match object; span=(0, 5), match='0aron'>"
            ]
          },
          "metadata": {
            "tags": []
          },
          "execution_count": 11
        }
      ]
    },
    {
      "cell_type": "markdown",
      "metadata": {
        "id": "MQrn-qFWP6nM"
      },
      "source": [
        "#### **\\** \n",
        " 1. 다른 문자와 함께 사용되어 특수한 의미를 지님\n",
        "   - \\d : 숫자를          [0-9]와 동일\n",
        "   - \\D : 숫자가 아닌 문자  [^0-9]와 동일\n",
        "   - \\s : 공백 문자(띄어쓰기, 탭, 엔터 등)\n",
        "   - \\S : 공백이 아닌 문자\n",
        "   - \\w : 알파벳대소문자, 숫자 [0-9a-zA-Z]와 동일\n",
        "   - \\W : non alpha-numeric 문자 [^0-9a-zA-Z]와 동일\n",
        " 2. 메타 캐릭터가 캐릭터 자체를 표현하도록 할 경우 사용\n",
        "   - \\\\. , \\\\\\\n"
      ]
    },
    {
      "cell_type": "code",
      "metadata": {
        "id": "DpwuBg1EP6nO",
        "colab": {
          "base_uri": "https://localhost:8080/"
        },
        "outputId": "0dad8c21-1368-4dfe-f9b7-9625748dcbe8"
      },
      "source": [
        "re.search(r'\\Sand', 'apple land banana')"
      ],
      "execution_count": null,
      "outputs": [
        {
          "output_type": "execute_result",
          "data": {
            "text/plain": [
              "<_sre.SRE_Match object; span=(6, 10), match='land'>"
            ]
          },
          "metadata": {
            "tags": []
          },
          "execution_count": 12
        }
      ]
    },
    {
      "cell_type": "code",
      "metadata": {
        "id": "-M3wituQP6nW",
        "colab": {
          "base_uri": "https://localhost:8080/"
        },
        "outputId": "e11dab4c-3b8d-418e-8390-9d6ad508171e"
      },
      "source": [
        "re.search(r'\\.and', '.and')"
      ],
      "execution_count": null,
      "outputs": [
        {
          "output_type": "execute_result",
          "data": {
            "text/plain": [
              "<_sre.SRE_Match object; span=(0, 4), match='.and'>"
            ]
          },
          "metadata": {
            "tags": []
          },
          "execution_count": 13
        }
      ]
    },
    {
      "cell_type": "markdown",
      "metadata": {
        "id": "5Ql0C54-P6nk"
      },
      "source": [
        "#### **.** \n",
        " - 모든 문자를 의미"
      ]
    },
    {
      "cell_type": "code",
      "metadata": {
        "id": "MxU5l4_cP6nl",
        "colab": {
          "base_uri": "https://localhost:8080/"
        },
        "outputId": "babd9664-897d-4d51-a598-383b7c22b62b"
      },
      "source": [
        "re.search(r'p.g', 'pig')"
      ],
      "execution_count": null,
      "outputs": [
        {
          "output_type": "execute_result",
          "data": {
            "text/plain": [
              "<_sre.SRE_Match object; span=(0, 3), match='pig'>"
            ]
          },
          "metadata": {
            "tags": []
          },
          "execution_count": 14
        }
      ]
    },
    {
      "cell_type": "markdown",
      "metadata": {
        "id": "GKiu-48NP6nu"
      },
      "source": [
        "#### **반복패턴**\n",
        " - 패턴 뒤에 위치하는 *, +, ?는 해당 패턴이 반복적으로 존재하는지 검사 \n",
        "   - '+' -> 1번 이상의 패턴이 발생\n",
        "   - '*' -> 0번 이상의 패턴이 발생\n",
        "   - '?' -> 0 혹은 1번의 패턴이 발생\n",
        " - 반복을 패턴의 경우 greedy하게 검색 함, 즉 가능한 많은 부분이 매칭되도록 함\n",
        "  - e.g) a[bcd]*b  패턴을 abcbdccb에서 검색하는 경우\n",
        "    - ab, abcb, abcbdccb 전부 가능 하지만 최대한 많은 부분이 매칭된 abcbdccb가 검색된 패턴"
      ]
    },
    {
      "cell_type": "code",
      "metadata": {
        "id": "Q-cRCor1P6n0",
        "colab": {
          "base_uri": "https://localhost:8080/"
        },
        "outputId": "92bfccd5-9164-4f9b-c200-5101a3d05ead"
      },
      "source": [
        "re.search(r'a[bcd]*b', 'abcbdccb')"
      ],
      "execution_count": null,
      "outputs": [
        {
          "output_type": "execute_result",
          "data": {
            "text/plain": [
              "<_sre.SRE_Match object; span=(0, 8), match='abcbdccb'>"
            ]
          },
          "metadata": {
            "tags": []
          },
          "execution_count": 15
        }
      ]
    },
    {
      "cell_type": "code",
      "metadata": {
        "id": "OODP7COZP6oH",
        "colab": {
          "base_uri": "https://localhost:8080/"
        },
        "outputId": "d403683d-4e2e-49b0-ee56-1e7d6a02c882"
      },
      "source": [
        "re.search(r'b\\w+a', 'banana')"
      ],
      "execution_count": null,
      "outputs": [
        {
          "output_type": "execute_result",
          "data": {
            "text/plain": [
              "<_sre.SRE_Match object; span=(0, 6), match='banana'>"
            ]
          },
          "metadata": {
            "tags": []
          },
          "execution_count": 16
        }
      ]
    },
    {
      "cell_type": "code",
      "metadata": {
        "id": "iZBltJ7BP6oW",
        "colab": {
          "base_uri": "https://localhost:8080/"
        },
        "outputId": "abc81b79-1372-4c74-f641-ad8e82624c0b"
      },
      "source": [
        "re.search(r'i+', 'piigiii')"
      ],
      "execution_count": null,
      "outputs": [
        {
          "output_type": "execute_result",
          "data": {
            "text/plain": [
              "<_sre.SRE_Match object; span=(1, 3), match='ii'>"
            ]
          },
          "metadata": {
            "tags": []
          },
          "execution_count": 17
        }
      ]
    },
    {
      "cell_type": "code",
      "metadata": {
        "id": "_g684AuMP6od"
      },
      "source": [
        "re.search(r'pi+g', 'pg')"
      ],
      "execution_count": null,
      "outputs": []
    },
    {
      "cell_type": "code",
      "metadata": {
        "id": "CHGIn3rzP6op",
        "colab": {
          "base_uri": "https://localhost:8080/"
        },
        "outputId": "c46ca37e-b43c-4d24-9cb5-f1cb81cc8c57"
      },
      "source": [
        "re.search(r'pi*g', 'pg')"
      ],
      "execution_count": null,
      "outputs": [
        {
          "output_type": "execute_result",
          "data": {
            "text/plain": [
              "<_sre.SRE_Match object; span=(0, 2), match='pg'>"
            ]
          },
          "metadata": {
            "tags": []
          },
          "execution_count": 19
        }
      ]
    },
    {
      "cell_type": "code",
      "metadata": {
        "id": "n5H4pN3lP6pF",
        "colab": {
          "base_uri": "https://localhost:8080/"
        },
        "outputId": "f993e477-96e1-4dbb-9be5-2afd6189adeb"
      },
      "source": [
        "re.search(r'https?', 'http://www.naver.com')"
      ],
      "execution_count": null,
      "outputs": [
        {
          "output_type": "execute_result",
          "data": {
            "text/plain": [
              "<_sre.SRE_Match object; span=(0, 4), match='http'>"
            ]
          },
          "metadata": {
            "tags": []
          },
          "execution_count": 20
        }
      ]
    },
    {
      "cell_type": "markdown",
      "metadata": {
        "id": "cpkgItclP6pP"
      },
      "source": [
        "#### **^**, **$**\n",
        " - ^  문자열의 맨 앞부터 일치하는 경우 검색\n",
        " - \\$  문자열의 맨 뒤부터 일치하는 경우 검색"
      ]
    },
    {
      "cell_type": "code",
      "metadata": {
        "id": "G7Wuhm6qP6pQ",
        "colab": {
          "base_uri": "https://localhost:8080/"
        },
        "outputId": "ceb52120-3f29-47c0-fc1b-f9dd3796881a"
      },
      "source": [
        "re.search(r'b\\w+a', 'cabana')"
      ],
      "execution_count": null,
      "outputs": [
        {
          "output_type": "execute_result",
          "data": {
            "text/plain": [
              "<_sre.SRE_Match object; span=(2, 6), match='bana'>"
            ]
          },
          "metadata": {
            "tags": []
          },
          "execution_count": 21
        }
      ]
    },
    {
      "cell_type": "code",
      "metadata": {
        "id": "IagvCBRNP6pY"
      },
      "source": [
        "re.search(r'^b\\w+a', 'cabana')"
      ],
      "execution_count": null,
      "outputs": []
    },
    {
      "cell_type": "code",
      "metadata": {
        "id": "W8d5dLI3P6ph",
        "colab": {
          "base_uri": "https://localhost:8080/"
        },
        "outputId": "28e96a6f-3f39-4ab4-82c5-f1fcd071f66e"
      },
      "source": [
        "re.search(r'^b\\w+a', 'babana')"
      ],
      "execution_count": null,
      "outputs": [
        {
          "output_type": "execute_result",
          "data": {
            "text/plain": [
              "<_sre.SRE_Match object; span=(0, 6), match='babana'>"
            ]
          },
          "metadata": {
            "tags": []
          },
          "execution_count": 23
        }
      ]
    },
    {
      "cell_type": "code",
      "metadata": {
        "id": "Rem-OGTXP6ps",
        "colab": {
          "base_uri": "https://localhost:8080/"
        },
        "outputId": "5c096de8-c8ac-4dd0-feee-399ae937770a"
      },
      "source": [
        "re.search(r'b\\w+a$', 'cabana')"
      ],
      "execution_count": null,
      "outputs": [
        {
          "output_type": "execute_result",
          "data": {
            "text/plain": [
              "<_sre.SRE_Match object; span=(2, 6), match='bana'>"
            ]
          },
          "metadata": {
            "tags": []
          },
          "execution_count": 24
        }
      ]
    },
    {
      "cell_type": "code",
      "metadata": {
        "id": "GNdkTQzlP6py"
      },
      "source": [
        "re.search(r'b\\w+a$', 'cabanap')"
      ],
      "execution_count": null,
      "outputs": []
    },
    {
      "cell_type": "markdown",
      "metadata": {
        "id": "Sw7Us-1QP6qH"
      },
      "source": [
        " #### **grouping**\n",
        "  - ()을 사용하여 그루핑\n",
        "  - 매칭 결과를 각 그룹별로 분리 가능\n",
        "  - 패턴 명시 할 때, 각 그룹을 괄호() 안에 넣어 분리하여 사용"
      ]
    },
    {
      "cell_type": "code",
      "metadata": {
        "id": "gWxNATJNP6qK",
        "colab": {
          "base_uri": "https://localhost:8080/"
        },
        "outputId": "b13cec24-a95a-4d32-a142-47abd5d958b4"
      },
      "source": [
        "m = re.search(r'(\\w+)@(.+)', 'test@gmail.com')\n",
        "print(m.group(1))\n",
        "print(m.group(2))\n",
        "print(m.group(0))"
      ],
      "execution_count": null,
      "outputs": [
        {
          "output_type": "stream",
          "text": [
            "test\n",
            "gmail.com\n",
            "test@gmail.com\n"
          ],
          "name": "stdout"
        }
      ]
    },
    {
      "cell_type": "markdown",
      "metadata": {
        "id": "izdPnL1KP6qU"
      },
      "source": [
        " #### **{}**\n",
        "  - *, +, ?을 사용하여 반복적인 패턴을 찾는 것이 가능하나, 반복의 횟수 제한은 불가\n",
        "  - 패턴뒤에 위치하는 중괄호{}에 숫자를 명시하면 해당 숫자 만큼의 반복인 경우에만 매칭\n",
        "  - {4} - 4번 반복\n",
        "  - {3,4} - 3 ~ 4번 반복"
      ]
    },
    {
      "cell_type": "code",
      "metadata": {
        "id": "D5CmfXFAP6qh",
        "colab": {
          "base_uri": "https://localhost:8080/"
        },
        "outputId": "e9d93c66-d4b0-4242-efc2-de0a858a8546"
      },
      "source": [
        "re.search('pi{3,5}g', 'piiiiig')"
      ],
      "execution_count": null,
      "outputs": [
        {
          "output_type": "execute_result",
          "data": {
            "text/plain": [
              "<_sre.SRE_Match object; span=(0, 7), match='piiiiig'>"
            ]
          },
          "metadata": {
            "tags": []
          },
          "execution_count": 27
        }
      ]
    },
    {
      "cell_type": "markdown",
      "metadata": {
        "id": "nEi63LXwP6qt"
      },
      "source": [
        "#### **미니멈 매칭(non-greedy way)**\n",
        " - 기본적으로 *, +, ?를 사용하면 greedy(맥시멈 매칭)하게 동작함\n",
        " - *?, +?을 이용하여 해당 기능을 구현"
      ]
    },
    {
      "cell_type": "code",
      "metadata": {
        "id": "kGRVAgWoP6qw",
        "colab": {
          "base_uri": "https://localhost:8080/"
        },
        "outputId": "f564c8c2-874a-489d-e788-1c968bac4206"
      },
      "source": [
        "re.search(r'<.+>', '<html>haha</html>')"
      ],
      "execution_count": null,
      "outputs": [
        {
          "output_type": "execute_result",
          "data": {
            "text/plain": [
              "<_sre.SRE_Match object; span=(0, 17), match='<html>haha</html>'>"
            ]
          },
          "metadata": {
            "tags": []
          },
          "execution_count": 28
        }
      ]
    },
    {
      "cell_type": "code",
      "metadata": {
        "id": "ql_jRME3P6q3",
        "colab": {
          "base_uri": "https://localhost:8080/"
        },
        "outputId": "f2f5a368-20fd-4fad-b739-59a3009c8817"
      },
      "source": [
        "re.search(r'<.+?>', '<html>haha</html>')"
      ],
      "execution_count": null,
      "outputs": [
        {
          "output_type": "execute_result",
          "data": {
            "text/plain": [
              "<_sre.SRE_Match object; span=(0, 6), match='<html>'>"
            ]
          },
          "metadata": {
            "tags": []
          },
          "execution_count": 29
        }
      ]
    },
    {
      "cell_type": "markdown",
      "metadata": {
        "id": "P7NU-UksP6q_"
      },
      "source": [
        "#### **{}?**\n",
        " - {m,n}의 경우 m번 에서 n번 반복하나 greedy하게 동작\n",
        " - {m,n}?로 사용하면 non-greedy하게 동작. 즉, 최소 m번만 매칭하면 만족"
      ]
    },
    {
      "cell_type": "code",
      "metadata": {
        "id": "1XW3LM34P6rA",
        "colab": {
          "base_uri": "https://localhost:8080/"
        },
        "outputId": "2be7e19c-50c9-48a6-ec0a-edb64be1f52a"
      },
      "source": [
        "re.search(r'a{3,5}', 'aaaaa')"
      ],
      "execution_count": null,
      "outputs": [
        {
          "output_type": "execute_result",
          "data": {
            "text/plain": [
              "<_sre.SRE_Match object; span=(0, 5), match='aaaaa'>"
            ]
          },
          "metadata": {
            "tags": []
          },
          "execution_count": 30
        }
      ]
    },
    {
      "cell_type": "code",
      "metadata": {
        "id": "2cdZ9IoRP6rP",
        "colab": {
          "base_uri": "https://localhost:8080/"
        },
        "outputId": "cb3fcfbb-52a4-45fb-bff1-26b68eec6a11"
      },
      "source": [
        "re.search(r'a{3,5}?', 'aaaaa')"
      ],
      "execution_count": null,
      "outputs": [
        {
          "output_type": "execute_result",
          "data": {
            "text/plain": [
              "<_sre.SRE_Match object; span=(0, 3), match='aaa'>"
            ]
          },
          "metadata": {
            "tags": []
          },
          "execution_count": 31
        }
      ]
    },
    {
      "cell_type": "markdown",
      "metadata": {
        "id": "_9Sl0IsbP6rW"
      },
      "source": [
        "#### **match**\n",
        " - search와 유사하나, 주어진 문자열의 시작부터 비교하여 패턴이 있는지 확인\n",
        " - 시작부터 해당 패턴이 존재하지 않다면 None 반환"
      ]
    },
    {
      "cell_type": "code",
      "metadata": {
        "id": "exiL8vhSP6rX"
      },
      "source": [
        "re.match(r'\\d\\d\\d', 'my number is 123')"
      ],
      "execution_count": null,
      "outputs": []
    },
    {
      "cell_type": "code",
      "metadata": {
        "id": "sxoOBg7jP6re",
        "colab": {
          "base_uri": "https://localhost:8080/"
        },
        "outputId": "8f403c10-e199-4d22-c6b5-100fed523155"
      },
      "source": [
        "re.match(r'\\d\\d\\d', '123 is my number')"
      ],
      "execution_count": null,
      "outputs": [
        {
          "output_type": "execute_result",
          "data": {
            "text/plain": [
              "<_sre.SRE_Match object; span=(0, 3), match='123'>"
            ]
          },
          "metadata": {
            "tags": []
          },
          "execution_count": 33
        }
      ]
    },
    {
      "cell_type": "code",
      "metadata": {
        "id": "7Abt3e_6P6sA",
        "colab": {
          "base_uri": "https://localhost:8080/"
        },
        "outputId": "5d910b9d-c2bf-40d3-bf7a-f86e68900860"
      },
      "source": [
        "re.search(r'^\\d\\d\\d', '123 is my number')"
      ],
      "execution_count": null,
      "outputs": [
        {
          "output_type": "execute_result",
          "data": {
            "text/plain": [
              "<_sre.SRE_Match object; span=(0, 3), match='123'>"
            ]
          },
          "metadata": {
            "tags": []
          },
          "execution_count": 34
        }
      ]
    },
    {
      "cell_type": "markdown",
      "metadata": {
        "id": "G1t2EmExP6sW"
      },
      "source": [
        "#### **findall**\n",
        " - search가 최초로 매칭되는 패턴만 반환한다면, findall은 매칭되는 전체의 패턴을 반환\n",
        " - 매칭되는 모든 결과를 리스트 형태로 반환"
      ]
    },
    {
      "cell_type": "code",
      "metadata": {
        "id": "IYRxKTo5P6sX",
        "colab": {
          "base_uri": "https://localhost:8080/"
        },
        "outputId": "f681685e-4583-43e2-a8b5-e686282b1e29"
      },
      "source": [
        "re.findall(r'[\\w-]+@[\\w.]+', 'test@gmail.com haha test2@gmail.com nice test test')"
      ],
      "execution_count": null,
      "outputs": [
        {
          "output_type": "execute_result",
          "data": {
            "text/plain": [
              "['test@gmail.com', 'test2@gmail.com']"
            ]
          },
          "metadata": {
            "tags": []
          },
          "execution_count": 35
        }
      ]
    },
    {
      "cell_type": "markdown",
      "metadata": {
        "id": "ceZxrPm1P6se"
      },
      "source": [
        "#### **sub**\n",
        " - 주어진 문자열에서 일치하는 모든 패턴을 replace\n",
        " - 그 결과를 문자열로 다시 반환함\n",
        " - 두번째 인자는 특정 문자열이 될 수도 있고, 함수가 될 수 도 있음\n",
        " - count가 0인 경우는 전체를, 1이상이면 해당 숫자만큼 치환 됨"
      ]
    },
    {
      "cell_type": "code",
      "metadata": {
        "id": "HP0MLXFkP6sf",
        "colab": {
          "base_uri": "https://localhost:8080/",
          "height": 35
        },
        "outputId": "2139c9f1-a16d-4378-890d-e3b8524063ea"
      },
      "source": [
        "re.sub(r'[\\w-]+@[\\w.]+', 'great', 'test@gmail.com haha test2@gmail.com nice test test', count=1)"
      ],
      "execution_count": null,
      "outputs": [
        {
          "output_type": "execute_result",
          "data": {
            "application/vnd.google.colaboratory.intrinsic+json": {
              "type": "string"
            },
            "text/plain": [
              "'great haha test2@gmail.com nice test test'"
            ]
          },
          "metadata": {
            "tags": []
          },
          "execution_count": 36
        }
      ]
    },
    {
      "cell_type": "markdown",
      "metadata": {
        "id": "mGVUg_9wP6sm"
      },
      "source": [
        "#### **compile**\n",
        " - 동일한 정규표현식을 매번 다시 쓰기 번거로움을 해결\n",
        " - compile로 해당표현식을 re.RegexObject 객체로 저장하여 사용가능"
      ]
    },
    {
      "cell_type": "code",
      "metadata": {
        "id": "gNlkmK60P6sn",
        "colab": {
          "base_uri": "https://localhost:8080/"
        },
        "outputId": "d281e308-7845-4889-fe16-1e28653eed1a"
      },
      "source": [
        "email_reg = re.compile(r'[\\w-]+@[\\w.]+')\n",
        "email_reg.search('test@gmail.com haha good')"
      ],
      "execution_count": null,
      "outputs": [
        {
          "output_type": "execute_result",
          "data": {
            "text/plain": [
              "<_sre.SRE_Match object; span=(0, 14), match='test@gmail.com'>"
            ]
          },
          "metadata": {
            "tags": []
          },
          "execution_count": 43
        }
      ]
    },
    {
      "cell_type": "markdown",
      "metadata": {
        "id": "aO8RdR9sP6sv"
      },
      "source": [
        "### 연습문제 \n",
        "  - 아래 뉴스에서 이메일 주소를 추출해 보세요\n",
        "  - 다음중 올바른 (http, https) 웹페이지만 찾으시오"
      ]
    },
    {
      "cell_type": "code",
      "metadata": {
        "id": "1sFKzSyvP6sw",
        "colab": {
          "base_uri": "https://localhost:8080/"
        },
        "outputId": "9b8a242a-fa4a-44d7-e31e-87870f2aad69"
      },
      "source": [
        "import requests\n",
        "from bs4 import BeautifulSoup\n",
        "# 위의 두 모듈이 없는 경우에는 pip install requests bs4 실행\n",
        "\n",
        "def get_news_content(url):\n",
        "    response = requests.get(url)\n",
        "    content = response.text\n",
        "\n",
        "    soup = BeautifulSoup(content, 'html5lib')\n",
        "\n",
        "    div = soup.find('div', attrs = {'id' : 'harmonyContainer'})\n",
        "    \n",
        "    content = ''\n",
        "    for paragraph in div.find_all('p'):\n",
        "        content += paragraph.get_text()\n",
        "        \n",
        "    return content\n",
        "\n",
        "news1 = get_news_content('https://news.v.daum.net/v/20190617073049838')\n",
        "print(news1)\n"
      ],
      "execution_count": null,
      "outputs": [
        {
          "output_type": "stream",
          "text": [
            "(로스앤젤레스=연합뉴스) 옥철 특파원 = 팀 쿡 애플 최고경영자(CEO)가 16일(현지시간) 실리콘밸리 앞마당 격인 미국 서부 명문 스탠퍼드대학 학위수여식에서 테크기업들을 향해 쓴소리를 쏟아냈다.쿡은 이날 연설에서 실리콘밸리 테크기업들은 자신들이 만든 혼란에 대한 책임을 질 필요가 있다고 경고했다.근래 IT 업계의 가장 큰 이슈인 개인정보 침해, 사생활 보호 문제를 콕 집어 라이벌인 구글, 페이스북 등 IT 공룡을 겨냥한 발언이라는 해석이 나왔다.쿡은 \"최근 실리콘밸리 산업은 고귀한 혁신과는 점점 더 거리가 멀어지는 것으로 알려져 있다. 책임을 받아들이지 않고도 신뢰를 얻을 수 있다는 그런 믿음 말이다\"라고 꼬집었다.개인정보 유출 사건으로 미 의회 청문회에 줄줄이 불려 나간 경쟁사 CEO들을 향해 일침을 가한 것으로 보인다.그는 또 실리콘밸리에서 희대의 사기극을 연출한 바이오벤처 스타트업 테라노스(Theranos)를 직격했다.쿡은 \"피 한 방울로 거짓된 기적을 만들 수 있다고 믿었느냐\"면서 \"이런 식으로 혼돈의 공장을 만든다면 그 책임에서 절대 벗어날 수 없다\"라고 비난했다.테라노스는 손가락 끝을 찔러 극미량의 혈액 샘플만 있으면 각종 의학정보 분석은 물론 거의 모든 질병 진단이 가능한 바이오헬스 기술을 개발했다고 속여 월가 큰손들로부터 거액의 투자를 유치했다가 해당 기술이 사기인 것으로 드러나 청산한 기업이다.쿡은 애플의 경우 프라이버시(사생활) 보호에 초점을 맞춘 새로운 제품 기능들로 경쟁사들에 맞서고 있다며 자사의 데이터 보호 정책을 은근히 홍보하기도 했다.oakchul@yna.co.kr\n"
          ],
          "name": "stdout"
        }
      ]
    },
    {
      "cell_type": "code",
      "metadata": {
        "id": "b5VoUsABP6s3",
        "colab": {
          "base_uri": "https://localhost:8080/"
        },
        "outputId": "93b7f97e-9437-4ea6-d5bb-db25774cc454"
      },
      "source": [
        "email_reg = re.compile(r'[\\w-]+@[\\w.]+\\w+')\n",
        "email_reg.search(news1)"
      ],
      "execution_count": null,
      "outputs": [
        {
          "output_type": "execute_result",
          "data": {
            "text/plain": [
              "<_sre.SRE_Match object; span=(774, 791), match='oakchul@yna.co.kr'>"
            ]
          },
          "metadata": {
            "tags": []
          },
          "execution_count": 40
        }
      ]
    },
    {
      "cell_type": "code",
      "metadata": {
        "id": "IqIU4RuMP6ta"
      },
      "source": [
        "webs = ['http://www.test.co.kr', \n",
        "        'https://www.test1.com', \n",
        "        'http://www.test.com', \n",
        "          'ftp://www.test.com', \n",
        "        'http:://www.test.com',\n",
        "       'htp://www.test.com',\n",
        "       'http://www.google.com', \n",
        "       'https://www.homepage.com.']\n"
      ],
      "execution_count": null,
      "outputs": []
    },
    {
      "cell_type": "code",
      "metadata": {
        "id": "EN8Pacl2P6tk",
        "colab": {
          "base_uri": "https://localhost:8080/"
        },
        "outputId": "c7f12500-bf35-495d-9481-7a07abe70f24"
      },
      "source": [
        "web_reg = re.compile(r'https?://[\\w.]+\\w+$')\n",
        "list(map(lambda w:web_reg.search(w) != None, webs))"
      ],
      "execution_count": null,
      "outputs": [
        {
          "output_type": "execute_result",
          "data": {
            "text/plain": [
              "[True, True, True, False, False, False, True, False]"
            ]
          },
          "metadata": {
            "tags": []
          },
          "execution_count": 42
        }
      ]
    }
  ]
}