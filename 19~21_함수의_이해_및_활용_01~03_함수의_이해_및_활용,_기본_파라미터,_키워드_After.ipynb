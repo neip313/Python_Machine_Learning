{
  "nbformat": 4,
  "nbformat_minor": 0,
  "metadata": {
    "kernelspec": {
      "display_name": "Python 3",
      "language": "python",
      "name": "python3"
    },
    "language_info": {
      "codemirror_mode": {
        "name": "ipython",
        "version": 3
      },
      "file_extension": ".py",
      "mimetype": "text/x-python",
      "name": "python",
      "nbconvert_exporter": "python",
      "pygments_lexer": "ipython3",
      "version": "3.7.3"
    },
    "colab": {
      "name": "19~21.함수의 이해 및 활용 - 01~03.함수의 이해 및 활용, 기본 파라미터, 키워드_After.ipynb",
      "provenance": [],
      "include_colab_link": true
    }
  },
  "cells": [
    {
      "cell_type": "markdown",
      "metadata": {
        "id": "view-in-github",
        "colab_type": "text"
      },
      "source": [
        "<a href=\"https://colab.research.google.com/github/neip313/Python_Machine_Learning/blob/main/19~21_%ED%95%A8%EC%88%98%EC%9D%98_%EC%9D%B4%ED%95%B4_%EB%B0%8F_%ED%99%9C%EC%9A%A9_01~03_%ED%95%A8%EC%88%98%EC%9D%98_%EC%9D%B4%ED%95%B4_%EB%B0%8F_%ED%99%9C%EC%9A%A9%2C_%EA%B8%B0%EB%B3%B8_%ED%8C%8C%EB%9D%BC%EB%AF%B8%ED%84%B0%2C_%ED%82%A4%EC%9B%8C%EB%93%9C_After.ipynb\" target=\"_parent\"><img src=\"https://colab.research.google.com/assets/colab-badge.svg\" alt=\"Open In Colab\"/></a>"
      ]
    },
    {
      "cell_type": "markdown",
      "metadata": {
        "id": "Jpwx_pxKRO_9"
      },
      "source": [
        "### 학습목표\n",
        " 1. 함수의 이해\n",
        " 2. 함수 구현 및 사용 숙지"
      ]
    },
    {
      "cell_type": "markdown",
      "metadata": {
        "id": "qF5Ocvg1RPAG"
      },
      "source": [
        "### 함수?\n",
        "* 지금까지 무심코 코드에서 사용된 많은 함수들이 존재 합니다.\n",
        "* 예를들면, sum, len, range 같은 함수 등이 있죠.\n",
        "* 함수란 우리가 알고있는 개념처럼 주어진 입력(input)에 대해서 의도된 출력(output)를 전달하는 역할을 합니다.\n",
        "\n",
        "* 그렇다면, 하나씩 살펴보겠습니다.\n",
        "  > range 함수는 정수를 입력으로 전달하면 [0, 정수) 로 이루어진 리스트를 생성하는 역할을 합니다.\n",
        "  \n",
        "  > sum 함수는 리스트, 튜플등을 입력으로 전달하면 전체 아이템의 합을 출력으로 전달하는 역할을 합니다.\n",
        "  \n",
        "  > len 함수는 리스트, 튜플등을 입력으로 전달하면 아이템의 개수를 출력으로 전달하는 역할을 합니다.\n",
        "  \n",
        "* 그리고, 위의 함수들은 모두 python 내부에 이미 정의(구현)이 되어 있습니다.\n",
        "* 위와 같은 함수를 내장함수(built-in function)이라고 합니다."
      ]
    },
    {
      "cell_type": "code",
      "metadata": {
        "id": "ItNmnuWiRPAI",
        "colab": {
          "base_uri": "https://localhost:8080/"
        },
        "outputId": "e7b28f28-da12-4f4f-f315-64b97d622984"
      },
      "source": [
        "# 내장 함수의 예\n",
        "a = [1, 2, 3, 4]\n",
        "length = len(a)\n",
        "print(length)\n",
        "\n",
        "summation = sum(a)\n",
        "print(summation)"
      ],
      "execution_count": null,
      "outputs": [
        {
          "output_type": "stream",
          "text": [
            "4\n",
            "10\n"
          ],
          "name": "stdout"
        }
      ]
    },
    {
      "cell_type": "markdown",
      "metadata": {
        "id": "K9VNMSqfRPAR"
      },
      "source": [
        "#### **함수의 정의**\n",
        "  + 정의 시 최초에 def 키워드 사용\n",
        "  + argument 정의 (함수에 입력으로 전달하는 값을 의미, argument 또는 parameter라고 함) \n",
        "  + : (콜론) -> 함수 역시 코드 블록이기 때문에 콜론(:) 필요\n",
        "  + body (함수의 구현 부분, 함수 역시 코드 블록이기 때문에 들여쓰기 된 부분까지 함수의 코드블록으로 인지 함)\n",
        "    - 함수를 호출한 코드 (caller)로 함수가 해당 기능을 수행하고 완료된 값(output)을 전달하기 위해 return 키워드 사용\n",
        "    - 즉, return 이후에 오는 값을 caller로 전달\n",
        "  + 함수의 네이밍 역시 중요\n",
        "    - 즉, 어떤 기능을 하는 함수인지 이름으로 최대한 나타날 수 있게 해야함\n",
        "    - e.g) get_a (x) get_student_name (o)"
      ]
    },
    {
      "cell_type": "code",
      "metadata": {
        "id": "_6-CIHvyRPAT"
      },
      "source": [
        "def add(x, y):\n",
        "    n = x + y\n",
        "    return n"
      ],
      "execution_count": null,
      "outputs": []
    },
    {
      "cell_type": "code",
      "metadata": {
        "id": "hxEbN-OYRPAZ",
        "colab": {
          "base_uri": "https://localhost:8080/"
        },
        "outputId": "c63d2e23-3b1e-40cd-e99f-aafa3cb6d75c"
      },
      "source": [
        "l = 3\n",
        "c = add(30, 300)\n",
        "\n",
        "print(c)"
      ],
      "execution_count": null,
      "outputs": [
        {
          "output_type": "stream",
          "text": [
            "330\n"
          ],
          "name": "stdout"
        }
      ]
    },
    {
      "cell_type": "markdown",
      "metadata": {
        "id": "YIwXXMIYRPAe"
      },
      "source": [
        "#### **함수의 사용(호출)**\n",
        " + 함수명(파라미터1, 파라미터2, ... 파라미터n)\n",
        " + 위와 같이 정의 된 함수의 이름과 전달되는 parameter(인자)를 괄호안에 전달하여 함수를 호출\n",
        " + 함수가 호출되면 실행의 흐름이 호출자(caller)에서 함수(callee)로 변경 됨\n",
        " \n",
        " + 함수의 입력(인풋) 파라미터(parameter), 아규먼트(argument)라고도 함"
      ]
    },
    {
      "cell_type": "code",
      "metadata": {
        "id": "tSNNn5XBRPAf",
        "colab": {
          "base_uri": "https://localhost:8080/"
        },
        "outputId": "d7d0e3a6-674d-4ac4-9aff-bb18fe4c1f44"
      },
      "source": [
        "c = add(30, 40)\n",
        "print(c)"
      ],
      "execution_count": null,
      "outputs": [
        {
          "output_type": "stream",
          "text": [
            "70\n"
          ],
          "name": "stdout"
        }
      ]
    },
    {
      "cell_type": "markdown",
      "metadata": {
        "id": "R8c9QtUHRPAo"
      },
      "source": [
        "#### **함수 네이밍(naming)**\n",
        "  * 함수 이름으로부터 기능이 명시 \n",
        "  * 의미와 반대되거나 맞지 않는 이름은 사용금지"
      ]
    },
    {
      "cell_type": "code",
      "metadata": {
        "id": "WXoOTmYYRPAp",
        "colab": {
          "base_uri": "https://localhost:8080/"
        },
        "outputId": "ab6e306a-9c7c-407b-aa7c-6044c3204da3"
      },
      "source": [
        "def substract(x, y):\n",
        "    sub = x - y\n",
        "    return sub\n",
        "\n",
        "print(substract(4, 3))"
      ],
      "execution_count": null,
      "outputs": [
        {
          "output_type": "stream",
          "text": [
            "1\n"
          ],
          "name": "stdout"
        }
      ]
    },
    {
      "cell_type": "markdown",
      "metadata": {
        "id": "iRHwuXZvRPAu"
      },
      "source": [
        "#### **parameter(argument) (인자)**\n",
        " + 함수에 전달되는 입력(input)\n",
        " + 입력이 필요하지 않을 수도, 1개의 입력만 있을 수도, 여러개의 입력이 존재할 수 도 있음\n",
        " + 파라미터로 int, string, float, boolm, list, dict 등등 어떤 파이썬 객체도 전달 가능\n",
        " + 심지어, 함수도 함수의 파라미터로 전달 가능\n",
        " \n",
        " + python의 경우, 타입 명시가 없기 때문에, 함수 생성 시, 의도된 파라미터의 타입에 맞게 입력을 전달하는 것이 중요\n",
        " + 또한 파라미터를 전달 할 때, 정의된 순서에 따라 값을 전달하는 것이 중요\n"
      ]
    },
    {
      "cell_type": "code",
      "metadata": {
        "id": "m9SUX22kRPAv",
        "colab": {
          "base_uri": "https://localhost:8080/"
        },
        "outputId": "25725ddd-f1ce-4a28-eac0-c869031d2303"
      },
      "source": [
        "def substract(x, y):\n",
        "    sub = x - y\n",
        "    return sub\n",
        "\n",
        "a = substract(100, 70)\n",
        "print(a)"
      ],
      "execution_count": null,
      "outputs": [
        {
          "output_type": "stream",
          "text": [
            "30\n"
          ],
          "name": "stdout"
        }
      ]
    },
    {
      "cell_type": "markdown",
      "metadata": {
        "id": "HrZihY6pRPA5"
      },
      "source": [
        "####  Default parameter (기본 인자) \n",
        " + 함수의 파라미터에 기본값 지정 가능\n",
        " + 파라미터를 명시하지 않을 경우, 지정된 기본값으로 대체"
      ]
    },
    {
      "cell_type": "code",
      "metadata": {
        "id": "lSMd83g8RPA6",
        "colab": {
          "base_uri": "https://localhost:8080/"
        },
        "outputId": "a7282212-8296-4ff1-cfeb-b91a9a1cf134"
      },
      "source": [
        "def add(x, y=10, z=5):\n",
        "    a = x + y + z\n",
        "    return a\n",
        "\n",
        "add(10, 1, 2)"
      ],
      "execution_count": null,
      "outputs": [
        {
          "output_type": "execute_result",
          "data": {
            "text/plain": [
              "13"
            ]
          },
          "metadata": {
            "tags": []
          },
          "execution_count": 7
        }
      ]
    },
    {
      "cell_type": "markdown",
      "metadata": {
        "id": "9NdyaDngRPBP"
      },
      "source": [
        "* **기본 파라미터의 다른 예**\n",
        " - print 함수\n",
        "   - sep, end, file등 여러 기본 파라미터를 가짐 "
      ]
    },
    {
      "cell_type": "code",
      "metadata": {
        "id": "YgH7tizMRPBQ",
        "colab": {
          "base_uri": "https://localhost:8080/"
        },
        "outputId": "cc7f4c26-2508-4add-f037-05cf70a70129"
      },
      "source": [
        "print(1, 2, 3, sep='!', end='%%%')\n",
        "print(2, 3, 4, sep='p')"
      ],
      "execution_count": null,
      "outputs": [
        {
          "output_type": "stream",
          "text": [
            "1!2!3%%%2p3p4\n"
          ],
          "name": "stdout"
        }
      ]
    },
    {
      "cell_type": "markdown",
      "metadata": {
        "id": "pFgGTBhCRPBW"
      },
      "source": [
        "####  Default parameter 사용 시 주의 점\n",
        "  * 디폴트 파라미터 뒤에 일반 파라미터가 위치할 수 없음\n",
        "  \n",
        "  * e.g) 올바른 예\n",
        "    > def test(a, b, c = 1)\n",
        "    \n",
        "    > def test(a, b = 1, c = 2)\n",
        "    \n",
        "    > def test(a = 1, b = 1, c = 3)\n",
        "    \n",
        "  * e.g) 올바르지 않은 예\n",
        "    > def test(a, b = 1, c)\n",
        "    \n",
        "    > def test(a = 1, b, c)\n",
        "    \n",
        "    > def test(a = 1, b = 1, c)"
      ]
    },
    {
      "cell_type": "code",
      "metadata": {
        "id": "7yO6jVTxRPBY",
        "colab": {
          "base_uri": "https://localhost:8080/",
          "height": 136
        },
        "outputId": "05f2e0e3-99d6-4349-c061-f931c5feef4e"
      },
      "source": [
        "def test(a, b=3, c):\n",
        "    print(a, b, c)\n",
        "    \n",
        "test(10, 20, 1)"
      ],
      "execution_count": null,
      "outputs": [
        {
          "output_type": "error",
          "ename": "SyntaxError",
          "evalue": "ignored",
          "traceback": [
            "\u001b[0;36m  File \u001b[0;32m\"<ipython-input-9-a26a25714758>\"\u001b[0;36m, line \u001b[0;32m1\u001b[0m\n\u001b[0;31m    def test(a, b=3, c):\u001b[0m\n\u001b[0m            ^\u001b[0m\n\u001b[0;31mSyntaxError\u001b[0m\u001b[0;31m:\u001b[0m non-default argument follows default argument\n"
          ]
        }
      ]
    },
    {
      "cell_type": "markdown",
      "metadata": {
        "id": "ha-d4CuiRPBd"
      },
      "source": [
        "#### **keyword parameter (키워드 파라미터)**\n",
        "  * 파이썬의 경우, 파라미터에 값을 전달 할 때, 파라미터의 이름을 명시하여 전달 가능\n",
        "  * 파라미터 이름을 사용하지 않을 경우, 기본적으로 순서에 맞게 전달"
      ]
    },
    {
      "cell_type": "code",
      "metadata": {
        "id": "_VWWJBCyRPBe"
      },
      "source": [
        "def test(x, y, z):\n",
        "    a = x + y + z\n",
        "    return a\n",
        "\n",
        "test(x=10, y=50, z=3)"
      ],
      "execution_count": null,
      "outputs": []
    },
    {
      "cell_type": "markdown",
      "metadata": {
        "id": "LxVFjHnORPBi"
      },
      "source": [
        "#### **return (리턴)**\n",
        " + 기본적으로 함수의 종료를 명시\n",
        "   + return 옆에 값이나 수식이 있다면 해당 값을 호출자(caller)에게 반환(전달)\n",
        "   + return 만 존재하면 None 반환\n",
        "   + return이 없는 경우, 기본적으로 함수 코드 블록이 종료되면 종료로 간주. 이때도 None 반환"
      ]
    },
    {
      "cell_type": "code",
      "metadata": {
        "id": "nVhSC0N9RPBm"
      },
      "source": [
        "def weird_multiply(x, y):\n",
        "    if x > 10:\n",
        "        return x * y\n",
        "    \n",
        "    print(x + y)\n",
        "    return (x + 2) * y\n",
        "\n",
        "weird_multiply(12, 5)"
      ],
      "execution_count": null,
      "outputs": []
    },
    {
      "cell_type": "code",
      "metadata": {
        "id": "l2QJbtcRRPBr"
      },
      "source": [
        "def weird_multiply(x, y):\n",
        "    if x > 10:\n",
        "        return x * y\n",
        "    \n",
        "    print(x + y)\n",
        "    return (x + 2) * y\n",
        "\n",
        "c = weird_multiply(12, 5)\n",
        "print(c)"
      ],
      "execution_count": null,
      "outputs": []
    },
    {
      "cell_type": "code",
      "metadata": {
        "id": "tuwy_ttARPBx"
      },
      "source": [
        "def weird_multiply(x, y):\n",
        "    if x > 10:\n",
        "        return x * y\n",
        "    \n",
        "c = weird_multiply(2, 5)\n",
        "print(c)"
      ],
      "execution_count": null,
      "outputs": []
    },
    {
      "cell_type": "markdown",
      "metadata": {
        "id": "Ox3c7GrKRPB-"
      },
      "source": [
        "#### **multiple return (복수 값 반환)**\n",
        " + tuple반환을 하여 복수개의 값 리턴 가능"
      ]
    },
    {
      "cell_type": "code",
      "metadata": {
        "id": "iMztFP63RPB-"
      },
      "source": [
        "def add_mul(x, y):\n",
        "    s = x + y\n",
        "    m = x * y\n",
        "    \n",
        "    return s, m\n",
        "\n",
        "a, b = add_mul(20, 3)\n",
        "print(a, b)"
      ],
      "execution_count": null,
      "outputs": []
    },
    {
      "cell_type": "markdown",
      "metadata": {
        "id": "5gbagA0BRPCH"
      },
      "source": [
        "#### **variable scope (변수의 범위)** \n",
        " + 변수가 참조 가능한 코드상의 범위를 명시\n",
        " + 함수내의 변수는 자신이 속한 코드 블록이 종료되면 소멸됨\n",
        " + 이렇게 특정 코드 블록에서 선언된 변수를 **지역변수(local variable)** 이라고 함\n",
        " + 반대로 가장 상단에서 정의되어 프로그램 종료 전까지 유지되는 변수를 **전역변수(global variable)**이라고 함\n",
        " + 같은 이름의 지역변수와 전역변수가 존재할 경우, 지역변수의 우선순위가 더 높음"
      ]
    },
    {
      "cell_type": "code",
      "metadata": {
        "id": "vYGUALVSRPCI"
      },
      "source": [
        "print(num1, num2)"
      ],
      "execution_count": null,
      "outputs": []
    },
    {
      "cell_type": "code",
      "metadata": {
        "id": "ZPboVVnHRPCN"
      },
      "source": [
        "num1 = 10\n",
        "num2 = 30\n",
        "\n",
        "def test(num1, num2):\n",
        "    print(num1, num2)\n",
        "    return num1 + num2\n",
        "\n",
        "test(30, 40)\n",
        "print(num1, num2)\n",
        "    "
      ],
      "execution_count": null,
      "outputs": []
    },
    {
      "cell_type": "markdown",
      "metadata": {
        "id": "rOpjzbLGRPCV"
      },
      "source": [
        "#### **variable length argument (가변길이 인자)**\n",
        " - 전달되는 파라미터의 개수가 고정적이지 않은 경우 사용\n",
        " - e.g)\n",
        "   - print 함수\n",
        "   - format 함수\n",
        "  \n",
        "> ***args**,  ****kwargs**\n",
        "\n",
        "> ***args**    : 파라미터를 튜플의 형태로 전달\n",
        "\n",
        "> ****kwargs** : 파리미터를 딕셔너리 형태로 전달(네임드 파라미터)"
      ]
    },
    {
      "cell_type": "code",
      "metadata": {
        "id": "UuemVVoHRPCX"
      },
      "source": [
        "def test(*args): # arguments\n",
        "    for item in args:\n",
        "        print(item)\n",
        "    \n",
        "test(10, 30, 40, 50, 60, 70)\n",
        "    "
      ],
      "execution_count": null,
      "outputs": []
    },
    {
      "cell_type": "markdown",
      "metadata": {
        "id": "8tzH8pX5RPCe"
      },
      "source": [
        "#### **keyword parameter (키워드 파라미터)**\n",
        " - \\**가 붙은 경우에는 키워드 파라미터로 인식\n",
        " - 즉 함수 호출 시, 파리미터의 이름과 값을 함께 전달 가능"
      ]
    },
    {
      "cell_type": "code",
      "metadata": {
        "id": "CUmvjePNRPCf"
      },
      "source": [
        "def test2(**kwargs): # key word arguments \n",
        "    for key, value in kwargs.items():\n",
        "        print('key:', key, ', value:', value)\n",
        "    \n",
        "test2(a=1)\n",
        "    "
      ],
      "execution_count": null,
      "outputs": []
    },
    {
      "cell_type": "markdown",
      "metadata": {
        "id": "Q_iwuTyERPCk"
      },
      "source": [
        "* 가변길이 함수의 대표적인 예\n",
        " **문자열 포맷 함수**\n",
        " - 여러가지 값과 포맷을 이용하여 문자열을 정의할 수 있는 함수\n",
        " - {} placeholder를 문자열 내에 위치 시킨 후, 해당 위치에 format함수로 전달된 값으로 대체하여 문자열 생성\n",
        " - 포맷 구성은 다음 링크 참조 : https://pyformat.info/"
      ]
    },
    {
      "cell_type": "code",
      "metadata": {
        "id": "Dq1GmI5LRPCp"
      },
      "source": [
        "a = '오늘 온도: {today_temp}도, 강수확률은: {today_prob}% 내일온도: {tomorrow_temp}도'.format(tomorrow_temp=23, today_prob=40, today_temp=40)\n",
        "print(a)"
      ],
      "execution_count": null,
      "outputs": []
    },
    {
      "cell_type": "code",
      "metadata": {
        "id": "fzgn3CjnRPCt"
      },
      "source": [
        ""
      ],
      "execution_count": null,
      "outputs": []
    },
    {
      "cell_type": "code",
      "metadata": {
        "id": "DGtxInTPRPCy"
      },
      "source": [
        ""
      ],
      "execution_count": null,
      "outputs": []
    },
    {
      "cell_type": "code",
      "metadata": {
        "id": "LRkR8MaPRPC5"
      },
      "source": [
        ""
      ],
      "execution_count": null,
      "outputs": []
    },
    {
      "cell_type": "code",
      "metadata": {
        "id": "OXYDOyA9RPC-"
      },
      "source": [
        ""
      ],
      "execution_count": null,
      "outputs": []
    }
  ]
}