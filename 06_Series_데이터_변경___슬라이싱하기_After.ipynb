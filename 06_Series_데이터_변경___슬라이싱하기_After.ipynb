{
  "nbformat": 4,
  "nbformat_minor": 0,
  "metadata": {
    "kernelspec": {
      "display_name": "Python 3",
      "language": "python",
      "name": "python3"
    },
    "language_info": {
      "codemirror_mode": {
        "name": "ipython",
        "version": 3
      },
      "file_extension": ".py",
      "mimetype": "text/x-python",
      "name": "python",
      "nbconvert_exporter": "python",
      "pygments_lexer": "ipython3",
      "version": "3.7.3"
    },
    "colab": {
      "name": "06. Series 데이터 변경 _ 슬라이싱하기_After.ipynb",
      "provenance": [],
      "include_colab_link": true
    }
  },
  "cells": [
    {
      "cell_type": "markdown",
      "metadata": {
        "id": "view-in-github",
        "colab_type": "text"
      },
      "source": [
        "<a href=\"https://colab.research.google.com/github/neip313/Python_Machine_Learning/blob/main/06_Series_%EB%8D%B0%EC%9D%B4%ED%84%B0_%EB%B3%80%EA%B2%BD___%EC%8A%AC%EB%9D%BC%EC%9D%B4%EC%8B%B1%ED%95%98%EA%B8%B0_After.ipynb\" target=\"_parent\"><img src=\"https://colab.research.google.com/assets/colab-badge.svg\" alt=\"Open In Colab\"/></a>"
      ]
    },
    {
      "cell_type": "markdown",
      "metadata": {
        "id": "TRfSopWZAgIB"
      },
      "source": [
        "## 학습목표\n",
        " 1. pandas Series 이해하기"
      ]
    },
    {
      "cell_type": "code",
      "metadata": {
        "id": "4lsoP6TPAgIB"
      },
      "source": [
        "import numpy as np\n",
        "import pandas as pd"
      ],
      "execution_count": 1,
      "outputs": []
    },
    {
      "cell_type": "markdown",
      "metadata": {
        "id": "mRNhgYGSAgIC"
      },
      "source": [
        "#### **Series 값 변경**\n",
        "  - 추가 및 업데이트: 인덱스를 이용\n",
        "  - 삭제: drop함수 이용\n"
      ]
    },
    {
      "cell_type": "code",
      "metadata": {
        "colab": {
          "base_uri": "https://localhost:8080/"
        },
        "id": "6oloGfflAgIC",
        "outputId": "847d8957-baba-49b0-8282-3150b06327e9"
      },
      "source": [
        "s = pd.Series(np.arange(100, 105), ['a', 'b', 'c', 'd', 'e'])\n",
        "s"
      ],
      "execution_count": 2,
      "outputs": [
        {
          "output_type": "execute_result",
          "data": {
            "text/plain": [
              "a    100\n",
              "b    101\n",
              "c    102\n",
              "d    103\n",
              "e    104\n",
              "dtype: int64"
            ]
          },
          "metadata": {
            "tags": []
          },
          "execution_count": 2
        }
      ]
    },
    {
      "cell_type": "code",
      "metadata": {
        "colab": {
          "base_uri": "https://localhost:8080/"
        },
        "id": "bhP0KYTaAgIC",
        "outputId": "0e1a15a9-81a5-4344-e676-bc0d41abcc8c"
      },
      "source": [
        "s['a'] = 200\n",
        "s"
      ],
      "execution_count": 3,
      "outputs": [
        {
          "output_type": "execute_result",
          "data": {
            "text/plain": [
              "a    200\n",
              "b    101\n",
              "c    102\n",
              "d    103\n",
              "e    104\n",
              "dtype: int64"
            ]
          },
          "metadata": {
            "tags": []
          },
          "execution_count": 3
        }
      ]
    },
    {
      "cell_type": "code",
      "metadata": {
        "colab": {
          "base_uri": "https://localhost:8080/"
        },
        "id": "O6wXSSzXAgIC",
        "outputId": "81a6bd82-df7e-44fb-ac31-6e68dc18f33b"
      },
      "source": [
        "s['k'] = 300\n",
        "s"
      ],
      "execution_count": 4,
      "outputs": [
        {
          "output_type": "execute_result",
          "data": {
            "text/plain": [
              "a    200\n",
              "b    101\n",
              "c    102\n",
              "d    103\n",
              "e    104\n",
              "k    300\n",
              "dtype: int64"
            ]
          },
          "metadata": {
            "tags": []
          },
          "execution_count": 4
        }
      ]
    },
    {
      "cell_type": "code",
      "metadata": {
        "id": "uktb7Zv6AgIC"
      },
      "source": [
        "s.drop('k', inplace=True)"
      ],
      "execution_count": 5,
      "outputs": []
    },
    {
      "cell_type": "code",
      "metadata": {
        "colab": {
          "base_uri": "https://localhost:8080/"
        },
        "id": "deK1nZSAAgIC",
        "outputId": "7d447d80-3281-4db4-a818-d3c3bef5cd01"
      },
      "source": [
        "s"
      ],
      "execution_count": 6,
      "outputs": [
        {
          "output_type": "execute_result",
          "data": {
            "text/plain": [
              "a    200\n",
              "b    101\n",
              "c    102\n",
              "d    103\n",
              "e    104\n",
              "dtype: int64"
            ]
          },
          "metadata": {
            "tags": []
          },
          "execution_count": 6
        }
      ]
    },
    {
      "cell_type": "code",
      "metadata": {
        "colab": {
          "base_uri": "https://localhost:8080/"
        },
        "id": "BokCe6hsAgIC",
        "outputId": "78f5faa2-e743-46dc-c5e2-c3d70712331a"
      },
      "source": [
        "s[['a', 'b']] = [300, 900]\n",
        "s"
      ],
      "execution_count": 7,
      "outputs": [
        {
          "output_type": "execute_result",
          "data": {
            "text/plain": [
              "a    300\n",
              "b    900\n",
              "c    102\n",
              "d    103\n",
              "e    104\n",
              "dtype: int64"
            ]
          },
          "metadata": {
            "tags": []
          },
          "execution_count": 7
        }
      ]
    },
    {
      "cell_type": "markdown",
      "metadata": {
        "id": "R286mb_OAgIC"
      },
      "source": [
        "#### **Slicing**\n",
        " - 리스트, ndarray와 동일하게 적용"
      ]
    },
    {
      "cell_type": "code",
      "metadata": {
        "colab": {
          "base_uri": "https://localhost:8080/"
        },
        "id": "0Ab92aotAgIC",
        "outputId": "90a516ff-621f-49eb-d060-841fcbe95085"
      },
      "source": [
        "s1 = pd.Series(np.arange(100, 105))\n",
        "s1"
      ],
      "execution_count": 8,
      "outputs": [
        {
          "output_type": "execute_result",
          "data": {
            "text/plain": [
              "0    100\n",
              "1    101\n",
              "2    102\n",
              "3    103\n",
              "4    104\n",
              "dtype: int64"
            ]
          },
          "metadata": {
            "tags": []
          },
          "execution_count": 8
        }
      ]
    },
    {
      "cell_type": "code",
      "metadata": {
        "colab": {
          "base_uri": "https://localhost:8080/"
        },
        "id": "lhVaqUaEAgIC",
        "outputId": "c057cf74-6fa2-4687-9b09-d64f654d9275"
      },
      "source": [
        "s1[1:3]"
      ],
      "execution_count": 9,
      "outputs": [
        {
          "output_type": "execute_result",
          "data": {
            "text/plain": [
              "1    101\n",
              "2    102\n",
              "dtype: int64"
            ]
          },
          "metadata": {
            "tags": []
          },
          "execution_count": 9
        }
      ]
    },
    {
      "cell_type": "code",
      "metadata": {
        "colab": {
          "base_uri": "https://localhost:8080/"
        },
        "id": "zgj2TGMaAgIC",
        "outputId": "1c93a612-c24f-4de1-d0f6-6d8880022c45"
      },
      "source": [
        "s2 = pd.Series(np.arange(100, 105), ['a', 'c', 'b', 'd', 'e'])\n",
        "s2"
      ],
      "execution_count": 10,
      "outputs": [
        {
          "output_type": "execute_result",
          "data": {
            "text/plain": [
              "a    100\n",
              "c    101\n",
              "b    102\n",
              "d    103\n",
              "e    104\n",
              "dtype: int64"
            ]
          },
          "metadata": {
            "tags": []
          },
          "execution_count": 10
        }
      ]
    },
    {
      "cell_type": "code",
      "metadata": {
        "colab": {
          "base_uri": "https://localhost:8080/"
        },
        "id": "EEY9QcEMAgIC",
        "outputId": "33c6bdc2-692c-40e8-bbd3-812befbdb25b"
      },
      "source": [
        "s2[1:3]"
      ],
      "execution_count": 11,
      "outputs": [
        {
          "output_type": "execute_result",
          "data": {
            "text/plain": [
              "c    101\n",
              "b    102\n",
              "dtype: int64"
            ]
          },
          "metadata": {
            "tags": []
          },
          "execution_count": 11
        }
      ]
    },
    {
      "cell_type": "code",
      "metadata": {
        "colab": {
          "base_uri": "https://localhost:8080/"
        },
        "id": "6gSGLOfKAgIC",
        "outputId": "39d5b23c-e584-4eeb-a96f-5c3b2a973417"
      },
      "source": [
        "s2['c':'d']"
      ],
      "execution_count": 12,
      "outputs": [
        {
          "output_type": "execute_result",
          "data": {
            "text/plain": [
              "c    101\n",
              "b    102\n",
              "d    103\n",
              "dtype: int64"
            ]
          },
          "metadata": {
            "tags": []
          },
          "execution_count": 12
        }
      ]
    },
    {
      "cell_type": "code",
      "metadata": {
        "id": "mWETXUAZAgIC"
      },
      "source": [
        ""
      ],
      "execution_count": 12,
      "outputs": []
    }
  ]
}