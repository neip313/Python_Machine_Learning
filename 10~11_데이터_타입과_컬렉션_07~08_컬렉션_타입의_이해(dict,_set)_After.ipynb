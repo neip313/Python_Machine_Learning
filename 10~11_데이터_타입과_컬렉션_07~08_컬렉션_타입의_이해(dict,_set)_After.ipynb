{
  "nbformat": 4,
  "nbformat_minor": 0,
  "metadata": {
    "kernelspec": {
      "display_name": "Python 3",
      "language": "python",
      "name": "python3"
    },
    "language_info": {
      "codemirror_mode": {
        "name": "ipython",
        "version": 3
      },
      "file_extension": ".py",
      "mimetype": "text/x-python",
      "name": "python",
      "nbconvert_exporter": "python",
      "pygments_lexer": "ipython3",
      "version": "3.7.3"
    },
    "colab": {
      "name": "10~11.데이터 타입과 컬렉션 - 07~08.컬렉션 타입의 이해(dict, set)_After.ipynb",
      "provenance": [],
      "include_colab_link": true
    }
  },
  "cells": [
    {
      "cell_type": "markdown",
      "metadata": {
        "id": "view-in-github",
        "colab_type": "text"
      },
      "source": [
        "<a href=\"https://colab.research.google.com/github/neip313/Python_Machine_Learning/blob/main/10~11_%EB%8D%B0%EC%9D%B4%ED%84%B0_%ED%83%80%EC%9E%85%EA%B3%BC_%EC%BB%AC%EB%A0%89%EC%85%98_07~08_%EC%BB%AC%EB%A0%89%EC%85%98_%ED%83%80%EC%9E%85%EC%9D%98_%EC%9D%B4%ED%95%B4(dict%2C_set)_After.ipynb\" target=\"_parent\"><img src=\"https://colab.research.google.com/assets/colab-badge.svg\" alt=\"Open In Colab\"/></a>"
      ]
    },
    {
      "cell_type": "markdown",
      "metadata": {
        "id": "7sUN22jvSJFl"
      },
      "source": [
        "## 학습목표\n",
        " 1. dictionary, set에 대해 이해 및 실습\n"
      ]
    },
    {
      "cell_type": "markdown",
      "metadata": {
        "id": "wLXQ9IPUSJFt"
      },
      "source": [
        "### **dictionary**\n",
        " + 키와 값을 갖는 데이터 구조\n",
        " + 키는 내부적으로 hash값으로 저장\n",
        " + 순서를 따지지 않음. 즉, 인덱스가 없음"
      ]
    },
    {
      "cell_type": "code",
      "metadata": {
        "id": "Vu2HrWr5SJFv",
        "colab": {
          "base_uri": "https://localhost:8080/",
          "height": 208
        },
        "outputId": "e1208fb3-84e1-474a-a051-5c6e05fb0082"
      },
      "source": [
        "a = {'Korea': 'Seoul', \n",
        "     'Canada': 'Ottawa', \n",
        "     'USA': 'Washington D.C'}\n",
        "b = {0:1, 1:6, 7:9, 8:10}\n",
        "print(b[2])"
      ],
      "execution_count": null,
      "outputs": [
        {
          "output_type": "error",
          "ename": "KeyError",
          "evalue": "ignored",
          "traceback": [
            "\u001b[0;31m---------------------------------------------------------------------------\u001b[0m",
            "\u001b[0;31mKeyError\u001b[0m                                  Traceback (most recent call last)",
            "\u001b[0;32m<ipython-input-1-7c9bb174f54f>\u001b[0m in \u001b[0;36m<module>\u001b[0;34m()\u001b[0m\n\u001b[1;32m      3\u001b[0m      'USA': 'Washington D.C'}\n\u001b[1;32m      4\u001b[0m \u001b[0mb\u001b[0m \u001b[0;34m=\u001b[0m \u001b[0;34m{\u001b[0m\u001b[0;36m0\u001b[0m\u001b[0;34m:\u001b[0m\u001b[0;36m1\u001b[0m\u001b[0;34m,\u001b[0m \u001b[0;36m1\u001b[0m\u001b[0;34m:\u001b[0m\u001b[0;36m6\u001b[0m\u001b[0;34m,\u001b[0m \u001b[0;36m7\u001b[0m\u001b[0;34m:\u001b[0m\u001b[0;36m9\u001b[0m\u001b[0;34m,\u001b[0m \u001b[0;36m8\u001b[0m\u001b[0;34m:\u001b[0m\u001b[0;36m10\u001b[0m\u001b[0;34m}\u001b[0m\u001b[0;34m\u001b[0m\u001b[0;34m\u001b[0m\u001b[0m\n\u001b[0;32m----> 5\u001b[0;31m \u001b[0mprint\u001b[0m\u001b[0;34m(\u001b[0m\u001b[0mb\u001b[0m\u001b[0;34m[\u001b[0m\u001b[0;36m2\u001b[0m\u001b[0;34m]\u001b[0m\u001b[0;34m)\u001b[0m\u001b[0;34m\u001b[0m\u001b[0;34m\u001b[0m\u001b[0m\n\u001b[0m",
            "\u001b[0;31mKeyError\u001b[0m: 2"
          ]
        }
      ]
    },
    {
      "cell_type": "markdown",
      "metadata": {
        "id": "TaF77a06SJF4"
      },
      "source": [
        "+ **항목 추가 및 변경**\n",
        " - 기존에 키가 존재 하면, 새로운 값으로 업데이트\n",
        " - 존재하지 않으면, 새로운 키, 값 생성"
      ]
    },
    {
      "cell_type": "code",
      "metadata": {
        "id": "EOPOMZGsSJF6",
        "colab": {
          "base_uri": "https://localhost:8080/"
        },
        "outputId": "73675c75-7543-4f2c-f11a-ca6d3e9c76fd"
      },
      "source": [
        "a = {'Korea': 'Seoul', \n",
        "     'Canada': 'Ottawa', \n",
        "     'USA': 'Washington D.C'}\n",
        "\n",
        "a['Japan'] = 'Tokyo'\n",
        "a['Japan'] = 'Kyoto'\n",
        "a['Japan2'] = 'Kyoto'\n",
        "a['China'] = 'Beijing'\n",
        "\n",
        "print(a)"
      ],
      "execution_count": null,
      "outputs": [
        {
          "output_type": "stream",
          "text": [
            "{'Korea': 'Seoul', 'Canada': 'Ottawa', 'USA': 'Washington D.C', 'Japan': 'Kyoto', 'Japan2': 'Kyoto', 'China': 'Beijing'}\n"
          ],
          "name": "stdout"
        }
      ]
    },
    {
      "cell_type": "markdown",
      "metadata": {
        "id": "h8OQRM_TSJGB"
      },
      "source": [
        "+ **update()**\n",
        " * 두 딕셔너리를 병합함\n",
        " * 겹치는 키가 있다면 parameter로 전달되는 키 값이 overwrite된다."
      ]
    },
    {
      "cell_type": "code",
      "metadata": {
        "id": "X-LjH0NESJGC",
        "colab": {
          "base_uri": "https://localhost:8080/"
        },
        "outputId": "d1cb0cda-d8ed-41dc-9c7d-ba512c936329"
      },
      "source": [
        "a = {'a': 1, 'b': 2, 'c' : 3}\n",
        "b = {'a': 2, 'd': 4, 'e': 5}\n",
        "\n",
        "a.update(b)\n",
        "\n",
        "print(a)"
      ],
      "execution_count": null,
      "outputs": [
        {
          "output_type": "stream",
          "text": [
            "{'a': 2, 'b': 2, 'c': 3, 'd': 4, 'e': 5}\n"
          ],
          "name": "stdout"
        }
      ]
    },
    {
      "cell_type": "markdown",
      "metadata": {
        "id": "8SSDqYtySJGI"
      },
      "source": [
        "* **key삭제**\n",
        " - del 키워드 사용\n",
        " - pop 함수 이용"
      ]
    },
    {
      "cell_type": "code",
      "metadata": {
        "id": "Qs3uc2smSJGJ",
        "colab": {
          "base_uri": "https://localhost:8080/"
        },
        "outputId": "20fb00df-2304-4b9e-eefc-ed9fe14c06b9"
      },
      "source": [
        "a = {'a': 1, 'b': 2, 'c' : 3}\n",
        "print(a)\n",
        "\n",
        "# a.pop('b')\n",
        "del a['b']\n",
        "print(a)"
      ],
      "execution_count": null,
      "outputs": [
        {
          "output_type": "stream",
          "text": [
            "{'a': 1, 'b': 2, 'c': 3}\n",
            "{'a': 1, 'c': 3}\n"
          ],
          "name": "stdout"
        }
      ]
    },
    {
      "cell_type": "markdown",
      "metadata": {
        "id": "6XWtnLZdSJGP"
      },
      "source": [
        "* **clear()**\n",
        " + 딕셔너리의 모든 값을 초기화\n"
      ]
    },
    {
      "cell_type": "code",
      "metadata": {
        "id": "7tG-9N-3SJGQ",
        "colab": {
          "base_uri": "https://localhost:8080/"
        },
        "outputId": "7c84a730-d515-4fc1-946c-01d8ea8cfb04"
      },
      "source": [
        "print(a)\n",
        "a.clear()\n",
        "print(a)"
      ],
      "execution_count": null,
      "outputs": [
        {
          "output_type": "stream",
          "text": [
            "{'a': 1, 'c': 3}\n",
            "{}\n"
          ],
          "name": "stdout"
        }
      ]
    },
    {
      "cell_type": "markdown",
      "metadata": {
        "id": "eEdO-9wGSJGV"
      },
      "source": [
        "* **in**\n",
        " + key값 존재 확인\n",
        " + O(1) 연산 - 딕셔너리의 크기와 관계없이 항상 연산의 속도가 일정하다는 의미"
      ]
    },
    {
      "cell_type": "code",
      "metadata": {
        "id": "Vl8iQ7vZSJGW",
        "colab": {
          "base_uri": "https://localhost:8080/"
        },
        "outputId": "2b822442-3f5b-4721-f7d0-ad22fded0090"
      },
      "source": [
        "a = {'a': 1, 'b': 2, 'c' : 3}\n",
        "b = [1, 2, 3, 4, 5, 6, 7, 9, 10, 100]\n",
        "\n",
        "print(100 in b)\n",
        "print(2 in a)"
      ],
      "execution_count": null,
      "outputs": [
        {
          "output_type": "stream",
          "text": [
            "True\n",
            "False\n"
          ],
          "name": "stdout"
        }
      ]
    },
    {
      "cell_type": "markdown",
      "metadata": {
        "id": "EKFoWu7ySJGj"
      },
      "source": [
        "* **value access**\n",
        " + dict[key]로 접급, 키가 없는 경우 에러 발생 \n",
        " + .get() 함수로 접근, 키가 없는 경우 None반환"
      ]
    },
    {
      "cell_type": "code",
      "metadata": {
        "id": "s37Hj-wJSJGl",
        "colab": {
          "base_uri": "https://localhost:8080/"
        },
        "outputId": "151607ee-9e1f-4afa-c1d1-9b44906f182a"
      },
      "source": [
        "print(a.get('d'))\n",
        "# print(a['d'])\n",
        "\n",
        "if 'd' in a:\n",
        "    print(a['d'])"
      ],
      "execution_count": null,
      "outputs": [
        {
          "output_type": "stream",
          "text": [
            "None\n"
          ],
          "name": "stdout"
        }
      ]
    },
    {
      "cell_type": "markdown",
      "metadata": {
        "id": "ExTN15w-SJGq"
      },
      "source": [
        "#### **모든 keys, values 접근**\n",
        " + keys() - 키만 반환\n",
        " + values() - 값만 반환\n",
        " + items() - 키, 값의 튜플을 반환"
      ]
    },
    {
      "cell_type": "code",
      "metadata": {
        "id": "oU_CtIFtSJGr",
        "colab": {
          "base_uri": "https://localhost:8080/"
        },
        "outputId": "48e3cdab-5d76-4c36-f5b1-4ca11cdaa31a"
      },
      "source": [
        "print(a)\n",
        "print(list(a.keys()))\n",
        "print(list(a.values()))\n",
        "\n",
        "list(a.items())"
      ],
      "execution_count": null,
      "outputs": [
        {
          "output_type": "stream",
          "text": [
            "{'a': 1, 'b': 2, 'c': 3}\n",
            "['a', 'b', 'c']\n",
            "[1, 2, 3]\n"
          ],
          "name": "stdout"
        },
        {
          "output_type": "execute_result",
          "data": {
            "text/plain": [
              "[('a', 1), ('b', 2), ('c', 3)]"
            ]
          },
          "metadata": {
            "tags": []
          },
          "execution_count": 8
        }
      ]
    },
    {
      "cell_type": "markdown",
      "metadata": {
        "id": "no92Q2B9SJGw"
      },
      "source": [
        "### **set**\n",
        " + dictionary에서 key만 활용하는 데이터 구조로 이해\n",
        " + 수학에서의 집합과 동일한 개념"
      ]
    },
    {
      "cell_type": "code",
      "metadata": {
        "id": "BNu46xn5SJGx",
        "colab": {
          "base_uri": "https://localhost:8080/"
        },
        "outputId": "22dc4661-913e-4f50-fb51-0169f18fdafe"
      },
      "source": [
        "a = {1, 1, 2, 3, 3, 4, 1, 5}\n",
        "print(a)"
      ],
      "execution_count": null,
      "outputs": [
        {
          "output_type": "stream",
          "text": [
            "{1, 2, 3, 4, 5}\n"
          ],
          "name": "stdout"
        }
      ]
    },
    {
      "cell_type": "markdown",
      "metadata": {
        "id": "G1m8_Z72SJG2"
      },
      "source": [
        "* **set()으로 집합으로 변환**"
      ]
    },
    {
      "cell_type": "code",
      "metadata": {
        "id": "NPFTZNhRSJG3",
        "colab": {
          "base_uri": "https://localhost:8080/"
        },
        "outputId": "db665a87-f337-4618-cb08-a3ed8772a77d"
      },
      "source": [
        "a = [1, 1, 2, 3, 3, 4, 1, 5]\n",
        "print(a)\n",
        "\n",
        "b = set(a)\n",
        "print(b)"
      ],
      "execution_count": null,
      "outputs": [
        {
          "output_type": "stream",
          "text": [
            "[1, 1, 2, 3, 3, 4, 1, 5]\n",
            "{1, 2, 3, 4, 5}\n"
          ],
          "name": "stdout"
        }
      ]
    },
    {
      "cell_type": "markdown",
      "metadata": {
        "id": "h-_TlSYkSJG8"
      },
      "source": [
        "+ **set operations**\n",
        " - 수학 연산과 동일\n",
        " - 교집합, 합집합, 차집합 등 지원"
      ]
    },
    {
      "cell_type": "code",
      "metadata": {
        "id": "yy1lvfdjSJG9",
        "colab": {
          "base_uri": "https://localhost:8080/"
        },
        "outputId": "253467c4-e3d1-473d-9ea8-d5f04373a0d2"
      },
      "source": [
        "a = {1, 2, 3}\n",
        "b = {2, 3, 4}\n",
        "\n",
        "print(a.union(b)) # 합집합\n",
        "print(a.intersection(b)) # 교집합\n",
        "print(a.difference(b)) # 차집합\n",
        "print(a.issubset(b)) #부분 집합"
      ],
      "execution_count": null,
      "outputs": [
        {
          "output_type": "stream",
          "text": [
            "{1, 2, 3, 4}\n",
            "{2, 3}\n",
            "{1}\n",
            "False\n"
          ],
          "name": "stdout"
        }
      ]
    }
  ]
}