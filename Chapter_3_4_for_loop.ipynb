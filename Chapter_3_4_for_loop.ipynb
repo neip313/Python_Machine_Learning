{
  "nbformat": 4,
  "nbformat_minor": 0,
  "metadata": {
    "colab": {
      "name": "Chapter_3_4_for_loop.ipynb",
      "provenance": [],
      "collapsed_sections": [],
      "toc_visible": true,
      "include_colab_link": true
    },
    "kernelspec": {
      "name": "python3",
      "display_name": "Python 3"
    }
  },
  "cells": [
    {
      "cell_type": "markdown",
      "metadata": {
        "id": "view-in-github",
        "colab_type": "text"
      },
      "source": [
        "<a href=\"https://colab.research.google.com/github/neip313/Python_Machine_Learning/blob/main/Chapter_3_4_for_loop.ipynb\" target=\"_parent\"><img src=\"https://colab.research.google.com/assets/colab-badge.svg\" alt=\"Open In Colab\"/></a>"
      ]
    },
    {
      "cell_type": "markdown",
      "metadata": {
        "id": "--6K6q__gRnA"
      },
      "source": [
        "---\n",
        "title: \"for loops in different ways\"\n",
        "date: 2020-06-27T18:42:47+09:00\n",
        "tags:\n",
        "  - \"Basic Data Structures\"\n",
        "  - \"Python Basic\"\n",
        "  - \"Python\"\n",
        "  - \"iteration\"\n",
        "categories:\n",
        "  - \"iteration\"\n",
        "  - \"Python\"\n",
        "  - \"Python Basic\"\n",
        "menu: \n",
        "  kaggle:\n",
        "    name: for loops in different ways\n",
        "---\n",
        "\n",
        "![](/img/python/basic_syntax/for_loop.png)"
      ]
    },
    {
      "cell_type": "markdown",
      "metadata": {
        "id": "REY6iQaBdZXy"
      },
      "source": [
        "## I. 개요\n",
        "- 여러 형태의 반복문을 배우고 실습한다. \n",
        "- 한줄로 작성하는 반복문을 배우고 실습한다. \n"
      ]
    },
    {
      "cell_type": "markdown",
      "metadata": {
        "id": "XdWnKuugi4vz"
      },
      "source": [
        "## II. For Loop Basic Syntax\n",
        "- 파이썬의 기본 문법은 아래와 같다. \n",
        "\n",
        "```python\n",
        "for <변수> in <iterable>:\n",
        "    <코드>\n",
        "```\n",
        "- 여기에서 `iterable`의 개념은 `list`와 `tuple`을 의미한다. \n",
        "- 간단하게 `for_loop` 코드를 작성해보자. \n",
        "  + 우선, A라는 리스트 객체를 작성한다. \n",
        "  + `for_loop`를 활용해서 리스트 안에 있는 것을 하나씩 출력한다. \n"
      ]
    },
    {
      "cell_type": "code",
      "metadata": {
        "id": "rj3v8teKjcgO",
        "outputId": "3e9fd55f-e37b-4cc5-de6a-2e741ff8fd5e",
        "colab": {
          "base_uri": "https://localhost:8080/",
          "height": 68
        }
      },
      "source": [
        "A = [\"철수\", \"영희\", \"길동\"]\n",
        "for num in A:\n",
        "  print(num)"
      ],
      "execution_count": null,
      "outputs": [
        {
          "output_type": "stream",
          "text": [
            "철수\n",
            "영희\n",
            "길동\n"
          ],
          "name": "stdout"
        }
      ]
    },
    {
      "cell_type": "markdown",
      "metadata": {
        "id": "JGyKeZLukwq7"
      },
      "source": [
        "### (1) Iterables\n",
        "- `Iteration`을 한국어로 번역하면 되풀이다. \n",
        "- 그런데, 어떤 데이터 유형이 `되풀이`를 할 수 있을가?\n",
        "  + `List`와 `Tuple`이 되풀이가 될 수 있는 소재인 것은 확실하다. \n",
        "- 어떤 `객체(=Object)`가 있을 때, 이 객체가 `iterable` 한것인지, 또는 아닌지 확인하는 함수(`iter()`)도 있다. "
      ]
    },
    {
      "cell_type": "code",
      "metadata": {
        "id": "Iyfm0Kheo0yC",
        "outputId": "bb67cf58-e200-4c8e-fc29-2f28999b9227",
        "colab": {
          "base_uri": "https://localhost:8080/",
          "height": 34
        }
      },
      "source": [
        "print(iter(\"ABC\"))"
      ],
      "execution_count": null,
      "outputs": [
        {
          "output_type": "stream",
          "text": [
            "<str_iterator object at 0x7ff2e1d5afd0>\n"
          ],
          "name": "stdout"
        }
      ]
    },
    {
      "cell_type": "code",
      "metadata": {
        "id": "wsxZRVO6o3tP",
        "outputId": "fc2e7d51-026c-4c8a-f019-443b8d43684f",
        "colab": {
          "base_uri": "https://localhost:8080/",
          "height": 34
        }
      },
      "source": [
        "print(iter([\"A\", \"B\", \"C\"]))"
      ],
      "execution_count": null,
      "outputs": [
        {
          "output_type": "stream",
          "text": [
            "<list_iterator object at 0x7ff2e1d3e9b0>\n"
          ],
          "name": "stdout"
        }
      ]
    },
    {
      "cell_type": "code",
      "metadata": {
        "id": "cVJ0Y0eapR1f",
        "outputId": "0177cd24-68d2-404f-e36b-65daa73be098",
        "colab": {
          "base_uri": "https://localhost:8080/",
          "height": 34
        }
      },
      "source": [
        "print(iter((\"A\", \"B\", \"C\")))"
      ],
      "execution_count": null,
      "outputs": [
        {
          "output_type": "stream",
          "text": [
            "<tuple_iterator object at 0x7ff2e1d3e9b0>\n"
          ],
          "name": "stdout"
        }
      ]
    },
    {
      "cell_type": "code",
      "metadata": {
        "id": "lRNjPzeepVEy",
        "outputId": "dd3203e5-3fb0-475b-dc11-142c514b239c",
        "colab": {
          "base_uri": "https://localhost:8080/",
          "height": 34
        }
      },
      "source": [
        "print(iter({\"A\": 1, \"B\": 3, \"C\": 3}))"
      ],
      "execution_count": null,
      "outputs": [
        {
          "output_type": "stream",
          "text": [
            "<dict_keyiterator object at 0x7ff2e1d58778>\n"
          ],
          "name": "stdout"
        }
      ]
    },
    {
      "cell_type": "markdown",
      "metadata": {
        "id": "5MkgMld3rMBG"
      },
      "source": [
        "- 그런데, 수치형의 경우에는 `iteration`이 적용되지 않는다. "
      ]
    },
    {
      "cell_type": "code",
      "metadata": {
        "id": "IoYih_DErVPS",
        "outputId": "467b795e-be29-4bb4-ac04-dd55324f3e59",
        "colab": {
          "base_uri": "https://localhost:8080/",
          "height": 164
        }
      },
      "source": [
        "iter(100)"
      ],
      "execution_count": null,
      "outputs": [
        {
          "output_type": "error",
          "ename": "TypeError",
          "evalue": "ignored",
          "traceback": [
            "\u001b[0;31m---------------------------------------------------------------------------\u001b[0m",
            "\u001b[0;31mTypeError\u001b[0m                                 Traceback (most recent call last)",
            "\u001b[0;32m<ipython-input-11-0fb7faa29f1b>\u001b[0m in \u001b[0;36m<module>\u001b[0;34m()\u001b[0m\n\u001b[0;32m----> 1\u001b[0;31m \u001b[0miter\u001b[0m\u001b[0;34m(\u001b[0m\u001b[0;36m100\u001b[0m\u001b[0;34m)\u001b[0m\u001b[0;34m\u001b[0m\u001b[0;34m\u001b[0m\u001b[0m\n\u001b[0m",
            "\u001b[0;31mTypeError\u001b[0m: 'int' object is not iterable"
          ]
        }
      ]
    },
    {
      "cell_type": "code",
      "metadata": {
        "id": "AqeYOnaNrWh_",
        "outputId": "c67b9c4e-01c4-48e2-af2d-e5fb9437391d",
        "colab": {
          "base_uri": "https://localhost:8080/",
          "height": 164
        }
      },
      "source": [
        "iter(3.14)"
      ],
      "execution_count": null,
      "outputs": [
        {
          "output_type": "error",
          "ename": "TypeError",
          "evalue": "ignored",
          "traceback": [
            "\u001b[0;31m---------------------------------------------------------------------------\u001b[0m",
            "\u001b[0;31mTypeError\u001b[0m                                 Traceback (most recent call last)",
            "\u001b[0;32m<ipython-input-12-eb85da4c3f57>\u001b[0m in \u001b[0;36m<module>\u001b[0;34m()\u001b[0m\n\u001b[0;32m----> 1\u001b[0;31m \u001b[0miter\u001b[0m\u001b[0;34m(\u001b[0m\u001b[0;36m3.14\u001b[0m\u001b[0;34m)\u001b[0m\u001b[0;34m\u001b[0m\u001b[0;34m\u001b[0m\u001b[0m\n\u001b[0m",
            "\u001b[0;31mTypeError\u001b[0m: 'float' object is not iterable"
          ]
        }
      ]
    },
    {
      "cell_type": "markdown",
      "metadata": {
        "id": "HFQsKq6Rrg93"
      },
      "source": [
        "- 단일 수치형 데이터를 제외하고는 사실상 모든 데이터가 `iterable`의 성질을 가지고 있다. \n"
      ]
    },
    {
      "cell_type": "markdown",
      "metadata": {
        "id": "RIjrGVHmr_MC"
      },
      "source": [
        "### (2) next()\n",
        "- `next()`는 `iterator`에서의 `next value`를 의미한다. \n",
        "- 다음 코드를 확인해보자. "
      ]
    },
    {
      "cell_type": "code",
      "metadata": {
        "id": "8oD7Is17sOFG",
        "outputId": "675674d0-e251-46f9-ba40-f381a2dc6eee",
        "colab": {
          "base_uri": "https://localhost:8080/",
          "height": 34
        }
      },
      "source": [
        "A = [\"철수\", \"영희\", \"길동\"]\n",
        "iterable = iter(A)\n",
        "iterable"
      ],
      "execution_count": null,
      "outputs": [
        {
          "output_type": "execute_result",
          "data": {
            "text/plain": [
              "<list_iterator at 0x7ff2e14e9ac8>"
            ]
          },
          "metadata": {
            "tags": []
          },
          "execution_count": 13
        }
      ]
    },
    {
      "cell_type": "code",
      "metadata": {
        "id": "RNPPoH_VsYNq",
        "outputId": "41011447-770f-4aca-c243-c429655ef9c3",
        "colab": {
          "base_uri": "https://localhost:8080/",
          "height": 34
        }
      },
      "source": [
        "print(next(iterable))"
      ],
      "execution_count": null,
      "outputs": [
        {
          "output_type": "stream",
          "text": [
            "철수\n"
          ],
          "name": "stdout"
        }
      ]
    },
    {
      "cell_type": "code",
      "metadata": {
        "id": "2l5XjIlUsZNi",
        "outputId": "2c24a0f3-da33-42db-dbbf-9ff43b441311",
        "colab": {
          "base_uri": "https://localhost:8080/",
          "height": 34
        }
      },
      "source": [
        "print(next(iterable))"
      ],
      "execution_count": null,
      "outputs": [
        {
          "output_type": "stream",
          "text": [
            "영희\n"
          ],
          "name": "stdout"
        }
      ]
    },
    {
      "cell_type": "code",
      "metadata": {
        "id": "K1ZrWqjDshKk",
        "outputId": "d718bf9a-4b2c-40ad-9507-4f41b16f6a70",
        "colab": {
          "base_uri": "https://localhost:8080/",
          "height": 34
        }
      },
      "source": [
        "print(next(iterable))"
      ],
      "execution_count": null,
      "outputs": [
        {
          "output_type": "stream",
          "text": [
            "길동\n"
          ],
          "name": "stdout"
        }
      ]
    },
    {
      "cell_type": "markdown",
      "metadata": {
        "id": "ABmYAqa4si39"
      },
      "source": [
        "- 위 구분은 `iter()` 함수를 통해 `list`를 `iterable`할 수 있는 객체로 변환해준 것이다. \n",
        "- 그 다음 `next()` 함수를 통해서 저장된 값을 호출 한 것이다. \n",
        "- `for-loop`는 다시 말하면 이러한 과정이 포함되어 있는 것을 말한다. \n",
        "  + (물론, 실무에서는 이렇게 할 필요는 없다. 그러나, `for-loop`의 문법이 내부에서는 `각각의 객체가` `iterable`로 바뀐후 출력되는 과정을 표현하는 것이다. (아래 그림을 다시 확인하자)\n",
        "\n",
        "![](/img/python/basic_syntax/for_loop.png)"
      ]
    },
    {
      "cell_type": "markdown",
      "metadata": {
        "id": "zTmXeR29tjQK"
      },
      "source": [
        "### (3) Dictionary\n",
        "- Dictionary는 `for-loop`에서 어떻게 작동될까?\n",
        "- 다음 코드를 통해 확인해보자. "
      ]
    },
    {
      "cell_type": "code",
      "metadata": {
        "id": "03zHiHBouLzu",
        "outputId": "f8f4bfc9-f634-4bb8-d107-72d78bfe61a1",
        "colab": {
          "base_uri": "https://localhost:8080/",
          "height": 68
        }
      },
      "source": [
        "D = {\"A\": 1, \"B\": 2, \"C\": 3}\n",
        "for i in D:\n",
        "  print(D[i])"
      ],
      "execution_count": null,
      "outputs": [
        {
          "output_type": "stream",
          "text": [
            "1\n",
            "2\n",
            "3\n"
          ],
          "name": "stdout"
        }
      ]
    },
    {
      "cell_type": "markdown",
      "metadata": {
        "id": "DkpmfDZduXQ7"
      },
      "source": [
        "- `i`와 `key`값에 대응되어 `Value`값을 출력하는 형태다.\n",
        "- 또 다른 방법은 `.values()`를 이용하는 것이다.\n"
      ]
    },
    {
      "cell_type": "code",
      "metadata": {
        "id": "kld2jfoJuphI",
        "outputId": "86af8f7e-980d-4837-aadc-93b253a2f290",
        "colab": {
          "base_uri": "https://localhost:8080/",
          "height": 68
        }
      },
      "source": [
        "for v in D.values():\n",
        "  print(v)"
      ],
      "execution_count": null,
      "outputs": [
        {
          "output_type": "stream",
          "text": [
            "1\n",
            "2\n",
            "3\n"
          ],
          "name": "stdout"
        }
      ]
    },
    {
      "cell_type": "markdown",
      "metadata": {
        "id": "tXE-DtJtyCNB"
      },
      "source": [
        "- 이번에는 `packing` & `unpacking`개념을 도입해보자."
      ]
    },
    {
      "cell_type": "code",
      "metadata": {
        "id": "Lp6od8c2xasJ",
        "outputId": "9b45b5d4-6a59-4953-ecf5-be9346601693",
        "colab": {
          "base_uri": "https://localhost:8080/",
          "height": 34
        }
      },
      "source": [
        "a, b = (1, 2)\n",
        "print(a, b)"
      ],
      "execution_count": null,
      "outputs": [
        {
          "output_type": "stream",
          "text": [
            "1 2\n"
          ],
          "name": "stdout"
        }
      ]
    },
    {
      "cell_type": "markdown",
      "metadata": {
        "id": "6Lw22pOJyVUk"
      },
      "source": [
        "- 위 코드를 `for-loop`에 응용할 것이다."
      ]
    },
    {
      "cell_type": "code",
      "metadata": {
        "id": "4F3go0K1yY7C",
        "outputId": "96c720a2-e003-4c56-a0b6-aba2e7623478",
        "colab": {
          "base_uri": "https://localhost:8080/",
          "height": 68
        }
      },
      "source": [
        "for i, j in [(1, 2), (3, 4), (5, 6)]:\n",
        "  print(i, j)"
      ],
      "execution_count": null,
      "outputs": [
        {
          "output_type": "stream",
          "text": [
            "1 2\n",
            "3 4\n",
            "5 6\n"
          ],
          "name": "stdout"
        }
      ]
    },
    {
      "cell_type": "markdown",
      "metadata": {
        "id": "JjzSO-CEymXC"
      },
      "source": [
        "- `Dictionary` 함수 중, `item()` 함수를 활용하면, key-value를 동시에 출력할 수 있다. "
      ]
    },
    {
      "cell_type": "code",
      "metadata": {
        "id": "ncrw4HFAzsQn",
        "outputId": "be0f3158-3f16-487b-cb27-3aec8771ca14",
        "colab": {
          "base_uri": "https://localhost:8080/",
          "height": 68
        }
      },
      "source": [
        "D = {\"A\": 1, \"B\": 2, \"C\": 3}\n",
        "for k, v in D.items():\n",
        "  print('key = ', k, ', v = ', v)"
      ],
      "execution_count": null,
      "outputs": [
        {
          "output_type": "stream",
          "text": [
            "key =  A , v =  1\n",
            "key =  B , v =  2\n",
            "key =  C , v =  3\n"
          ],
          "name": "stdout"
        }
      ]
    },
    {
      "cell_type": "markdown",
      "metadata": {
        "id": "hdnxNMkaz4i5"
      },
      "source": [
        "### (4) Range()\n",
        "- 지금까지 주로 `List`, `Dictionary` 위주로 `For_loop`를 작성하고 있다. \n",
        "- 이번에는 수치형을 활용한 `loop`를 확인해보자. \n"
      ]
    },
    {
      "cell_type": "code",
      "metadata": {
        "id": "n_rWNbQM0tyg",
        "outputId": "2b6deb6c-c343-4f34-9c98-52bb9f3950a1",
        "colab": {
          "base_uri": "https://localhost:8080/",
          "height": 102
        }
      },
      "source": [
        "for num in (0, 1, 2, 3, 4):\n",
        "  print(num)"
      ],
      "execution_count": null,
      "outputs": [
        {
          "output_type": "stream",
          "text": [
            "0\n",
            "1\n",
            "2\n",
            "3\n",
            "4\n"
          ],
          "name": "stdout"
        }
      ]
    },
    {
      "cell_type": "markdown",
      "metadata": {
        "id": "pUP9fpQ10zwh"
      },
      "source": [
        "- `Range()`를 사용하면 `(0, 1, 2, 3, 4)`를 대체할 수 있다.\n"
      ]
    },
    {
      "cell_type": "code",
      "metadata": {
        "id": "uZFaGOV50_CK",
        "outputId": "b91b6b3a-4bb1-4775-c373-379a937f6208",
        "colab": {
          "base_uri": "https://localhost:8080/",
          "height": 34
        }
      },
      "source": [
        "x = range(5)\n",
        "iter(x) # iterable인 객체 확인을 할 수 있다. "
      ],
      "execution_count": null,
      "outputs": [
        {
          "output_type": "execute_result",
          "data": {
            "text/plain": [
              "<range_iterator at 0x7ff2e1d5f870>"
            ]
          },
          "metadata": {
            "tags": []
          },
          "execution_count": 24
        }
      ]
    },
    {
      "cell_type": "code",
      "metadata": {
        "id": "d2_rKLp_1VlD",
        "outputId": "7e695036-324a-4a39-9043-253e86873452",
        "colab": {
          "base_uri": "https://localhost:8080/",
          "height": 102
        }
      },
      "source": [
        "for num in x:\n",
        "  print(num)"
      ],
      "execution_count": null,
      "outputs": [
        {
          "output_type": "stream",
          "text": [
            "0\n",
            "1\n",
            "2\n",
            "3\n",
            "4\n"
          ],
          "name": "stdout"
        }
      ]
    },
    {
      "cell_type": "markdown",
      "metadata": {
        "id": "Ri5GPnhq1bzr"
      },
      "source": [
        "## III. Conclusion\n",
        "- `For Loop`는 기본문법이지만, 지금까지 배운 것처럼, 표현방법이 매우 다양하다. \n",
        "- 다양한 객체를 보다 쉽게 `for-loop`에 활용할 수 있다는 장점이 있지만, 한편으로는 문법이 다양해서 처음 입문자가 배우기에는 조금 어려울 수 있기도 하다. \n",
        "- 다음 강의에서는 실제 `for-loop`를 활용해서 데이터 전처리와 시각화의 예를 하나씩 들어서 설명하도록 한다. "
      ]
    }
  ]
}