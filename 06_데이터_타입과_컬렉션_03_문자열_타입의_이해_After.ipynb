{
  "nbformat": 4,
  "nbformat_minor": 0,
  "metadata": {
    "kernelspec": {
      "display_name": "Python 3",
      "language": "python",
      "name": "python3"
    },
    "language_info": {
      "codemirror_mode": {
        "name": "ipython",
        "version": 3
      },
      "file_extension": ".py",
      "mimetype": "text/x-python",
      "name": "python",
      "nbconvert_exporter": "python",
      "pygments_lexer": "ipython3",
      "version": "3.7.3"
    },
    "colab": {
      "name": "06.데이터 타입과 컬렉션 - 03.문자열 타입의 이해_After.ipynb",
      "provenance": [],
      "include_colab_link": true
    }
  },
  "cells": [
    {
      "cell_type": "markdown",
      "metadata": {
        "id": "view-in-github",
        "colab_type": "text"
      },
      "source": [
        "<a href=\"https://colab.research.google.com/github/neip313/Python_Machine_Learning/blob/main/06_%EB%8D%B0%EC%9D%B4%ED%84%B0_%ED%83%80%EC%9E%85%EA%B3%BC_%EC%BB%AC%EB%A0%89%EC%85%98_03_%EB%AC%B8%EC%9E%90%EC%97%B4_%ED%83%80%EC%9E%85%EC%9D%98_%EC%9D%B4%ED%95%B4_After.ipynb\" target=\"_parent\"><img src=\"https://colab.research.google.com/assets/colab-badge.svg\" alt=\"Open In Colab\"/></a>"
      ]
    },
    {
      "cell_type": "markdown",
      "metadata": {
        "id": "I1cKpwdfh63P"
      },
      "source": [
        "### 학습목표\n",
        "1. 문자열(str) 타입 이해하기"
      ]
    },
    {
      "cell_type": "markdown",
      "metadata": {
        "id": "NIrFki4ph63Q"
      },
      "source": [
        "### **string (문자열)**\n",
        " - 복수개의 문자를 순서대로 나열 한 것\n",
        " - 문자열은 '(작은따옴표) 혹은 \"(큰따옴표) 사이에 문자를 넣어서 생성\n",
        " - 문자열 자체에 ', \"가 있는 경우에는 각각 그 반대의 기호로 생성"
      ]
    },
    {
      "cell_type": "markdown",
      "metadata": {
        "id": "Dtn9RL_Rh63Q"
      },
      "source": [
        "#### **''' '''사용하여 표현 가능**\n",
        "  - 차이점 \n",
        "    - '', \"\" -> 한줄 문자열 표현\n",
        "    - ''' ''' -> 어려줄에 걸쳐 문자열 표현 가능"
      ]
    },
    {
      "cell_type": "code",
      "metadata": {
        "id": "RUCpTHXBh63Q"
      },
      "source": [
        "a = '\"Hello\" World'\n",
        "b = \"Hello' World\"\n",
        "c = \"Hello World. \n",
        "\n",
        "It's wonderful world\"\n",
        "\n",
        "print(a)\n",
        "print(b)\n",
        "print(c)"
      ],
      "execution_count": null,
      "outputs": []
    },
    {
      "cell_type": "code",
      "metadata": {
        "id": "tphldZQ6h63R"
      },
      "source": [
        "c = '''Hello \n",
        "\n",
        "World'''\n",
        "\n",
        "d = \"\"\"Hello \n",
        "World\"\"\"\n",
        "\n",
        "print(c)\n",
        "print(d)"
      ],
      "execution_count": null,
      "outputs": []
    },
    {
      "cell_type": "markdown",
      "metadata": {
        "id": "lVfSJGxOh63R"
      },
      "source": [
        "#### escape string (이스케이프 문자)\n",
        "* 문자열내의 일부 문자의 의미를 달리하여 `특정한 효과`를 주는 것\n",
        "* `\\n` : new line `\\t` : tab 등\n",
        "\n"
      ]
    },
    {
      "cell_type": "code",
      "metadata": {
        "id": "TbA7jcehh63R"
      },
      "source": [
        "print('Hello World\\n\\n')\n",
        "print('Ha\\thahaha')"
      ],
      "execution_count": null,
      "outputs": []
    },
    {
      "cell_type": "markdown",
      "metadata": {
        "id": "c2C4U4QEh63S"
      },
      "source": [
        "#### **indexing & slicing string (문자열 인덱스 및 추출)**\n",
        "  - 문자열의 각 문자는 순서가 있음\n",
        "  - 이때 각 문자열의 순서를 **인덱스** 라고 함\n",
        "  - 첫번째 문자부터 마지막까지 차례대로의 순서를 가짐\n",
        "  - 첫번째 시작문자의 순서는 0으로 시작 (1이 아님)"
      ]
    },
    {
      "cell_type": "markdown",
      "metadata": {
        "id": "b91c0VoHh63S"
      },
      "source": [
        "* **연습문제**\n",
        "문자열의 마지막 문자의 순서의 값은?"
      ]
    },
    {
      "cell_type": "code",
      "metadata": {
        "id": "fFa7CFMHh63S"
      },
      "source": [
        "a = 'Hello World' # 길이 : 11\n",
        "print(a[10])\n"
      ],
      "execution_count": null,
      "outputs": []
    },
    {
      "cell_type": "markdown",
      "metadata": {
        "id": "9P9EOfwUh63S"
      },
      "source": [
        "#### **-1 인덱스**\n",
        "  - 다른 언어와는 달리, python의 경우 음수 인덱스를 지원\n",
        "  - -1이 가장 마지막 인덱스를, -2가 마지막에서 두번째 인덱스를 의미..."
      ]
    },
    {
      "cell_type": "code",
      "metadata": {
        "id": "jdYAbNdWh63S"
      },
      "source": [
        "print(a[0])\n",
        "print(a[10])\n",
        "\n",
        "print(a[-1])\n",
        "print(a[-11])"
      ],
      "execution_count": null,
      "outputs": []
    },
    {
      "cell_type": "markdown",
      "metadata": {
        "id": "zt_kR0Nzh63S"
      },
      "source": [
        "#### **인덱스의 범위**\n",
        "  - 인덱스는 [0, 문자열의 길이) 의 범위만 유효\n",
        "  - 음수 인덱스를 사용할 경우, [-문자열의 길이, -1]\n",
        "  - 범위를 넘어갈 경우 에러 발생"
      ]
    },
    {
      "cell_type": "code",
      "metadata": {
        "id": "IH7cMyZ7h63S"
      },
      "source": [
        "# print(a[11])\n",
        "print(a[-12])"
      ],
      "execution_count": null,
      "outputs": []
    },
    {
      "cell_type": "markdown",
      "metadata": {
        "id": "Bei6cYc4h63S"
      },
      "source": [
        "#### **문자열 slicing**\n",
        "  - 인덱스가 하나의 문자만을 추출한다면,\n",
        "  - slicing은 부분 문자열을 추출한다고 볼 수 있음\n",
        "  - [시작:끝]와 같이 명시하여 [시작, 끝)에 해당하는 부분 문자열을 추출\n",
        "  - 시작, 끝 인덱스가 생략이 되어 있다면, 0부터 혹은 끝까지로 간주"
      ]
    },
    {
      "cell_type": "code",
      "metadata": {
        "id": "fZ2DBbCMh63S"
      },
      "source": [
        "a = 'Hello world'\n",
        "\n",
        "print(a[0:11])\n",
        "print(a[0:1])\n",
        "\n",
        "print(a[:5])\n",
        "print(a[3:])\n",
        "\n",
        "print(a[:])"
      ],
      "execution_count": null,
      "outputs": []
    },
    {
      "cell_type": "markdown",
      "metadata": {
        "id": "rFLR87hQh63S"
      },
      "source": [
        "#### **문자열 함수**\n",
        "  - 문자열은 여러가지 기능 제공을 위한 함수를 내장\n",
        "  - 함수란 특정 기능을 하는 코드로 언제든지 호출하여 해당 기능을 사용 가능하도록 구성한 코드\n",
        "  - 추후에 함수에 대해 자세히 다룰 예정"
      ]
    },
    {
      "cell_type": "code",
      "metadata": {
        "id": "4uBz8RYxh63S"
      },
      "source": [
        "a = 'hello world'\n",
        "a.upper()"
      ],
      "execution_count": null,
      "outputs": []
    },
    {
      "cell_type": "markdown",
      "metadata": {
        "id": "GBKY8EdEh63S"
      },
      "source": [
        "* **replace** \n",
        " - 문자열 내의 특정 문자를 치환"
      ]
    },
    {
      "cell_type": "code",
      "metadata": {
        "id": "pdlTxJ-Uh63S"
      },
      "source": [
        "a = 'hello world'\n",
        "a.replace('h', 'j')\n"
      ],
      "execution_count": null,
      "outputs": []
    },
    {
      "cell_type": "markdown",
      "metadata": {
        "id": "s3AeY07vh63S"
      },
      "source": [
        "* **format**\n",
        " - 문자열내의 특정한 값을 변수로부터 초기화하여 동적으로 문자열을 생성 "
      ]
    },
    {
      "cell_type": "code",
      "metadata": {
        "id": "62NhcJ2_h63S"
      },
      "source": [
        "temperature = 25.5\n",
        "prob = 80.0\n",
        "\n",
        "a = '오늘 기온{}도 이고, 비올 확률은 {}% 입니다.'.format(temperature, prob)\n",
        "print(a)"
      ],
      "execution_count": null,
      "outputs": []
    },
    {
      "cell_type": "markdown",
      "metadata": {
        "id": "X0RWM_6Mh63S"
      },
      "source": [
        "* **split**\n",
        " - 문자열을 특정한 문자 구분하여(delimiter) 문자열의 리스트로 치환"
      ]
    },
    {
      "cell_type": "code",
      "metadata": {
        "id": "ZRjuTE8Zh63S"
      },
      "source": [
        "a = 'hello world what a nice weather'\n",
        "a.split('w')"
      ],
      "execution_count": null,
      "outputs": []
    },
    {
      "cell_type": "code",
      "metadata": {
        "id": "9JAvmX-1h63S"
      },
      "source": [
        ""
      ],
      "execution_count": null,
      "outputs": []
    }
  ]
}