{
  "nbformat": 4,
  "nbformat_minor": 0,
  "metadata": {
    "kernelspec": {
      "display_name": "Python 3",
      "language": "python",
      "name": "python3"
    },
    "language_info": {
      "codemirror_mode": {
        "name": "ipython",
        "version": 3
      },
      "file_extension": ".py",
      "mimetype": "text/x-python",
      "name": "python",
      "nbconvert_exporter": "python",
      "pygments_lexer": "ipython3",
      "version": "3.7.3"
    },
    "colab": {
      "name": "12~13.조건문과 반복문 - 01~02.조건문의 이해_After.ipynb",
      "provenance": [],
      "include_colab_link": true
    }
  },
  "cells": [
    {
      "cell_type": "markdown",
      "metadata": {
        "id": "view-in-github",
        "colab_type": "text"
      },
      "source": [
        "<a href=\"https://colab.research.google.com/github/neip313/Python_Machine_Learning/blob/main/12~13_%EC%A1%B0%EA%B1%B4%EB%AC%B8%EA%B3%BC_%EB%B0%98%EB%B3%B5%EB%AC%B8_01~02_%EC%A1%B0%EA%B1%B4%EB%AC%B8%EC%9D%98_%EC%9D%B4%ED%95%B4_After.ipynb\" target=\"_parent\"><img src=\"https://colab.research.google.com/assets/colab-badge.svg\" alt=\"Open In Colab\"/></a>"
      ]
    },
    {
      "cell_type": "markdown",
      "metadata": {
        "id": "M-CO1KqSSX0n"
      },
      "source": [
        "### 학습목표\n",
        " * 조건문의 이해 및 활용 (if)"
      ]
    },
    {
      "cell_type": "markdown",
      "metadata": {
        "id": "LwLBz15ISX0w"
      },
      "source": [
        "#### condition (조건문)\n",
        " + 특정 조건을 만족하는 경우에만 수행할 작업이 있는 경우 사용\n",
        " + 모든 조건은 boolean으로 표현 됨 (예외 사항은 아래 배울 예정)\n",
        " + if, elif, else 키워드가 사용\n",
        " + 조건문의 경우 if, elif, else 블록에 종속된 코드는 들여쓰기로 표현 가능\n",
        " + 즉 아래코드에서와 같이, 조건문 아래에 들여쓰기된 2줄의 코드만이 조건문의 조건에 따라 수행될 수도, 수행되지 않을 수도 있는 코드라고 할 수 있음\n",
        " + 들여쓰기 된 코드를 블록(block), 또는 코드블록이라고 함\n",
        " + python에서 모든 블록의 시작점의 마지막에는 :(콜론, colon) 추가가 필요\n",
        "\n",
        "```python\n",
        "if 6 >= 5:\n",
        "    print ('6 is greater than 5')\n",
        "    print ('Yeah, it is true')\n",
        "print ('This code is not belongs to if statements')\n",
        "```"
      ]
    },
    {
      "cell_type": "code",
      "metadata": {
        "id": "VbDEOIlsSX0y",
        "colab": {
          "base_uri": "https://localhost:8080/"
        },
        "outputId": "eea8275c-3965-42e9-aa7e-2d621502698c"
      },
      "source": [
        "if 6 >= 5:\n",
        "    print('6 is greater than 5')\n",
        "    print('Yeah, it is true')\n",
        "    print('it is really true')\n",
        "    \n",
        "print ('This code is not belongs to if statements')"
      ],
      "execution_count": null,
      "outputs": [
        {
          "output_type": "stream",
          "text": [
            "6 is greater than 5\n",
            "Yeah, it is true\n",
            "it is really true\n",
            "This code is not belongs to if statements\n"
          ],
          "name": "stdout"
        }
      ]
    },
    {
      "cell_type": "code",
      "metadata": {
        "id": "DXiJtKSmSX06",
        "colab": {
          "base_uri": "https://localhost:8080/"
        },
        "outputId": "dbf7689b-280c-4f47-adec-337bf8a91851"
      },
      "source": [
        "if 6 == 5:\n",
        "    print('6 is greater than 5')\n",
        "    print('Yeah, it is true')\n",
        "    print('it is really true')\n",
        "    \n",
        "print ('This code is not belongs to if statements')"
      ],
      "execution_count": null,
      "outputs": [
        {
          "output_type": "stream",
          "text": [
            "This code is not belongs to if statements\n"
          ],
          "name": "stdout"
        }
      ]
    },
    {
      "cell_type": "markdown",
      "metadata": {
        "id": "V97tBva0SX1A"
      },
      "source": [
        "* Logical AND, OR, NOT \n",
        "  - 조건문에 사용되는 조건의 경우, boolean이기 때문에, 논리식 AND, OR, NOT 이 사용가능\n",
        "  - AND : and\n",
        "  - OR : or\n",
        "  - NOT : not\n",
        "  \n",
        "* 논리표 \n",
        "  - AND \n",
        "      - T AND T : T\n",
        "      - T AND F : F\n",
        "      - F AND T : F\n",
        "      - F AND F : F\n",
        "  - OR \n",
        "      - T OR T : T\n",
        "      - T OR F : T\n",
        "      - F OR T : T\n",
        "      - F OR F : F\n",
        "      \n",
        "  - NOT \n",
        "      - NOT T : F\n",
        "      - NOT F : T\n",
        "* 우선순위\n",
        "  - NOT > AND > OR"
      ]
    },
    {
      "cell_type": "code",
      "metadata": {
        "id": "wcZaLcgKSX1B"
      },
      "source": [
        "a = 10\n",
        "b = 8\n",
        "c = 11"
      ],
      "execution_count": null,
      "outputs": []
    },
    {
      "cell_type": "code",
      "metadata": {
        "id": "NwjVlirgSX1H"
      },
      "source": [
        "if (a == 10 or b == 9) and c == 12:\n",
        "    print('that is true')"
      ],
      "execution_count": null,
      "outputs": []
    },
    {
      "cell_type": "code",
      "metadata": {
        "id": "giawJEjeSX1M"
      },
      "source": [
        "if not a == 10:\n",
        "    print('a is ten')"
      ],
      "execution_count": null,
      "outputs": []
    },
    {
      "cell_type": "markdown",
      "metadata": {
        "id": "iH5wZfajSX1S"
      },
      "source": [
        "#### if의 조건이 bool이 아닌 경우\n",
        " * 일반적으로는 조건문에는 bool이 주로 위치 함\n",
        " * 하지만, 정수, 실수, 문자열 리스트 등 기본 타입도 조건에 사용 가능\n",
        " * False로 간주되는 값 (각 타입의 기본값)\n",
        "     * None\n",
        "     * 0\n",
        "     * 0.0\n",
        "     * ''\n",
        "     * [] -> 빈 리스트\n",
        "     * () -> 빈 튜플\n",
        "     * {} -> 빈 딕셔너리\n",
        "     * set() -> 빈 집합\n",
        " * 그밖에는 모두 True로 간주"
      ]
    },
    {
      "cell_type": "code",
      "metadata": {
        "id": "-68QuFSlSX1T"
      },
      "source": [
        "a = []\n",
        "if a:\n",
        "    print('print')"
      ],
      "execution_count": null,
      "outputs": []
    },
    {
      "cell_type": "markdown",
      "metadata": {
        "id": "USPF0F5tSX1Z"
      },
      "source": [
        "#### if, else\n",
        "  - if가 아닌 경우, 나머지 조건을 표현하고 싶다면 바로 아래 else 블락 사용\n",
        "  - 이 경우, if조건이 True인 경우, if 블락의 코드가 수행, 거짓인 경우 else 블락의 코드가 수행\n",
        "  - 주의 할 점 : if와 else사이에 다른 코드 삽입 불가"
      ]
    },
    {
      "cell_type": "code",
      "metadata": {
        "id": "CABa9m5VSX1a",
        "colab": {
          "base_uri": "https://localhost:8080/"
        },
        "outputId": "e40f3a61-8389-4a10-f49c-7c0592d5ef2d"
      },
      "source": [
        "# 짝수인 경우에는 2로 나눈 값을 출력하고\n",
        "# 홀수인 경우에는 1을 더한 값을 출력해라\n",
        "\n",
        "a = 12\n",
        "if a % 2 == 0: # 짝수인지 판별\n",
        "    print(a / 2)\n",
        "else:\n",
        "    print(a + 1)"
      ],
      "execution_count": null,
      "outputs": [
        {
          "output_type": "stream",
          "text": [
            "6.0\n"
          ],
          "name": "stdout"
        }
      ]
    },
    {
      "cell_type": "markdown",
      "metadata": {
        "id": "QnGohFgeSX1g"
      },
      "source": [
        "#### if, elif, else\n",
        "  - 조건이 여러개인 경우, 다음 조건을 elif 블록에 명시 가능\n",
        "  - 이 경우, 각 조건을 확인 후, True인 조건의 코드 블락을 실행 한 후, 전체 if, elif, else 구문을 종료\n",
        "  - 조건문을 사용할 때는, if 이후, 0개 이상의 elif를 사용 가능하며 0개 또는 1개의 else를 사용 가능함\n",
        "\n",
        "```python\n",
        "a = 17\n",
        "if a % 4 == 0:\n",
        "    print 'a is divisible by 4'\n",
        "elif a % 4 == 1:\n",
        "    print 'a % 4 is 1'\n",
        "elif a % 4 == 2:\n",
        "    print 'a % 4 is 2'\n",
        "else:\n",
        "    print 'a % 4 is 3'\n",
        "```"
      ]
    },
    {
      "cell_type": "code",
      "metadata": {
        "id": "WOrGJrE2SX1i",
        "colab": {
          "base_uri": "https://localhost:8080/"
        },
        "outputId": "2235f40c-82ca-4c25-da54-f9565f72ed6c"
      },
      "source": [
        "a = 16\n",
        "if a % 4 == 0:\n",
        "    print('a is divisible by 4')\n",
        "elif a % 4 == 1:\n",
        "    print('a % 4 is 1')\n",
        "elif a % 4 == 2:\n",
        "    print('a % 4 is 2')\n",
        "else:\n",
        "    print('a % 4 is 3')\n",
        "    \n",
        "\n"
      ],
      "execution_count": null,
      "outputs": [
        {
          "output_type": "stream",
          "text": [
            "a is divisible by 4\n"
          ],
          "name": "stdout"
        }
      ]
    },
    {
      "cell_type": "code",
      "metadata": {
        "id": "4RkOKGqXSX1n",
        "colab": {
          "base_uri": "https://localhost:8080/"
        },
        "outputId": "9e764332-3204-4cd3-8c6d-81820d4ca735"
      },
      "source": [
        "a = 16\n",
        "if a % 4 == 0:\n",
        "    print('a is divisible by 4')\n",
        "if a % 4 == 1:\n",
        "    print('a % 4 is 1')\n",
        "if a % 4 == 2:\n",
        "    print('a % 4 is 2')\n",
        "else:\n",
        "    print('a % 4 is 3')"
      ],
      "execution_count": null,
      "outputs": [
        {
          "output_type": "stream",
          "text": [
            "a is divisible by 4\n",
            "a % 4 is 3\n"
          ],
          "name": "stdout"
        }
      ]
    },
    {
      "cell_type": "markdown",
      "metadata": {
        "id": "p53Df88qSX1t"
      },
      "source": [
        "#### 중첩 조건문(nested condition)\n",
        "  - 조건문의 경우 중첩하여 작성 가능\n",
        "  - 중첩의 의미는 depth(깊이)로 생각할 수 있으며, depth의 제한은 없음"
      ]
    },
    {
      "cell_type": "code",
      "metadata": {
        "id": "SsHLRKkwSX1v",
        "colab": {
          "base_uri": "https://localhost:8080/"
        },
        "outputId": "019e7491-3cc6-49b2-f1bc-dae81f2ba5bf"
      },
      "source": [
        "a = 10\n",
        "b = 9\n",
        "c = 8\n",
        "\n",
        "if a == 10:\n",
        "    if c == 8:\n",
        "        if b == 8:\n",
        "            print('a is ten and b is 8')\n",
        "        else:\n",
        "            print('a is ten and b is not 8')"
      ],
      "execution_count": null,
      "outputs": [
        {
          "output_type": "stream",
          "text": [
            "a is ten and b is not 8\n"
          ],
          "name": "stdout"
        }
      ]
    }
  ]
}