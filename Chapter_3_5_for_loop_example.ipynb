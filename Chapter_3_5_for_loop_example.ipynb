{
  "nbformat": 4,
  "nbformat_minor": 0,
  "metadata": {
    "colab": {
      "name": "Chapter_3_5_for_loop_example.ipynb",
      "provenance": [],
      "collapsed_sections": [],
      "toc_visible": true,
      "include_colab_link": true
    },
    "kernelspec": {
      "name": "python3",
      "display_name": "Python 3"
    }
  },
  "cells": [
    {
      "cell_type": "markdown",
      "metadata": {
        "id": "view-in-github",
        "colab_type": "text"
      },
      "source": [
        "<a href=\"https://colab.research.google.com/github/neip313/Python_Machine_Learning/blob/main/Chapter_3_5_for_loop_example.ipynb\" target=\"_parent\"><img src=\"https://colab.research.google.com/assets/colab-badge.svg\" alt=\"Open In Colab\"/></a>"
      ]
    },
    {
      "cell_type": "markdown",
      "metadata": {
        "id": "--6K6q__gRnA"
      },
      "source": [
        "---\n",
        "title: \"[Python] multiple chart using for-loop\"\n",
        "date: 2020-06-27T18:42:47+09:00\n",
        "tags:\n",
        "  - \"Basic Data Structures\"\n",
        "  - \"Python Basic\"\n",
        "  - \"Python\"\n",
        "  - \"iteration\"\n",
        "categories:\n",
        "  - \"iteration\"\n",
        "  - \"Python\"\n",
        "  - \"Python Basic\"\n",
        "menu: \n",
        "  kaggle:\n",
        "    name: [Python] multiple chart using for-loop\n",
        "---\n",
        "\n",
        "![](/img/python/basic_syntax/for_loop.png)"
      ]
    },
    {
      "cell_type": "markdown",
      "metadata": {
        "id": "REY6iQaBdZXy"
      },
      "source": [
        "## I. 개요\n",
        "- 지난 시간에 `for_loop`의 기본적인 개념에 대해 살펴봤다. \n",
        "  + 참조: [[Python] for loops in different ways](https://chloevan.github.io/python/python_edu/01_basic/chapter_3_4_for_loop/)\n",
        "- 이번 시간에는 `for_loop`의 실제 다양한 활용 방안에 대해 살펴본다. \n"
      ]
    },
    {
      "cell_type": "markdown",
      "metadata": {
        "id": "XdWnKuugi4vz"
      },
      "source": [
        "## II. 데이터 시각화 \n",
        "- 변수의 개수에 상관없이 `for-loop`를 활용하면 무한대로 시각화를 작성할 수 있다. \n",
        "- 빠르게 코드로 확인해본다. \n",
        "- `IRIS` 데이터를 수집하는 코드를 작성한다. \n"
      ]
    },
    {
      "cell_type": "code",
      "metadata": {
        "id": "ispXDPWEZjPR",
        "outputId": "2111246f-5c3a-4193-ab36-19cf574c969f",
        "colab": {
          "base_uri": "https://localhost:8080/",
          "height": 119
        }
      },
      "source": [
        "import numpy as np\n",
        "import pandas as pd\n",
        "import matplotlib.pyplot as plt\n",
        "import seaborn as sns\n",
        "from sklearn import datasets\n",
        "\n",
        "iris = datasets.load_iris()\n",
        "df = pd.DataFrame(iris.data, columns=iris.feature_names)\n",
        "print(df.head())"
      ],
      "execution_count": null,
      "outputs": [
        {
          "output_type": "stream",
          "text": [
            "   sepal length (cm)  sepal width (cm)  petal length (cm)  petal width (cm)\n",
            "0                5.1               3.5                1.4               0.2\n",
            "1                4.9               3.0                1.4               0.2\n",
            "2                4.7               3.2                1.3               0.2\n",
            "3                4.6               3.1                1.5               0.2\n",
            "4                5.0               3.6                1.4               0.2\n"
          ],
          "name": "stdout"
        }
      ]
    },
    {
      "cell_type": "markdown",
      "metadata": {
        "id": "YvVflUIvcffB"
      },
      "source": [
        "- 변수별로 시각화를 작성하기 위해, 우선 변수명을 `List`에 포함한다.\n",
        " "
      ]
    },
    {
      "cell_type": "code",
      "metadata": {
        "id": "xuVEC2ldcoIo",
        "outputId": "0fe984a6-65a9-4c5b-f95a-1363f635de37",
        "colab": {
          "base_uri": "https://localhost:8080/",
          "height": 34
        }
      },
      "source": [
        "feature_names = iris.feature_names\n",
        "print(feature_names)"
      ],
      "execution_count": null,
      "outputs": [
        {
          "output_type": "stream",
          "text": [
            "['sepal length (cm)', 'sepal width (cm)', 'petal length (cm)', 'petal width (cm)']\n"
          ],
          "name": "stdout"
        }
      ]
    },
    {
      "cell_type": "markdown",
      "metadata": {
        "id": "BAAwWgKdd66p"
      },
      "source": [
        "- 다음 코드는 시각화 작성을 위한 기본 환경설정이다. \n",
        "- `figsize`는 `Jupyter Notebook`에 맞게 최적화 되어 있기는 하지만, 수정할 수 있다. \n",
        "  + 본인만의 스타일 수정을 원한다면 다음 링크 참조 하기 바란다.  [Customizing Matplotlib with style sheets and rcParams](https://matplotlib.org/3.2.1/tutorials/introductory/customizing.html#defining-your-own-style)"
      ]
    },
    {
      "cell_type": "code",
      "metadata": {
        "id": "YnSRUaDodqzW"
      },
      "source": [
        "%matplotlib inline\n",
        "import matplotlib.pylab as plt\n",
        "\n",
        "plt.rcParams[\"figure.figsize\"] = (14,4)\n",
        "plt.rcParams['lines.linewidth'] = 2\n",
        "plt.rcParams['lines.color'] = 'r'\n",
        "plt.rcParams['axes.grid'] = True "
      ],
      "execution_count": null,
      "outputs": []
    },
    {
      "cell_type": "markdown",
      "metadata": {
        "id": "reMk9F50cq0i"
      },
      "source": [
        "- 그리고 마지막으로 `for-loop` 활용하는 시각화를 작성한다. "
      ]
    },
    {
      "cell_type": "code",
      "metadata": {
        "id": "_NoaHufGc4qb",
        "outputId": "496b85c7-c0c1-4c39-e3c9-2f7f88b3c44a",
        "colab": {
          "base_uri": "https://localhost:8080/",
          "height": 1000
        }
      },
      "source": [
        "for fea in feature_names:\n",
        "  data = df.copy() # 원본 데이터 유지\n",
        "  # iris.sepal_length[:20].plot(kind='bar', rot=0)\n",
        "  data[fea].plot(kind='hist', rot=0)\n",
        "  plt.xlabel(fea)\n",
        "  plt.title(fea)\n",
        "  plt.show()"
      ],
      "execution_count": null,
      "outputs": [
        {
          "output_type": "display_data",
          "data": {
            "image/png": "[encoded data removed]",
            "text/plain": [
              "<Figure size 1008x288 with 1 Axes>"
            ]
          },
          "metadata": {
            "tags": [],
            "needs_background": "light"
          }
        },
        {
          "output_type": "display_data",
          "data": {
            "image/png": "[encoded data removed]",
            "text/plain": [
              "<Figure size 1008x288 with 1 Axes>"
            ]
          },
          "metadata": {
            "tags": [],
            "needs_background": "light"
          }
        },
        {
          "output_type": "display_data",
          "data": {
            "image/png": "[encoded data removed]",
            "text/plain": [
              "<Figure size 1008x288 with 1 Axes>"
            ]
          },
          "metadata": {
            "tags": [],
            "needs_background": "light"
          }
        },
        {
          "output_type": "display_data",
          "data": {
            "image/png": "[encoded data removed]",
            "text/plain": [
              "<Figure size 1008x288 with 1 Axes>"
            ]
          },
          "metadata": {
            "tags": [],
            "needs_background": "light"
          }
        }
      ]
    },
    {
      "cell_type": "markdown",
      "metadata": {
        "id": "kCxrYt_zeuSz"
      },
      "source": [
        "## III. 데이터 전처리\n",
        "- 영어 소문자를 대문자로 바꾸는 작업을 `for_loop`를 통해서 작성한다.\n",
        "- 먼저 가상의 데이터를 작성한다.\n"
      ]
    },
    {
      "cell_type": "code",
      "metadata": {
        "id": "aeAgShGPjfa5",
        "outputId": "3db89dcc-eb90-43d2-9e49-b934957daa15",
        "colab": {
          "base_uri": "https://localhost:8080/",
          "height": 119
        }
      },
      "source": [
        "# 가상의 데이터 만들기\n",
        "df = pd.DataFrame({'Date':['10/2/2011', '11/2/2011', '12/2/2011', '13/2/2011', '13/2/2011'], \n",
        "                   'Product':['fruit', 'meat', 'fish ', 'milk', 'cow'], \n",
        "                   'Updated_Price':[1250, 1450, 1550, 400, 500], \n",
        "                   'Discount':[10, 8, 15, 10, 11]}) \n",
        "  \n",
        "# 데이터 출력\n",
        "print(df) "
      ],
      "execution_count": null,
      "outputs": [
        {
          "output_type": "stream",
          "text": [
            "        Date Product  Updated_Price  Discount\n",
            "0  10/2/2011   fruit           1250        10\n",
            "1  11/2/2011    meat           1450         8\n",
            "2  12/2/2011   fish            1550        15\n",
            "3  13/2/2011    milk            400        10\n",
            "4  13/2/2011     cow            500        11\n"
          ],
          "name": "stdout"
        }
      ]
    },
    {
      "cell_type": "markdown",
      "metadata": {
        "id": "2hEv-DIlj4gB"
      },
      "source": [
        "- `Product`의 각 아이템 앞 글자를 바꾸기 위해서는 `capitalize()` 함수가 필요하다. \n",
        "- 먼저 단어 하나를 가지고 앞글자만 대문자로 바꾸는 코드를 작성한다. "
      ]
    },
    {
      "cell_type": "code",
      "metadata": {
        "id": "jU1-7O2SkJWx",
        "outputId": "3daca0b4-e0ce-47e8-fb43-598d6cffeae9",
        "colab": {
          "base_uri": "https://localhost:8080/",
          "height": 35
        }
      },
      "source": [
        "df.iat[0, 1].strip().capitalize()"
      ],
      "execution_count": null,
      "outputs": [
        {
          "output_type": "execute_result",
          "data": {
            "application/vnd.google.colaboratory.intrinsic": {
              "type": "string"
            },
            "text/plain": [
              "'Fruit'"
            ]
          },
          "metadata": {
            "tags": []
          },
          "execution_count": 17
        }
      ]
    },
    {
      "cell_type": "code",
      "metadata": {
        "id": "0ocY8fntklLb",
        "outputId": "f7009f39-f9cb-4ea4-f0e8-51f904cb2e71",
        "colab": {
          "base_uri": "https://localhost:8080/",
          "height": 35
        }
      },
      "source": [
        "df.iat[1, 1].strip().capitalize()"
      ],
      "execution_count": null,
      "outputs": [
        {
          "output_type": "execute_result",
          "data": {
            "application/vnd.google.colaboratory.intrinsic": {
              "type": "string"
            },
            "text/plain": [
              "'Meat'"
            ]
          },
          "metadata": {
            "tags": []
          },
          "execution_count": 18
        }
      ]
    },
    {
      "cell_type": "markdown",
      "metadata": {
        "id": "TdNFToVIkqY2"
      },
      "source": [
        "- 만약 바꿔야 하는 데이터가 `100`개이면 위와 같이 작성하는 코드가 굉장히 비효율적이다라는 것을 알 수 있다. \n",
        "- 이 때, `for_loop`를 활용하면 보다 효율적으로 작성할 수 있다. \n",
        "- `df.shape`는 데이터의 행과 열을 표시해준다. \n",
        "  + 위 함수를 활용하여 데이터의 범위를 지정해주는 작업을 많이 한다. "
      ]
    },
    {
      "cell_type": "code",
      "metadata": {
        "id": "XwU3PeB8xHGt",
        "outputId": "4bf605b7-cec6-4084-d1e9-dcbaf5bfc5db",
        "colab": {
          "base_uri": "https://localhost:8080/",
          "height": 34
        }
      },
      "source": [
        "df.shape[0]"
      ],
      "execution_count": null,
      "outputs": [
        {
          "output_type": "execute_result",
          "data": {
            "text/plain": [
              "5"
            ]
          },
          "metadata": {
            "tags": []
          },
          "execution_count": 23
        }
      ]
    },
    {
      "cell_type": "code",
      "metadata": {
        "id": "tQHuu8hnl213",
        "outputId": "c18260cb-c459-4051-e686-fedda53ebef7",
        "colab": {
          "base_uri": "https://localhost:8080/",
          "height": 119
        }
      },
      "source": [
        "for i in range(df.shape[0]): \n",
        "  df.iat[i, 1]= df.iat[i, 1].strip().capitalize()\n",
        "\n",
        "print(df)"
      ],
      "execution_count": null,
      "outputs": [
        {
          "output_type": "stream",
          "text": [
            "        Date Product  Updated_Price  Discount\n",
            "0  10/2/2011   Fruit           1250        10\n",
            "1  11/2/2011    Meat           1450         8\n",
            "2  12/2/2011    Fish           1550        15\n",
            "3  13/2/2011    Milk            400        10\n",
            "4  13/2/2011     Cow            500        11\n"
          ],
          "name": "stdout"
        }
      ]
    },
    {
      "cell_type": "markdown",
      "metadata": {
        "id": "3q0p2fu4m7Nn"
      },
      "source": [
        "## IV. 결론\n",
        "- 간단한 예제를 통해서 `for_loop`의 활용에 대해서 탐색하였다. \n",
        "- 처음 프로그래밍을 배우는 사람이 `for-loop`를 배울 때 가장 난해한 것이 활용 목적을 잃을 때다. \n",
        "- 반복문은 말 그대로, 동일한 코드를 계속적으로 작성해야 하는 상황이 올 때 쓰면 된다. \n",
        "- 한가지 유의할 점은, 데이터셋이 커지면 커질수록 속도에 대한 부담감도 커지게 된다. "
      ]
    }
  ]
}