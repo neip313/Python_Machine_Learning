{
  "nbformat": 4,
  "nbformat_minor": 0,
  "metadata": {
    "kernelspec": {
      "display_name": "Python 3",
      "language": "python",
      "name": "python3"
    },
    "language_info": {
      "codemirror_mode": {
        "name": "ipython",
        "version": 3
      },
      "file_extension": ".py",
      "mimetype": "text/x-python",
      "name": "python",
      "nbconvert_exporter": "python",
      "pygments_lexer": "ipython3",
      "version": "3.7.3"
    },
    "colab": {
      "name": "04. Series 데이터 연산하기_After.ipynb",
      "provenance": [],
      "include_colab_link": true
    }
  },
  "cells": [
    {
      "cell_type": "markdown",
      "metadata": {
        "id": "view-in-github",
        "colab_type": "text"
      },
      "source": [
        "<a href=\"https://colab.research.google.com/github/neip313/Python_Machine_Learning/blob/main/04_Series_%EB%8D%B0%EC%9D%B4%ED%84%B0_%EC%97%B0%EC%82%B0%ED%95%98%EA%B8%B0_After.ipynb\" target=\"_parent\"><img src=\"https://colab.research.google.com/assets/colab-badge.svg\" alt=\"Open In Colab\"/></a>"
      ]
    },
    {
      "cell_type": "markdown",
      "metadata": {
        "id": "p15KgJX29B07"
      },
      "source": [
        "## 학습목표\n",
        " 1. Series 데이터 연산하기"
      ]
    },
    {
      "cell_type": "code",
      "metadata": {
        "id": "gKJ0RoB29B08"
      },
      "source": [
        "import numpy as np\n",
        "import pandas as pd"
      ],
      "execution_count": 1,
      "outputs": []
    },
    {
      "cell_type": "markdown",
      "metadata": {
        "id": "5lAA1xvA9B08"
      },
      "source": [
        "#### index를 기준으로 연산"
      ]
    },
    {
      "cell_type": "code",
      "metadata": {
        "colab": {
          "base_uri": "https://localhost:8080/"
        },
        "id": "udWBCgFc9B08",
        "outputId": "3fbf9448-98c6-443a-d260-bbac858502b0"
      },
      "source": [
        "s1 = pd.Series([1, 2, 3, 4], ['a', 'b', 'c', 'd'])\n",
        "s2 = pd.Series([6, 3, 2, 1], ['d', 'c', 'b', 'a'])\n",
        "\n",
        "s1"
      ],
      "execution_count": 2,
      "outputs": [
        {
          "output_type": "execute_result",
          "data": {
            "text/plain": [
              "a    1\n",
              "b    2\n",
              "c    3\n",
              "d    4\n",
              "dtype: int64"
            ]
          },
          "metadata": {
            "tags": []
          },
          "execution_count": 2
        }
      ]
    },
    {
      "cell_type": "code",
      "metadata": {
        "colab": {
          "base_uri": "https://localhost:8080/"
        },
        "id": "G2VsE3Ds9B08",
        "outputId": "05ecaae1-2935-4b2c-c8db-ae45344477c9"
      },
      "source": [
        "s2"
      ],
      "execution_count": 3,
      "outputs": [
        {
          "output_type": "execute_result",
          "data": {
            "text/plain": [
              "d    6\n",
              "c    3\n",
              "b    2\n",
              "a    1\n",
              "dtype: int64"
            ]
          },
          "metadata": {
            "tags": []
          },
          "execution_count": 3
        }
      ]
    },
    {
      "cell_type": "code",
      "metadata": {
        "colab": {
          "base_uri": "https://localhost:8080/"
        },
        "id": "DYnuP34K9B08",
        "outputId": "51fda509-b527-4b28-a305-5accc6a0a0a6"
      },
      "source": [
        "s1 + s2"
      ],
      "execution_count": 4,
      "outputs": [
        {
          "output_type": "execute_result",
          "data": {
            "text/plain": [
              "a     2\n",
              "b     4\n",
              "c     6\n",
              "d    10\n",
              "dtype: int64"
            ]
          },
          "metadata": {
            "tags": []
          },
          "execution_count": 4
        }
      ]
    },
    {
      "cell_type": "markdown",
      "metadata": {
        "id": "YNuBg9i19B09"
      },
      "source": [
        "#### **산술연산**\n",
        " - Series의 경우에도 스칼라와의 연산은 각 원소별로 스칼라와의 연산이 적용\n",
        " - Series와의 연산은 각 인덱스에 맞는 값끼리 연산이 적용\n",
        "   - 이때, 인덱스의 pair가 맞지 않으면, 결과는 NaN "
      ]
    },
    {
      "cell_type": "code",
      "metadata": {
        "colab": {
          "base_uri": "https://localhost:8080/"
        },
        "id": "YrvAo8lX9B09",
        "outputId": "2ffbefa6-2589-41e9-a2ad-6da3aadf81f4"
      },
      "source": [
        "s1 ** 2"
      ],
      "execution_count": 5,
      "outputs": [
        {
          "output_type": "execute_result",
          "data": {
            "text/plain": [
              "a     1\n",
              "b     4\n",
              "c     9\n",
              "d    16\n",
              "dtype: int64"
            ]
          },
          "metadata": {
            "tags": []
          },
          "execution_count": 5
        }
      ]
    },
    {
      "cell_type": "code",
      "metadata": {
        "colab": {
          "base_uri": "https://localhost:8080/"
        },
        "id": "GZdRurhf9B09",
        "outputId": "4e160624-331f-41f2-ae60-f0afed2746cb"
      },
      "source": [
        "s1 ** s2"
      ],
      "execution_count": 6,
      "outputs": [
        {
          "output_type": "execute_result",
          "data": {
            "text/plain": [
              "a       1\n",
              "b       4\n",
              "c      27\n",
              "d    4096\n",
              "dtype: int64"
            ]
          },
          "metadata": {
            "tags": []
          },
          "execution_count": 6
        }
      ]
    },
    {
      "cell_type": "code",
      "metadata": {
        "colab": {
          "base_uri": "https://localhost:8080/"
        },
        "id": "9NALK9Lj9B09",
        "outputId": "bb570bbd-ec66-427a-d13d-32f959042074"
      },
      "source": [
        "4 ** 6"
      ],
      "execution_count": 7,
      "outputs": [
        {
          "output_type": "execute_result",
          "data": {
            "text/plain": [
              "4096"
            ]
          },
          "metadata": {
            "tags": []
          },
          "execution_count": 7
        }
      ]
    },
    {
      "cell_type": "markdown",
      "metadata": {
        "id": "yonGVogj9B09"
      },
      "source": [
        "#### **index pair가 맞지 않는 경우**\n",
        " - 해당 index에 대해선 NaN 값 생성"
      ]
    },
    {
      "cell_type": "code",
      "metadata": {
        "id": "aJ8AFqTZ9B09"
      },
      "source": [
        "s1['k'] = 7\n",
        "s2['e'] = 9"
      ],
      "execution_count": 8,
      "outputs": []
    },
    {
      "cell_type": "code",
      "metadata": {
        "colab": {
          "base_uri": "https://localhost:8080/"
        },
        "id": "Nuwloyur9B09",
        "outputId": "4dfa5653-b6cd-4481-825f-7096be3b55e9"
      },
      "source": [
        "s1"
      ],
      "execution_count": 9,
      "outputs": [
        {
          "output_type": "execute_result",
          "data": {
            "text/plain": [
              "a    1\n",
              "b    2\n",
              "c    3\n",
              "d    4\n",
              "k    7\n",
              "dtype: int64"
            ]
          },
          "metadata": {
            "tags": []
          },
          "execution_count": 9
        }
      ]
    },
    {
      "cell_type": "code",
      "metadata": {
        "colab": {
          "base_uri": "https://localhost:8080/"
        },
        "id": "1JFYrAZr9B09",
        "outputId": "840a3e32-863e-4833-b6e1-97dcbc3c845d"
      },
      "source": [
        "s2"
      ],
      "execution_count": 10,
      "outputs": [
        {
          "output_type": "execute_result",
          "data": {
            "text/plain": [
              "d    6\n",
              "c    3\n",
              "b    2\n",
              "a    1\n",
              "e    9\n",
              "dtype: int64"
            ]
          },
          "metadata": {
            "tags": []
          },
          "execution_count": 10
        }
      ]
    },
    {
      "cell_type": "code",
      "metadata": {
        "colab": {
          "base_uri": "https://localhost:8080/"
        },
        "id": "umwUih219B09",
        "outputId": "375ef9a0-71c6-4c9c-acb0-a5148d4cfe65"
      },
      "source": [
        "s1 + s2"
      ],
      "execution_count": 11,
      "outputs": [
        {
          "output_type": "execute_result",
          "data": {
            "text/plain": [
              "a     2.0\n",
              "b     4.0\n",
              "c     6.0\n",
              "d    10.0\n",
              "e     NaN\n",
              "k     NaN\n",
              "dtype: float64"
            ]
          },
          "metadata": {
            "tags": []
          },
          "execution_count": 11
        }
      ]
    },
    {
      "cell_type": "code",
      "metadata": {
        "id": "6-D7SmRT9B09"
      },
      "source": [
        ""
      ],
      "execution_count": null,
      "outputs": []
    }
  ]
}