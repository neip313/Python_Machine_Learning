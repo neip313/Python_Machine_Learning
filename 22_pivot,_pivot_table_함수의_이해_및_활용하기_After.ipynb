{
  "nbformat": 4,
  "nbformat_minor": 0,
  "metadata": {
    "kernelspec": {
      "display_name": "Python 3",
      "language": "python",
      "name": "python3"
    },
    "language_info": {
      "codemirror_mode": {
        "name": "ipython",
        "version": 3
      },
      "file_extension": ".py",
      "mimetype": "text/x-python",
      "name": "python",
      "nbconvert_exporter": "python",
      "pygments_lexer": "ipython3",
      "version": "3.7.3"
    },
    "colab": {
      "name": "22. pivot, pivot_table 함수의 이해 및 활용하기_After.ipynb",
      "provenance": [],
      "include_colab_link": true
    }
  },
  "cells": [
    {
      "cell_type": "markdown",
      "metadata": {
        "id": "view-in-github",
        "colab_type": "text"
      },
      "source": [
        "<a href=\"https://colab.research.google.com/github/neip313/Python_Machine_Learning/blob/main/22_pivot%2C_pivot_table_%ED%95%A8%EC%88%98%EC%9D%98_%EC%9D%B4%ED%95%B4_%EB%B0%8F_%ED%99%9C%EC%9A%A9%ED%95%98%EA%B8%B0_After.ipynb\" target=\"_parent\"><img src=\"https://colab.research.google.com/assets/colab-badge.svg\" alt=\"Open In Colab\"/></a>"
      ]
    },
    {
      "cell_type": "markdown",
      "metadata": {
        "id": "OB6CoiKUZ27f"
      },
      "source": [
        "## 학습목표\n",
        " 1. pivot, pivot_table 함수의 이해"
      ]
    },
    {
      "cell_type": "code",
      "metadata": {
        "id": "0FKv8u_4Z27g"
      },
      "source": [
        "import numpy as np\n",
        "import pandas as pd"
      ],
      "execution_count": null,
      "outputs": []
    },
    {
      "cell_type": "code",
      "metadata": {
        "id": "-jmPYjD3Z27g"
      },
      "source": [
        "df = pd.DataFrame({\n",
        "    '지역': ['서울', '서울', '서울', '경기', '경기', '부산', '서울', '서울', '부산', '경기', '경기', '경기'],\n",
        "    '요일': ['월요일', '월요일', '수요일', '월요일', '화요일', '월요일', '목요일', '금요일', '화요일', '수요일', '목요일', '금요일'],\n",
        "    '강수량': [100, 80, 1000, 200, 200, 100, 50, 100, 200, 100, 50, 100],\n",
        "    '강수확률': [80, 70, 90, 10, 20, 30, 50, 90, 20, 80, 50, 10]\n",
        "                  })\n",
        "\n",
        "df"
      ],
      "execution_count": null,
      "outputs": []
    },
    {
      "cell_type": "markdown",
      "metadata": {
        "id": "aGH4HjtfZ27g"
      },
      "source": [
        "#### pivot \n",
        " - dataframe의 형태를 변경\n",
        " - 인덱스, 컬럼, 데이터로 사용할 컬럼을 명시"
      ]
    },
    {
      "cell_type": "code",
      "metadata": {
        "id": "Tx5pZlmvZ27h"
      },
      "source": [
        "df.pivot('지역', '요일')"
      ],
      "execution_count": null,
      "outputs": []
    },
    {
      "cell_type": "code",
      "metadata": {
        "id": "X8BM96_TZ27h"
      },
      "source": [
        "df.pivot('요일', '지역')"
      ],
      "execution_count": null,
      "outputs": []
    },
    {
      "cell_type": "code",
      "metadata": {
        "id": "jo2x0ABYZ27h"
      },
      "source": [
        "# 중복 허용 후 호출\n",
        "df.pivot('요일', '지역')"
      ],
      "execution_count": null,
      "outputs": []
    },
    {
      "cell_type": "markdown",
      "metadata": {
        "id": "OpchBxY2Z27h"
      },
      "source": [
        "#### pivot_table\n",
        " - 기능적으로 pivot과 동일\n",
        " - pivot과의 차이점\n",
        "   - 중복되는 모호한 값이 있을 경우, aggregation 함수 사용하여 값을 채움"
      ]
    },
    {
      "cell_type": "code",
      "metadata": {
        "id": "7xxbArA5Z27h"
      },
      "source": [
        "pd.pivot_table(df, index='요일', columns='지역', aggfunc=np.mean)"
      ],
      "execution_count": null,
      "outputs": []
    },
    {
      "cell_type": "code",
      "metadata": {
        "id": "vIEYfWk-Z27h"
      },
      "source": [
        ""
      ],
      "execution_count": null,
      "outputs": []
    }
  ]
}