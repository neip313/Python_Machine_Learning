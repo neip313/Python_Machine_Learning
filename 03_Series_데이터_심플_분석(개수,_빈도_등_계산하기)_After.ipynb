{
  "nbformat": 4,
  "nbformat_minor": 0,
  "metadata": {
    "kernelspec": {
      "display_name": "Python 3",
      "language": "python",
      "name": "python3"
    },
    "language_info": {
      "codemirror_mode": {
        "name": "ipython",
        "version": 3
      },
      "file_extension": ".py",
      "mimetype": "text/x-python",
      "name": "python",
      "nbconvert_exporter": "python",
      "pygments_lexer": "ipython3",
      "version": "3.7.3"
    },
    "colab": {
      "name": "03. Series 데이터 심플 분석(개수, 빈도 등 계산하기)_After.ipynb",
      "provenance": [],
      "include_colab_link": true
    }
  },
  "cells": [
    {
      "cell_type": "markdown",
      "metadata": {
        "id": "view-in-github",
        "colab_type": "text"
      },
      "source": [
        "<a href=\"https://colab.research.google.com/github/neip313/Python_Machine_Learning/blob/main/03_Series_%EB%8D%B0%EC%9D%B4%ED%84%B0_%EC%8B%AC%ED%94%8C_%EB%B6%84%EC%84%9D(%EA%B0%9C%EC%88%98%2C_%EB%B9%88%EB%8F%84_%EB%93%B1_%EA%B3%84%EC%82%B0%ED%95%98%EA%B8%B0)_After.ipynb\" target=\"_parent\"><img src=\"https://colab.research.google.com/assets/colab-badge.svg\" alt=\"Open In Colab\"/></a>"
      ]
    },
    {
      "cell_type": "markdown",
      "metadata": {
        "id": "wcPGDc2S7CQy"
      },
      "source": [
        "## 학습목표\n",
        " 1. Series 함수 활용하여 데이터 분석하기"
      ]
    },
    {
      "cell_type": "code",
      "metadata": {
        "id": "wRczEBnw7CQz"
      },
      "source": [
        "import numpy as np\n",
        "import pandas as pd"
      ],
      "execution_count": 1,
      "outputs": []
    },
    {
      "cell_type": "markdown",
      "metadata": {
        "id": "u_bargLI7CQ2"
      },
      "source": [
        "#### **Series size, shape, unique, count, value_counts 함수**\n",
        " - size : 개수 반환\n",
        " - shape : 튜플형태로 shape반환\n",
        " - unique: 유일한 값만 ndarray로 반환\n",
        " - count : NaN을 제외한 개수를 반환\n",
        " - mean: NaN을 제외한 평균 \n",
        " - value_counts: NaN을 제외하고 각 값들의 빈도를 반환 "
      ]
    },
    {
      "cell_type": "code",
      "metadata": {
        "colab": {
          "base_uri": "https://localhost:8080/"
        },
        "id": "4LdvNlJI7CQ2",
        "outputId": "5dba4a4f-6a2b-4d68-dd6f-e8c94a5394cc"
      },
      "source": [
        "s = pd.Series([1, 1, 2, 1, 2, 2, 2, 1, 1, 3, 3, 4, 5, 5, 7, np.NaN])\n",
        "s"
      ],
      "execution_count": 2,
      "outputs": [
        {
          "output_type": "execute_result",
          "data": {
            "text/plain": [
              "0     1.0\n",
              "1     1.0\n",
              "2     2.0\n",
              "3     1.0\n",
              "4     2.0\n",
              "5     2.0\n",
              "6     2.0\n",
              "7     1.0\n",
              "8     1.0\n",
              "9     3.0\n",
              "10    3.0\n",
              "11    4.0\n",
              "12    5.0\n",
              "13    5.0\n",
              "14    7.0\n",
              "15    NaN\n",
              "dtype: float64"
            ]
          },
          "metadata": {
            "tags": []
          },
          "execution_count": 2
        }
      ]
    },
    {
      "cell_type": "code",
      "metadata": {
        "colab": {
          "base_uri": "https://localhost:8080/"
        },
        "id": "m8f5JwN37CQ2",
        "outputId": "6b85d00a-55ae-4f92-c295-1d4581323734"
      },
      "source": [
        "len(s)"
      ],
      "execution_count": 3,
      "outputs": [
        {
          "output_type": "execute_result",
          "data": {
            "text/plain": [
              "16"
            ]
          },
          "metadata": {
            "tags": []
          },
          "execution_count": 3
        }
      ]
    },
    {
      "cell_type": "code",
      "metadata": {
        "colab": {
          "base_uri": "https://localhost:8080/"
        },
        "id": "fE0kewGc7CQ2",
        "outputId": "0465d39b-d6ba-4d0d-f84e-67b7af60b45c"
      },
      "source": [
        "s.size"
      ],
      "execution_count": 4,
      "outputs": [
        {
          "output_type": "execute_result",
          "data": {
            "text/plain": [
              "16"
            ]
          },
          "metadata": {
            "tags": []
          },
          "execution_count": 4
        }
      ]
    },
    {
      "cell_type": "code",
      "metadata": {
        "colab": {
          "base_uri": "https://localhost:8080/"
        },
        "id": "lugPM9f37CQ2",
        "outputId": "496860e0-9a71-4936-87f7-fbeeb07e72f2"
      },
      "source": [
        "s.shape"
      ],
      "execution_count": 5,
      "outputs": [
        {
          "output_type": "execute_result",
          "data": {
            "text/plain": [
              "(16,)"
            ]
          },
          "metadata": {
            "tags": []
          },
          "execution_count": 5
        }
      ]
    },
    {
      "cell_type": "code",
      "metadata": {
        "colab": {
          "base_uri": "https://localhost:8080/"
        },
        "id": "BD9snrAM7CQ2",
        "outputId": "5e4695cb-c36e-4b3e-f552-866a14688a21"
      },
      "source": [
        "s.unique()"
      ],
      "execution_count": 6,
      "outputs": [
        {
          "output_type": "execute_result",
          "data": {
            "text/plain": [
              "array([ 1.,  2.,  3.,  4.,  5.,  7., nan])"
            ]
          },
          "metadata": {
            "tags": []
          },
          "execution_count": 6
        }
      ]
    },
    {
      "cell_type": "markdown",
      "metadata": {
        "id": "p-KtoCco7t-0"
      },
      "source": [
        "- NaN은 제외하고 계산 "
      ]
    },
    {
      "cell_type": "code",
      "metadata": {
        "colab": {
          "base_uri": "https://localhost:8080/"
        },
        "id": "t9xCGkI27CQ2",
        "outputId": "07eaebd6-1ab7-4285-e42b-dc6e8f692921"
      },
      "source": [
        "s.count()"
      ],
      "execution_count": 7,
      "outputs": [
        {
          "output_type": "execute_result",
          "data": {
            "text/plain": [
              "15"
            ]
          },
          "metadata": {
            "tags": []
          },
          "execution_count": 7
        }
      ]
    },
    {
      "cell_type": "code",
      "metadata": {
        "colab": {
          "base_uri": "https://localhost:8080/"
        },
        "id": "B76yADyM7CQ2",
        "outputId": "b170d222-226b-42a3-a7a1-27dcf6f38de4"
      },
      "source": [
        "a = np.array([2, 2, 2, 2, np.NaN])\n",
        "a.mean()\n",
        "\n",
        "b = pd.Series(a)\n",
        "b.mean()"
      ],
      "execution_count": 8,
      "outputs": [
        {
          "output_type": "execute_result",
          "data": {
            "text/plain": [
              "2.0"
            ]
          },
          "metadata": {
            "tags": []
          },
          "execution_count": 8
        }
      ]
    },
    {
      "cell_type": "code",
      "metadata": {
        "colab": {
          "base_uri": "https://localhost:8080/"
        },
        "id": "FDKN1jnz7CQ2",
        "outputId": "4cc0db0a-ba05-461c-bf07-a7c787e22ac0"
      },
      "source": [
        "s.mean()"
      ],
      "execution_count": 9,
      "outputs": [
        {
          "output_type": "execute_result",
          "data": {
            "text/plain": [
              "2.6666666666666665"
            ]
          },
          "metadata": {
            "tags": []
          },
          "execution_count": 9
        }
      ]
    },
    {
      "cell_type": "code",
      "metadata": {
        "colab": {
          "base_uri": "https://localhost:8080/"
        },
        "id": "6hJ--mQD7CQ2",
        "outputId": "b03cb96c-943a-461f-af33-20049bbf0f4e"
      },
      "source": [
        "s"
      ],
      "execution_count": 10,
      "outputs": [
        {
          "output_type": "execute_result",
          "data": {
            "text/plain": [
              "0     1.0\n",
              "1     1.0\n",
              "2     2.0\n",
              "3     1.0\n",
              "4     2.0\n",
              "5     2.0\n",
              "6     2.0\n",
              "7     1.0\n",
              "8     1.0\n",
              "9     3.0\n",
              "10    3.0\n",
              "11    4.0\n",
              "12    5.0\n",
              "13    5.0\n",
              "14    7.0\n",
              "15    NaN\n",
              "dtype: float64"
            ]
          },
          "metadata": {
            "tags": []
          },
          "execution_count": 10
        }
      ]
    },
    {
      "cell_type": "code",
      "metadata": {
        "colab": {
          "base_uri": "https://localhost:8080/",
          "height": 289
        },
        "id": "X-HL0GmD7CQ2",
        "outputId": "8ac4fc3d-53bd-4ee3-91af-a2cad4113231"
      },
      "source": [
        "s.value_counts().plot(kind = 'bar')"
      ],
      "execution_count": 17,
      "outputs": [
        {
          "output_type": "execute_result",
          "data": {
            "text/plain": [
              "<matplotlib.axes._subplots.AxesSubplot at 0x7f144acca048>"
            ]
          },
          "metadata": {
            "tags": []
          },
          "execution_count": 17
        },
        {
          "output_type": "display_data",
          "data": {
            "image/png": "[encoded data removed]",
            "text/plain": [
              "<Figure size 432x288 with 1 Axes>"
            ]
          },
          "metadata": {
            "tags": [],
            "needs_background": "light"
          }
        }
      ]
    },
    {
      "cell_type": "markdown",
      "metadata": {
        "id": "azioeR717CQ2"
      },
      "source": [
        "index를 활용하여 멀티플한 값에 접근"
      ]
    },
    {
      "cell_type": "code",
      "metadata": {
        "colab": {
          "base_uri": "https://localhost:8080/"
        },
        "id": "H5LPWLU27CQ2",
        "outputId": "fda79e49-4e9c-4be2-d0ea-82fa8535c13e"
      },
      "source": [
        "s[[5, 7, 8, 10]].value_counts()"
      ],
      "execution_count": 12,
      "outputs": [
        {
          "output_type": "execute_result",
          "data": {
            "text/plain": [
              "1.0    2\n",
              "3.0    1\n",
              "2.0    1\n",
              "dtype: int64"
            ]
          },
          "metadata": {
            "tags": []
          },
          "execution_count": 12
        }
      ]
    },
    {
      "cell_type": "code",
      "metadata": {
        "id": "hUhwOowc7CQ2"
      },
      "source": [
        ""
      ],
      "execution_count": 12,
      "outputs": []
    },
    {
      "cell_type": "markdown",
      "metadata": {
        "id": "awtM2GYH7CQ2"
      },
      "source": [
        "#### **head, tail 함수**\n",
        " - head : 상위 n개 출력 기본 5개\n",
        " - tail : 하위 n개 출력 기본 5개"
      ]
    },
    {
      "cell_type": "code",
      "metadata": {
        "colab": {
          "base_uri": "https://localhost:8080/"
        },
        "id": "hoFAufw07CQ2",
        "outputId": "81abdb49-0a1d-4849-8424-a689e716f4c0"
      },
      "source": [
        "s.head(n=7)"
      ],
      "execution_count": 13,
      "outputs": [
        {
          "output_type": "execute_result",
          "data": {
            "text/plain": [
              "0    1.0\n",
              "1    1.0\n",
              "2    2.0\n",
              "3    1.0\n",
              "4    2.0\n",
              "5    2.0\n",
              "6    2.0\n",
              "dtype: float64"
            ]
          },
          "metadata": {
            "tags": []
          },
          "execution_count": 13
        }
      ]
    },
    {
      "cell_type": "code",
      "metadata": {
        "colab": {
          "base_uri": "https://localhost:8080/"
        },
        "id": "Oh0n4ibM7CQ2",
        "outputId": "f5febd62-8774-4566-d8af-e1fc8dcae7b5"
      },
      "source": [
        "s.tail()"
      ],
      "execution_count": 14,
      "outputs": [
        {
          "output_type": "execute_result",
          "data": {
            "text/plain": [
              "11    4.0\n",
              "12    5.0\n",
              "13    5.0\n",
              "14    7.0\n",
              "15    NaN\n",
              "dtype: float64"
            ]
          },
          "metadata": {
            "tags": []
          },
          "execution_count": 14
        }
      ]
    },
    {
      "cell_type": "code",
      "metadata": {
        "colab": {
          "base_uri": "https://localhost:8080/"
        },
        "id": "IqDn3HgA7CQ2",
        "outputId": "d33a630e-620e-4671-80ea-2dc56352dfdd"
      },
      "source": [
        "s"
      ],
      "execution_count": 15,
      "outputs": [
        {
          "output_type": "execute_result",
          "data": {
            "text/plain": [
              "0     1.0\n",
              "1     1.0\n",
              "2     2.0\n",
              "3     1.0\n",
              "4     2.0\n",
              "5     2.0\n",
              "6     2.0\n",
              "7     1.0\n",
              "8     1.0\n",
              "9     3.0\n",
              "10    3.0\n",
              "11    4.0\n",
              "12    5.0\n",
              "13    5.0\n",
              "14    7.0\n",
              "15    NaN\n",
              "dtype: float64"
            ]
          },
          "metadata": {
            "tags": []
          },
          "execution_count": 15
        }
      ]
    },
    {
      "cell_type": "code",
      "metadata": {
        "id": "ANgw_tta7CQ2"
      },
      "source": [
        ""
      ],
      "execution_count": 15,
      "outputs": []
    }
  ]
}