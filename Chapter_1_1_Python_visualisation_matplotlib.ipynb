{
  "nbformat": 4,
  "nbformat_minor": 0,
  "metadata": {
    "colab": {
      "name": "Chapter_1_1_Python_visualisation_matplotlib.ipynb",
      "provenance": [],
      "collapsed_sections": [],
      "include_colab_link": true
    },
    "kernelspec": {
      "name": "python3",
      "display_name": "Python 3"
    }
  },
  "cells": [
    {
      "cell_type": "markdown",
      "metadata": {
        "id": "view-in-github",
        "colab_type": "text"
      },
      "source": [
        "<a href=\"https://colab.research.google.com/github/neip313/Python_Machine_Learning/blob/main/Chapter_1_1_Python_visualisation_matplotlib.ipynb\" target=\"_parent\"><img src=\"https://colab.research.google.com/assets/colab-badge.svg\" alt=\"Open In Colab\"/></a>"
      ]
    },
    {
      "cell_type": "markdown",
      "metadata": {
        "id": "wEKO0skEPoLn"
      },
      "source": [
        "---\n",
        "title: \"Chapter_1_1_Python_visualisation_intro\"\n",
        "date: 2020-06-03T16:15:47+09:00\n",
        "tags:\n",
        "  - \"Data Visualisation\"\n",
        "  - \"Python\"\n",
        "  - \"Matplotlib\"\n",
        "categories:\n",
        "  - \"Data Visualisation\"\n",
        "  - \"Python\"\n",
        "  - \"Matplotlib\"\n",
        "menu: \n",
        "  python:\n",
        "    name: Chapter_1_1_Python_visualisation_intro\n",
        "---\n",
        "\n",
        "## 공지\n",
        "\n",
        "제 수업을 듣는 사람들이 계속적으로 실습할 수 있도록 강의 파일을 만들었습니다. 늘 도움이 되기를 바라며. 참고했던 교재 및 Reference는 꼭 확인하셔서 교재 구매 또는 관련 Reference를 확인하시기를 바랍니다. \n",
        "\n"
      ]
    },
    {
      "cell_type": "markdown",
      "metadata": {
        "id": "48llMxYNpPqg"
      },
      "source": [
        "## I. Matplotlib & Seaborn\n",
        "\n",
        "### (1) 기본 개요\n",
        "`Matplotlib`는 파이썬 표준 시각화 도구라고 불리워지며 파이썬 그래프의 기본 토대가 된다고 해도 무방하다. 객체지향 프로그래밍을 지원하므로 세세하게 꾸밀 수 있다. \n",
        "\n",
        "`Seaborn` 그래는 파이썬 시각화 도구의 고급 버전이다. `Matplotlib`에 비해 비교적 단순한 인터페이스를 제공하기 때문에 초보자도 어렵지 않게 배울 수 있다. \n",
        "\n",
        "### (2) matplotlib & Seabon 설치\n",
        "\n",
        "설치방법은 윈도우 명령 프롬프트, MacOS, Linux 터미널에서 `pip install matplotlib`입력하면 되지만, 간혹 여러 환경에 따라 달라질 수 있으니 관련 싸이트에서 확인하기를 바란다. \n",
        "- matplotlib 설치 방법: https://matplotlib.org/users/installing.html\n",
        "- seaborn 설치 방법: https://seaborn.pydata.org/installing.html\n"
      ]
    },
    {
      "cell_type": "markdown",
      "metadata": {
        "id": "5cFwkQCtpTbm"
      },
      "source": [
        "## II. 기본적인 시각화 문법\n",
        "- 시각화 문법은 아래와 같다. \n",
        "\n",
        "```python\n",
        "import matplotlib.pyplot as plt\n",
        "plt.plot(\"X축 리스트\", \"Y축 리스트\")\n",
        "plt.show()\n",
        "```\n"
      ]
    },
    {
      "cell_type": "code",
      "metadata": {
        "id": "1cu6GWx0qylj",
        "outputId": "41361653-112b-4868-aacd-a6444d38a616",
        "colab": {
          "base_uri": "https://localhost:8080/",
          "height": 265
        }
      },
      "source": [
        "import matplotlib.pyplot as plt\n",
        "x = [1,2,3,4,5] # list\n",
        "y = [1,4,2,3,8] # list\n",
        "\n",
        "plt.plot(x, y)  # Matplotlib plot.\n",
        "plt.show()"
      ],
      "execution_count": 1,
      "outputs": [
        {
          "output_type": "display_data",
          "data": {
            "image/png": "[encoded data removed]",
            "text/plain": [
              "<Figure size 432x288 with 1 Axes>"
            ]
          },
          "metadata": {
            "tags": [],
            "needs_background": "light"
          }
        }
      ]
    },
    {
      "cell_type": "markdown",
      "metadata": {
        "id": "PZkJuyyva1VZ"
      },
      "source": [
        "## III. Pandas + Matplotlib\n",
        "- `Pandas`로 가상의 데이터프레임을 만든 후, `Matplotlib`로 시각화를 진행한다. \n",
        "- 이 때, 산점도를 작성하는데, `num_A`는 x축, `num_B`는 y축으로 지정한다. "
      ]
    },
    {
      "cell_type": "code",
      "metadata": {
        "id": "KcggbpP3bp-F",
        "outputId": "03ae2de7-a4e7-40d2-c1e4-fddc856116b7",
        "colab": {
          "base_uri": "https://localhost:8080/",
          "height": 280
        }
      },
      "source": [
        "import pandas as pd\n",
        "import matplotlib.pyplot as plt\n",
        "\n",
        "df = pd.DataFrame({\n",
        "    'age':[23,78,22,19,45,33,20],\n",
        "    'gender':['M','F','M','M','M','F','M'],\n",
        "    'region':['A','B','B','A','C','C','A'],\n",
        "    'num_A':[2,0,0,3,2,1,4],\n",
        "    'num_B':[5,1,0,5,2,2,3]\n",
        "})\n",
        "\n",
        "df.plot(kind='scatter', x='num_A', y='num_B')\n",
        "plt.show()"
      ],
      "execution_count": null,
      "outputs": [
        {
          "output_type": "display_data",
          "data": {
            "image/png": "[encoded data removed]",
            "text/plain": [
              "<Figure size 432x288 with 1 Axes>"
            ]
          },
          "metadata": {
            "tags": [],
            "needs_background": "light"
          }
        }
      ]
    },
    {
      "cell_type": "code",
      "metadata": {
        "id": "Nzx4aaBtIbGV",
        "outputId": "7fd0b98f-508b-4399-f370-a2b323d2d431",
        "colab": {
          "base_uri": "https://localhost:8080/",
          "height": 153
        }
      },
      "source": [
        "print(df)"
      ],
      "execution_count": null,
      "outputs": [
        {
          "output_type": "stream",
          "text": [
            "   age gender region  num_A  num_B\n",
            "0   23      M      A      2      5\n",
            "1   78      F      B      0      1\n",
            "2   22      M      B      0      0\n",
            "3   19      M      A      3      5\n",
            "4   45      M      C      2      2\n",
            "5   33      F      C      1      2\n",
            "6   20      M      A      4      3\n"
          ],
          "name": "stdout"
        }
      ]
    },
    {
      "cell_type": "markdown",
      "metadata": {
        "id": "fc4Imgaoc5Bh"
      },
      "source": [
        "## IV. What's Next\n",
        "- 이번 시간에는 간단하게 Python에서 실행하는 `matplotlib` 시각화의 기본적인 문법에 대해 배웠습니다. \n",
        "- 다음 시간에는 `seaborn`에 대해서 배워보도록 합니다. "
      ]
    }
  ]
}