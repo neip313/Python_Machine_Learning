{
  "nbformat": 4,
  "nbformat_minor": 0,
  "metadata": {
    "colab": {
      "name": "Chapter_1_3_Python_Pandas_intro.ipynb",
      "provenance": [],
      "collapsed_sections": [],
      "toc_visible": true,
      "include_colab_link": true
    },
    "kernelspec": {
      "name": "python3",
      "display_name": "Python 3"
    }
  },
  "cells": [
    {
      "cell_type": "markdown",
      "metadata": {
        "id": "view-in-github",
        "colab_type": "text"
      },
      "source": [
        "<a href=\"https://colab.research.google.com/github/neip313/Python_Machine_Learning/blob/main/Chapter_1_3_Python_Pandas_intro.ipynb\" target=\"_parent\"><img src=\"https://colab.research.google.com/assets/colab-badge.svg\" alt=\"Open In Colab\"/></a>"
      ]
    },
    {
      "cell_type": "markdown",
      "metadata": {
        "id": "wEKO0skEPoLn"
      },
      "source": [
        "---\n",
        "title: \"EDA with Python - Pandas\"\n",
        "date: 2020-06-01T18:15:47+09:00\n",
        "tags:\n",
        "  - \"Data Visualisation\"\n",
        "  - \"EDA\"\n",
        "  - \"Python\"\n",
        "  - \"Pandas\"\n",
        "  - \"Python Basic\"\n",
        "categories:\n",
        "  - \"Data Visualisation\"\n",
        "  - \"Python\"\n",
        "  - \"Python Basic\"\n",
        "menu: \n",
        "  python:\n",
        "    name: EDA with Python - Pandas\n",
        "---\n",
        "\n",
        "![](/img/python_edu/02_datatransformation/pandas_logo.png#center)"
      ]
    },
    {
      "cell_type": "markdown",
      "metadata": {
        "id": "48llMxYNpPqg"
      },
      "source": [
        "## I. 개요\n",
        "\n",
        "- `Pandas`는 `panel data`의 의미를 가지고 있다. \n",
        "- 흔히, 엑셀 데이터로 불리우는 `관계형(Relational)` 또는 `레이블링된(Labeling)`된 데이터를 보다 쉽게, 직관적으로 작업할 수 있도록 설계되어 있다. \n",
        "- `Python`에서 데이터 분석을 수행하기 위한 매우 기초적이며 높은 수준의 문법을 제공한다. \n",
        "- `Pandas`는 크게 `Series` & `DataFrame`을 다룰 수 있도록 기초 문법을 제공하고 있다. \n",
        "- `Pandas`가 다루는 여러 종류의 데이터를 확인해보자. \n",
        "  + SQL 테이블 또는 Excel 스프레드시트에서와 같이 형식의 행과 열이 있는 표 형식 데이터\n",
        "  + 순서 및 순서 지정되지 않은(고정 빈도일 필요는 없음) 시계열 데이터.\n",
        "  + 행 및 열 레이블이 있는 임의 행렬 데이터\n",
        "  + 기타 형태의 관측/통계 데이터 세트"
      ]
    },
    {
      "cell_type": "markdown",
      "metadata": {
        "id": "U5USolBdsMJE"
      },
      "source": [
        "## II. 모듈 Import\n",
        "- 패키지 설치방법은 [설치 문서](https://pandas.pydata.org/pandas-docs/stable/getting_started/install.html)를 확인한다. \n"
      ]
    },
    {
      "cell_type": "code",
      "metadata": {
        "id": "fZcsxMO_ntCK",
        "outputId": "dce37f90-c89a-4182-a447-dee76ca55f08",
        "colab": {
          "base_uri": "https://localhost:8080/"
        }
      },
      "source": [
        "import pandas as pd\n",
        "print(pd.__version__)"
      ],
      "execution_count": 2,
      "outputs": [
        {
          "output_type": "stream",
          "text": [
            "1.1.3\n"
          ],
          "name": "stdout"
        }
      ]
    },
    {
      "cell_type": "code",
      "metadata": {
        "id": "7v7CPkIhwwRo"
      },
      "source": [
        "from IPython.core.display import display, HTML"
      ],
      "execution_count": 3,
      "outputs": []
    },
    {
      "cell_type": "markdown",
      "metadata": {
        "id": "RruVinlAVnyi"
      },
      "source": [
        "## III. Pandas 기본 활용법\n",
        "- `Pandas`가 제공하는 다양한 기능은 다음과 같지만, 본 튜토리얼에서는 `Sample` 위주로 다루도록 한다. \n",
        "  + 부동 소수점 데이터뿐만 아니라 부동 소수점 데이터에서도 결측 데이터(NaN으로 표시됨)를 쉽게 처리함 \n",
        "  + 크기 변이성: DataFrame 및 고차원 객체에서 열을 삽입 및 삭제 가능\n",
        "  + 자동 및 명시적 데이터 정렬: 객체를 라벨 집합에 명시적으로 정렬하거나, 사용자가 라벨을 무시하고 `Series`, `DataFrame` 등이 자동으로 데이터를 계산에서 정렬 가능\n",
        "  + 데이터 집합에서 데이터 집합의 분할 적용 결합 작업을 수행할 수 있는 기능\n",
        "  + 다른 `Python` 및 `NumPy` 데이터 구조에서 색인이 다른 데이터를 `DataFrame` 개체로 쉽게 변환\n",
        "  + 지능형 라벨 기반 슬라이싱, 고급 인덱싱 및 대용량 데이터 세트 부분 집합 취하기\n",
        "  + 직관적인 데이터 세트 병합 및 결합\n",
        "  + 유연한 데이터 세트 재구성 및 피벗테이블 구성\n",
        "  + 축의 계층적 라벨링(눈금당 여러 개의 라벨을 가질 수 있음)\n",
        "  + 플랫 파일(CSV 및 구분), Excel 파일, 데이터베이스 로딩 및 초고속 HDF5 형식의 데이터 저장/로딩에 사용되는 강력한 데이터 IO 도구\n",
        "  + 시계열별 기능: 날짜 범위 생성 및 주파수 변환, 이동 창 통계, 날짜 이동 및 지연. \n",
        "\n",
        "\n",
        "\n",
        "\n"
      ]
    },
    {
      "cell_type": "markdown",
      "metadata": {
        "id": "SA5hv7OJSmWr"
      },
      "source": [
        "## IV. Pandas Sample Tutorial\n",
        "- 간단하게 `Pandas`를 활용한 `Tutorial`을 확인해보자. "
      ]
    },
    {
      "cell_type": "markdown",
      "metadata": {
        "id": "Lzg_ocyq_HgL"
      },
      "source": [
        "### (1) 파라미터 세팅\n",
        "- 먼저, 행과 열을 최대 출력하는 개수를 지정한다. "
      ]
    },
    {
      "cell_type": "code",
      "metadata": {
        "id": "BzIdUhxD_aDd"
      },
      "source": [
        "pd.set_option('display.max_columns', 500)\n",
        "pd.set_option('display.max_rows', 500)"
      ],
      "execution_count": 4,
      "outputs": []
    },
    {
      "cell_type": "markdown",
      "metadata": {
        "id": "VU3qZ9Qz_p21"
      },
      "source": [
        "### (2) 데이터 생성\n",
        "- 데이터를 생성하는 방법은 크게 2가지로 구분된다. (`Series`, `DataFrame`)\n",
        "- 먼저 `Series`를 만들어보자."
      ]
    },
    {
      "cell_type": "code",
      "metadata": {
        "id": "LZklnUX-At0R",
        "outputId": "3a455f61-cd4e-4f25-abf3-813dcb163f7b",
        "colab": {
          "base_uri": "https://localhost:8080/"
        }
      },
      "source": [
        "temp_series = pd.Series([1,2,3,5,8,13,21])\n",
        "print(temp_series)"
      ],
      "execution_count": 5,
      "outputs": [
        {
          "output_type": "stream",
          "text": [
            "0     1\n",
            "1     2\n",
            "2     3\n",
            "3     5\n",
            "4     8\n",
            "5    13\n",
            "6    21\n",
            "dtype: int64\n"
          ],
          "name": "stdout"
        }
      ]
    },
    {
      "cell_type": "markdown",
      "metadata": {
        "id": "TBHE_a9PA8UO"
      },
      "source": [
        "- 이제 `Series`에 있는 데이터와 함께 `DataFrame`을 만든다."
      ]
    },
    {
      "cell_type": "code",
      "metadata": {
        "id": "TB5qwyDYBFTg",
        "outputId": "34010d7b-dcd4-4a4b-f1ff-0d8acd39f725",
        "colab": {
          "base_uri": "https://localhost:8080/",
          "height": 173
        }
      },
      "source": [
        "series_df = pd.DataFrame({\n",
        "    \"No\":range(1,5), \n",
        "    \"날짜\":pd.Timestamp('20200601'), \n",
        "    \"출석점수\":pd.Series(5, index=list(range(4)), dtype='float64'), \n",
        "    \"등급\":pd.Categorical([\"A등급\", \"B등급\", \"C등급\", \"D등급\"]), \n",
        "    \"구분\":\"학점\"\n",
        "})\n",
        "series_df\n",
        "# display(series_df)"
      ],
      "execution_count": 6,
      "outputs": [
        {
          "output_type": "execute_result",
          "data": {
            "text/html": [
              "<div>\n",
              "<style scoped>\n",
              "    .dataframe tbody tr th:only-of-type {\n",
              "        vertical-align: middle;\n",
              "    }\n",
              "\n",
              "    .dataframe tbody tr th {\n",
              "        vertical-align: top;\n",
              "    }\n",
              "\n",
              "    .dataframe thead th {\n",
              "        text-align: right;\n",
              "    }\n",
              "</style>\n",
              "<table border=\"1\" class=\"dataframe\">\n",
              "  <thead>\n",
              "    <tr style=\"text-align: right;\">\n",
              "      <th></th>\n",
              "      <th>No</th>\n",
              "      <th>날짜</th>\n",
              "      <th>출석점수</th>\n",
              "      <th>등급</th>\n",
              "      <th>구분</th>\n",
              "    </tr>\n",
              "  </thead>\n",
              "  <tbody>\n",
              "    <tr>\n",
              "      <th>0</th>\n",
              "      <td>1</td>\n",
              "      <td>2020-06-01</td>\n",
              "      <td>5.0</td>\n",
              "      <td>A등급</td>\n",
              "      <td>학점</td>\n",
              "    </tr>\n",
              "    <tr>\n",
              "      <th>1</th>\n",
              "      <td>2</td>\n",
              "      <td>2020-06-01</td>\n",
              "      <td>5.0</td>\n",
              "      <td>B등급</td>\n",
              "      <td>학점</td>\n",
              "    </tr>\n",
              "    <tr>\n",
              "      <th>2</th>\n",
              "      <td>3</td>\n",
              "      <td>2020-06-01</td>\n",
              "      <td>5.0</td>\n",
              "      <td>C등급</td>\n",
              "      <td>학점</td>\n",
              "    </tr>\n",
              "    <tr>\n",
              "      <th>3</th>\n",
              "      <td>4</td>\n",
              "      <td>2020-06-01</td>\n",
              "      <td>5.0</td>\n",
              "      <td>D등급</td>\n",
              "      <td>학점</td>\n",
              "    </tr>\n",
              "  </tbody>\n",
              "</table>\n",
              "</div>"
            ],
            "text/plain": [
              "   No         날짜  출석점수   등급  구분\n",
              "0   1 2020-06-01   5.0  A등급  학점\n",
              "1   2 2020-06-01   5.0  B등급  학점\n",
              "2   3 2020-06-01   5.0  C등급  학점\n",
              "3   4 2020-06-01   5.0  D등급  학점"
            ]
          },
          "metadata": {
            "tags": []
          },
          "execution_count": 6
        }
      ]
    },
    {
      "cell_type": "markdown",
      "metadata": {
        "id": "cRx7bIPWA8Gp"
      },
      "source": [
        "- 이번에는 딕셔너리에서 데이터프레임으로 변환하는 소스코드다.\n",
        "- 아래 코드에서 보여주고자 하는 것은 딕셔너리의 크기가 동일하지 않아도, 데이터프레임으로 변환되는데 문제가 없다. \n",
        "- 다만, `NaN`으로 채울 뿐이다."
      ]
    },
    {
      "cell_type": "code",
      "metadata": {
        "id": "caR2-eJfCkZW",
        "outputId": "a9bc638f-42e0-4e75-d544-e1f4cf776dc9",
        "colab": {
          "base_uri": "https://localhost:8080/",
          "height": 111
        }
      },
      "source": [
        "dict_df = [{'가': '사과', '나': '볼'},{'가': '비행기', '나': '방망이', '다': '고양이'}]\n",
        "dict_df = pd.DataFrame(dict_df)\n",
        "display(dict_df)"
      ],
      "execution_count": 7,
      "outputs": [
        {
          "output_type": "display_data",
          "data": {
            "text/html": [
              "<div>\n",
              "<style scoped>\n",
              "    .dataframe tbody tr th:only-of-type {\n",
              "        vertical-align: middle;\n",
              "    }\n",
              "\n",
              "    .dataframe tbody tr th {\n",
              "        vertical-align: top;\n",
              "    }\n",
              "\n",
              "    .dataframe thead th {\n",
              "        text-align: right;\n",
              "    }\n",
              "</style>\n",
              "<table border=\"1\" class=\"dataframe\">\n",
              "  <thead>\n",
              "    <tr style=\"text-align: right;\">\n",
              "      <th></th>\n",
              "      <th>가</th>\n",
              "      <th>나</th>\n",
              "      <th>다</th>\n",
              "    </tr>\n",
              "  </thead>\n",
              "  <tbody>\n",
              "    <tr>\n",
              "      <th>0</th>\n",
              "      <td>사과</td>\n",
              "      <td>볼</td>\n",
              "      <td>NaN</td>\n",
              "    </tr>\n",
              "    <tr>\n",
              "      <th>1</th>\n",
              "      <td>비행기</td>\n",
              "      <td>방망이</td>\n",
              "      <td>고양이</td>\n",
              "    </tr>\n",
              "  </tbody>\n",
              "</table>\n",
              "</div>"
            ],
            "text/plain": [
              "     가    나    다\n",
              "0   사과    볼  NaN\n",
              "1  비행기  방망이  고양이"
            ]
          },
          "metadata": {
            "tags": []
          }
        }
      ]
    },
    {
      "cell_type": "markdown",
      "metadata": {
        "id": "hhZZwaIfDkDM"
      },
      "source": [
        "- 이번에는 배열에서 데이터프레임으로 변환하는 소스코드다."
      ]
    },
    {
      "cell_type": "code",
      "metadata": {
        "id": "QyCL_c8OD0pl",
        "outputId": "68350209-03d2-427e-a593-6500f65f3f1b",
        "colab": {
          "base_uri": "https://localhost:8080/",
          "height": 142
        }
      },
      "source": [
        "sdf = {\n",
        "    '국가':['한국', '미국', '일본'],\n",
        "    'ISO-Code':[1,2,3],\n",
        "    '지역': [4180.69, 4917.94, 454.07,],\n",
        "    '위치': [\"서울\", \"LA\", \"동경\"]\n",
        "    }\n",
        "sdf = pd.DataFrame(sdf)\n",
        "display(sdf)"
      ],
      "execution_count": null,
      "outputs": [
        {
          "output_type": "display_data",
          "data": {
            "text/html": [
              "<div>\n",
              "<style scoped>\n",
              "    .dataframe tbody tr th:only-of-type {\n",
              "        vertical-align: middle;\n",
              "    }\n",
              "\n",
              "    .dataframe tbody tr th {\n",
              "        vertical-align: top;\n",
              "    }\n",
              "\n",
              "    .dataframe thead th {\n",
              "        text-align: right;\n",
              "    }\n",
              "</style>\n",
              "<table border=\"1\" class=\"dataframe\">\n",
              "  <thead>\n",
              "    <tr style=\"text-align: right;\">\n",
              "      <th></th>\n",
              "      <th>국가</th>\n",
              "      <th>ISO-Code</th>\n",
              "      <th>지역</th>\n",
              "      <th>위치</th>\n",
              "    </tr>\n",
              "  </thead>\n",
              "  <tbody>\n",
              "    <tr>\n",
              "      <th>0</th>\n",
              "      <td>한국</td>\n",
              "      <td>1</td>\n",
              "      <td>4180.69</td>\n",
              "      <td>서울</td>\n",
              "    </tr>\n",
              "    <tr>\n",
              "      <th>1</th>\n",
              "      <td>미국</td>\n",
              "      <td>2</td>\n",
              "      <td>4917.94</td>\n",
              "      <td>LA</td>\n",
              "    </tr>\n",
              "    <tr>\n",
              "      <th>2</th>\n",
              "      <td>일본</td>\n",
              "      <td>3</td>\n",
              "      <td>454.07</td>\n",
              "      <td>동경</td>\n",
              "    </tr>\n",
              "  </tbody>\n",
              "</table>\n",
              "</div>"
            ],
            "text/plain": [
              "   국가  ISO-Code       지역  위치\n",
              "0  한국         1  4180.69  서울\n",
              "1  미국         2  4917.94  LA\n",
              "2  일본         3   454.07  동경"
            ]
          },
          "metadata": {
            "tags": []
          }
        }
      ]
    },
    {
      "cell_type": "markdown",
      "metadata": {
        "id": "S_WI5EwDEWQY"
      },
      "source": [
        "### (3) 파일 입출력\n",
        "- 외부 데이터의 파일 입출력에 대한 코드를 입력한다."
      ]
    },
    {
      "cell_type": "markdown",
      "metadata": {
        "id": "UZAMKX9ukZoO"
      },
      "source": [
        ""
      ]
    },
    {
      "cell_type": "code",
      "metadata": {
        "id": "3OHoDQeWkOh9"
      },
      "source": [
        "# data.매서드 "
      ],
      "execution_count": null,
      "outputs": []
    },
    {
      "cell_type": "markdown",
      "metadata": {
        "id": "z_FDxf_8kemA"
      },
      "source": [
        "attribute error --->> 매서드가 없다는 뜻의 애러 "
      ]
    },
    {
      "cell_type": "markdown",
      "metadata": {
        "id": "O6AoEVXkkcsk"
      },
      "source": [
        ""
      ]
    },
    {
      "cell_type": "code",
      "metadata": {
        "id": "xW0NICSvEc2f",
        "outputId": "b0a2219b-556d-41a7-8bd9-9c67776b1191",
        "colab": {
          "base_uri": "https://localhost:8080/",
          "height": 162
        }
      },
      "source": [
        "url = 'http://archive.ics.uci.edu/ml/machine-learning-databases/adult/adult.data'\n",
        "df = pd.read_csv(url)\n",
        "display(df.head(2))"
      ],
      "execution_count": null,
      "outputs": [
        {
          "output_type": "display_data",
          "data": {
            "text/html": [
              "<div>\n",
              "<style scoped>\n",
              "    .dataframe tbody tr th:only-of-type {\n",
              "        vertical-align: middle;\n",
              "    }\n",
              "\n",
              "    .dataframe tbody tr th {\n",
              "        vertical-align: top;\n",
              "    }\n",
              "\n",
              "    .dataframe thead th {\n",
              "        text-align: right;\n",
              "    }\n",
              "</style>\n",
              "<table border=\"1\" class=\"dataframe\">\n",
              "  <thead>\n",
              "    <tr style=\"text-align: right;\">\n",
              "      <th></th>\n",
              "      <th>39</th>\n",
              "      <th>State-gov</th>\n",
              "      <th>77516</th>\n",
              "      <th>Bachelors</th>\n",
              "      <th>13</th>\n",
              "      <th>Never-married</th>\n",
              "      <th>Adm-clerical</th>\n",
              "      <th>Not-in-family</th>\n",
              "      <th>White</th>\n",
              "      <th>Male</th>\n",
              "      <th>2174</th>\n",
              "      <th>0</th>\n",
              "      <th>40</th>\n",
              "      <th>United-States</th>\n",
              "      <th>&lt;=50K</th>\n",
              "    </tr>\n",
              "  </thead>\n",
              "  <tbody>\n",
              "    <tr>\n",
              "      <th>0</th>\n",
              "      <td>50</td>\n",
              "      <td>Self-emp-not-inc</td>\n",
              "      <td>83311</td>\n",
              "      <td>Bachelors</td>\n",
              "      <td>13</td>\n",
              "      <td>Married-civ-spouse</td>\n",
              "      <td>Exec-managerial</td>\n",
              "      <td>Husband</td>\n",
              "      <td>White</td>\n",
              "      <td>Male</td>\n",
              "      <td>0</td>\n",
              "      <td>0</td>\n",
              "      <td>13</td>\n",
              "      <td>United-States</td>\n",
              "      <td>&lt;=50K</td>\n",
              "    </tr>\n",
              "    <tr>\n",
              "      <th>1</th>\n",
              "      <td>38</td>\n",
              "      <td>Private</td>\n",
              "      <td>215646</td>\n",
              "      <td>HS-grad</td>\n",
              "      <td>9</td>\n",
              "      <td>Divorced</td>\n",
              "      <td>Handlers-cleaners</td>\n",
              "      <td>Not-in-family</td>\n",
              "      <td>White</td>\n",
              "      <td>Male</td>\n",
              "      <td>0</td>\n",
              "      <td>0</td>\n",
              "      <td>40</td>\n",
              "      <td>United-States</td>\n",
              "      <td>&lt;=50K</td>\n",
              "    </tr>\n",
              "  </tbody>\n",
              "</table>\n",
              "</div>"
            ],
            "text/plain": [
              "   39          State-gov   77516   Bachelors   13        Never-married  \\\n",
              "0  50   Self-emp-not-inc   83311   Bachelors   13   Married-civ-spouse   \n",
              "1  38            Private  215646     HS-grad    9             Divorced   \n",
              "\n",
              "         Adm-clerical   Not-in-family   White   Male   2174   0   40  \\\n",
              "0     Exec-managerial         Husband   White   Male      0   0   13   \n",
              "1   Handlers-cleaners   Not-in-family   White   Male      0   0   40   \n",
              "\n",
              "    United-States   <=50K  \n",
              "0   United-States   <=50K  \n",
              "1   United-States   <=50K  "
            ]
          },
          "metadata": {
            "tags": []
          }
        }
      ]
    },
    {
      "cell_type": "markdown",
      "metadata": {
        "id": "z_3l0baLEzQD"
      },
      "source": [
        "- 컬럼명이 지정되지 않아 관측값이 컬럼명 위치에 있는 것을 확인할 수 있다. \n",
        "- 이 때에는 컬럼명을 먼저 저장한 뒤, 아래와 같은 코드로 실행하면 정상적으로 데이터프레임이 완성된다."
      ]
    },
    {
      "cell_type": "code",
      "metadata": {
        "id": "s79a-0DcFJsg",
        "outputId": "e36e5f1a-a066-4603-f2c1-70eee1ba264c",
        "colab": {
          "base_uri": "https://localhost:8080/",
          "height": 148
        }
      },
      "source": [
        "columns = ['age', 'workclass', 'fnlwgt', 'education', 'education_num', \n",
        "           'marital_status', 'occupation', 'relationship', 'ethnicity', \n",
        "           'gender','capital_gain','capital_loss','hours_per_week','country_of_origin','income']\n",
        "\n",
        "df2 = pd.read_csv(url, names=columns)\n",
        "display(df2.head(2))"
      ],
      "execution_count": null,
      "outputs": [
        {
          "output_type": "display_data",
          "data": {
            "text/html": [
              "<div>\n",
              "<style scoped>\n",
              "    .dataframe tbody tr th:only-of-type {\n",
              "        vertical-align: middle;\n",
              "    }\n",
              "\n",
              "    .dataframe tbody tr th {\n",
              "        vertical-align: top;\n",
              "    }\n",
              "\n",
              "    .dataframe thead th {\n",
              "        text-align: right;\n",
              "    }\n",
              "</style>\n",
              "<table border=\"1\" class=\"dataframe\">\n",
              "  <thead>\n",
              "    <tr style=\"text-align: right;\">\n",
              "      <th></th>\n",
              "      <th>age</th>\n",
              "      <th>workclass</th>\n",
              "      <th>fnlwgt</th>\n",
              "      <th>education</th>\n",
              "      <th>education_num</th>\n",
              "      <th>marital_status</th>\n",
              "      <th>occupation</th>\n",
              "      <th>relationship</th>\n",
              "      <th>ethnicity</th>\n",
              "      <th>gender</th>\n",
              "      <th>capital_gain</th>\n",
              "      <th>capital_loss</th>\n",
              "      <th>hours_per_week</th>\n",
              "      <th>country_of_origin</th>\n",
              "      <th>income</th>\n",
              "    </tr>\n",
              "  </thead>\n",
              "  <tbody>\n",
              "    <tr>\n",
              "      <th>0</th>\n",
              "      <td>39</td>\n",
              "      <td>State-gov</td>\n",
              "      <td>77516</td>\n",
              "      <td>Bachelors</td>\n",
              "      <td>13</td>\n",
              "      <td>Never-married</td>\n",
              "      <td>Adm-clerical</td>\n",
              "      <td>Not-in-family</td>\n",
              "      <td>White</td>\n",
              "      <td>Male</td>\n",
              "      <td>2174</td>\n",
              "      <td>0</td>\n",
              "      <td>40</td>\n",
              "      <td>United-States</td>\n",
              "      <td>&lt;=50K</td>\n",
              "    </tr>\n",
              "    <tr>\n",
              "      <th>1</th>\n",
              "      <td>50</td>\n",
              "      <td>Self-emp-not-inc</td>\n",
              "      <td>83311</td>\n",
              "      <td>Bachelors</td>\n",
              "      <td>13</td>\n",
              "      <td>Married-civ-spouse</td>\n",
              "      <td>Exec-managerial</td>\n",
              "      <td>Husband</td>\n",
              "      <td>White</td>\n",
              "      <td>Male</td>\n",
              "      <td>0</td>\n",
              "      <td>0</td>\n",
              "      <td>13</td>\n",
              "      <td>United-States</td>\n",
              "      <td>&lt;=50K</td>\n",
              "    </tr>\n",
              "  </tbody>\n",
              "</table>\n",
              "</div>"
            ],
            "text/plain": [
              "   age          workclass  fnlwgt   education  education_num  \\\n",
              "0   39          State-gov   77516   Bachelors             13   \n",
              "1   50   Self-emp-not-inc   83311   Bachelors             13   \n",
              "\n",
              "        marital_status        occupation    relationship ethnicity gender  \\\n",
              "0        Never-married      Adm-clerical   Not-in-family     White   Male   \n",
              "1   Married-civ-spouse   Exec-managerial         Husband     White   Male   \n",
              "\n",
              "   capital_gain  capital_loss  hours_per_week country_of_origin  income  \n",
              "0          2174             0              40     United-States   <=50K  \n",
              "1             0             0              13     United-States   <=50K  "
            ]
          },
          "metadata": {
            "tags": []
          }
        }
      ]
    },
    {
      "cell_type": "markdown",
      "metadata": {
        "id": "HNSBAX8AFdLd"
      },
      "source": [
        "- 컬럼명에 대한 정보는 [Adult Data Set](https://archive.ics.uci.edu/ml/datasets/adult) 에서 참고한다. \n",
        "- 판다스를 배울 때 조금더 자세히 배우겠지만, `info()` 함수를 사용하면 데이터의 일반적인 정보를 확인할 수 있다."
      ]
    },
    {
      "cell_type": "code",
      "metadata": {
        "id": "jjNqzl_eHEr0",
        "outputId": "8d06b7ce-b2cc-4a5b-dea6-446f3b77e357",
        "colab": {
          "base_uri": "https://localhost:8080/",
          "height": 408
        }
      },
      "source": [
        "print(df2.info())"
      ],
      "execution_count": null,
      "outputs": [
        {
          "output_type": "stream",
          "text": [
            "<class 'pandas.core.frame.DataFrame'>\n",
            "RangeIndex: 32561 entries, 0 to 32560\n",
            "Data columns (total 15 columns):\n",
            " #   Column             Non-Null Count  Dtype \n",
            "---  ------             --------------  ----- \n",
            " 0   age                32561 non-null  int64 \n",
            " 1   workclass          32561 non-null  object\n",
            " 2   fnlwgt             32561 non-null  int64 \n",
            " 3   education          32561 non-null  object\n",
            " 4   education_num      32561 non-null  int64 \n",
            " 5   marital_status     32561 non-null  object\n",
            " 6   occupation         32561 non-null  object\n",
            " 7   relationship       32561 non-null  object\n",
            " 8   ethnicity          32561 non-null  object\n",
            " 9   gender             32561 non-null  object\n",
            " 10  capital_gain       32561 non-null  int64 \n",
            " 11  capital_loss       32561 non-null  int64 \n",
            " 12  hours_per_week     32561 non-null  int64 \n",
            " 13  country_of_origin  32561 non-null  object\n",
            " 14  income             32561 non-null  object\n",
            "dtypes: int64(6), object(9)\n",
            "memory usage: 3.7+ MB\n",
            "None\n"
          ],
          "name": "stdout"
        }
      ]
    },
    {
      "cell_type": "markdown",
      "metadata": {
        "id": "rua_Sv0opE-y"
      },
      "source": [
        "## V. 결론\n",
        "- 간단하게 `Pandas`를 활용한 데이터 생성 및 파일 입출력에 대해서 배우는 시간을 가졌다. \n",
        "- 만약, 빠르게 판다스를 활용하여 데이터 전처리를 연습 하고 싶다면, 공식홈페이지에 있는 [10 minutes to pandas](https://pandas.pydata.org/pandas-docs/stable/getting_started/10min.html)에서 학습하는 것을 권장한다. \n",
        "- 강사는 `Kaggle` 데이터를 활용하여 `Pandas` 함수를 응용할 것이다. \n"
      ]
    },
    {
      "cell_type": "markdown",
      "metadata": {
        "id": "g6uoe8uibdXW"
      },
      "source": [
        "## Reference\n",
        "\n",
        "Mukhiya, Suresh Kumar, and Usman Ahmed. “Hands-On Exploratory Data Analysis with Python.” Packt Publishing, Mar. 2020, www.packtpub.com/data/hands-on-exploratory-data-analysis-with-python."
      ]
    }
  ]
}