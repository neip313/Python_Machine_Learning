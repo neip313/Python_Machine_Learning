{
  "nbformat": 4,
  "nbformat_minor": 0,
  "metadata": {
    "colab": {
      "name": "Chapter_3_6_def.ipynb",
      "provenance": [],
      "collapsed_sections": [],
      "toc_visible": true,
      "include_colab_link": true
    },
    "kernelspec": {
      "name": "python3",
      "display_name": "Python 3"
    }
  },
  "cells": [
    {
      "cell_type": "markdown",
      "metadata": {
        "id": "view-in-github",
        "colab_type": "text"
      },
      "source": [
        "<a href=\"https://colab.research.google.com/github/neip313/Python_Machine_Learning/blob/main/Chapter_3_6_def.ipynb\" target=\"_parent\"><img src=\"https://colab.research.google.com/assets/colab-badge.svg\" alt=\"Open In Colab\"/></a>"
      ]
    },
    {
      "cell_type": "markdown",
      "metadata": {
        "id": "--6K6q__gRnA"
      },
      "source": [
        "---\n",
        "title: \"How to create my own function\"\n",
        "date: 2020-07-03T18:00:47+09:00\n",
        "tags:\n",
        "  - \"Basic Data Structures\"\n",
        "  - \"Python Basic\"\n",
        "  - \"Python\"\n",
        "  - \"iteration\"\n",
        "categories:\n",
        "  - \"function\"\n",
        "  - \"Python\"\n",
        "  - \"Python Basic\"\n",
        "menu: \n",
        "  kaggle:\n",
        "    name: How to create my own function\n",
        "---\n"
      ]
    },
    {
      "cell_type": "markdown",
      "metadata": {
        "id": "REY6iQaBdZXy"
      },
      "source": [
        "## I. 개요\n",
        "- 나만의 함수를 작성해 본다. \n",
        "- 함수의 정의와 문서화의 기본에 대해 배운다. \n"
      ]
    },
    {
      "cell_type": "markdown",
      "metadata": {
        "id": "XdWnKuugi4vz"
      },
      "source": [
        "## II. 기존 내장 함수\n",
        "- 함수는 특정 기능을 수행하는 코드를 의미한다. \n",
        "- 함수는 `Sum()`, `Len()`을 의미한다."
      ]
    },
    {
      "cell_type": "code",
      "metadata": {
        "id": "G4_RJqml-tzX",
        "outputId": "9321ac75-3b95-4a23-aba6-7eea21e5883b",
        "colab": {
          "base_uri": "https://localhost:8080/",
          "height": 51
        }
      },
      "source": [
        "x = [1,2,3,4,5]\n",
        "print(sum(x))\n",
        "print(len(x))"
      ],
      "execution_count": null,
      "outputs": [
        {
          "output_type": "stream",
          "text": [
            "15\n",
            "5\n"
          ],
          "name": "stdout"
        }
      ]
    },
    {
      "cell_type": "markdown",
      "metadata": {
        "id": "KeuZvDOIAoGz"
      },
      "source": [
        "## III 사용자 정의 함수 예제\n",
        "- 이제 사용자 정의 함수를 사용하자. \n",
        "- 함수 선언 시, `def`는 `define`의 약자다. "
      ]
    },
    {
      "cell_type": "code",
      "metadata": {
        "id": "mLCrmyuqAx7-",
        "outputId": "c30442f8-ea36-46cf-8cbe-80e269276517",
        "colab": {
          "base_uri": "https://localhost:8080/",
          "height": 34
        }
      },
      "source": [
        "def my_avg(x):\n",
        "  sum_var = sum(x)\n",
        "  len_var = len(x)\n",
        "  return sum_var / len_var\n",
        "\n",
        "print(my_avg(x))"
      ],
      "execution_count": null,
      "outputs": [
        {
          "output_type": "stream",
          "text": [
            "3.0\n"
          ],
          "name": "stdout"
        }
      ]
    },
    {
      "cell_type": "markdown",
      "metadata": {
        "id": "JuBIN8v4JL46"
      },
      "source": [
        "- 기본적인 사용정의 함수는 크게 `매개 변수`와 `return`으로 이루어진다. \n",
        "  + 이 때의 매개변수는, `string`, `int`, `DataFrame` 등 다양하게 올 수 있다. \n",
        "  + `return`의 의미는 일종의 함수를 실행한 뒤 반환하려는 `output`이다. "
      ]
    },
    {
      "cell_type": "markdown",
      "metadata": {
        "id": "1OpN-VXKBPKC"
      },
      "source": [
        "## IV. 파이썬에서 실행모드 구축하기\n",
        "- 사용자 정의 함수를 작성하였다면, 이제부터는 `Main()` 함수를 활용하여 코드를 빠르게 실행할 수 있도록 한다. 아래와 같이 코드를 작성하자. \n",
        "- `PyCharm`, `VSCode`에서 `main.py` 안에 아래와 같이 코드를 작성해본다. "
      ]
    },
    {
      "cell_type": "code",
      "metadata": {
        "id": "RDM-z1cEMLAX",
        "outputId": "8a36e266-3b41-4361-8e56-e3ea01176c0e",
        "colab": {
          "base_uri": "https://localhost:8080/",
          "height": 34
        }
      },
      "source": [
        "# -*- coding: utf-8 -*-\n",
        "def main():\n",
        "  print(\"안녕하세요, Main() 입니다. \")\n",
        "\n",
        "if __name__ == \"__main__\":\n",
        "  main()"
      ],
      "execution_count": null,
      "outputs": [
        {
          "output_type": "stream",
          "text": [
            "안녕하세요, Main() 입니다. \n"
          ],
          "name": "stdout"
        }
      ]
    },
    {
      "cell_type": "markdown",
      "metadata": {
        "id": "6f3WHuYpMWDP"
      },
      "source": [
        "- 위 구문은 일종의 파이썬 파일을 실행시키기 위한 일종의 규약이라 이해하면 좋을 것 같다. \n",
        "- `__name__`은 모듈의 이름이 저장되는 곳이다. \n",
        "- `__main__`은 모듈의 시작점과 같다. `main.py`에서 `__name__==\"__main__\"`은 바꾸지 않는다. \n",
        "- 이 때, 위 파일을 작성하면, `shell`에서 다음과 같이 실행한다. \n",
        "```bash\n",
        "~ $ python main.py\n",
        "안녕하세요, Main() 입니다. \n",
        "```\n"
      ]
    },
    {
      "cell_type": "markdown",
      "metadata": {
        "id": "t6EdbTS_O2RS"
      },
      "source": [
        "### (1) 파일 구조\n",
        "- 크게 두개의 파일을 작성할 것이다. \n",
        "  + `calculation.py`\n",
        "  + `main.py`\n",
        "- `calculation.py`에서 기본적인 코드를 작성한 뒤, `main.py`에서 해당 모듈을 가져와서 함수를 사용할 것이다. "
      ]
    },
    {
      "cell_type": "markdown",
      "metadata": {
        "id": "u3WpMbzWRc7d"
      },
      "source": [
        "### (2) calculation.py 파일 작성 및 실행 \n",
        "- 간단하게 사칙연산 함수를 작성한다. "
      ]
    },
    {
      "cell_type": "code",
      "metadata": {
        "id": "ZLrtf8uMRXH2",
        "outputId": "9223ad1b-7fb8-4699-d4c1-f127afcb32aa",
        "colab": {
          "base_uri": "https://localhost:8080/",
          "height": 51
        }
      },
      "source": [
        "# -*- coding: utf-8 -*-\n",
        "a = 3\n",
        "b = 4\n",
        "\n",
        "def plus(a, b): \n",
        "  c= a+b\n",
        "  return c\n",
        "\n",
        "def subtract(a, b):\n",
        "  c = a-b\n",
        "  return c\n",
        "\n",
        "if __name__ == \"__main__\":\n",
        "  print(\"a + b =\", subtract(a, b))\n",
        "  print(\"a - b =\", plus(a, b))"
      ],
      "execution_count": null,
      "outputs": [
        {
          "output_type": "stream",
          "text": [
            "a + b = -1\n",
            "a - b = 7\n"
          ],
          "name": "stdout"
        }
      ]
    },
    {
      "cell_type": "markdown",
      "metadata": {
        "id": "FVUBUUKHSC_h"
      },
      "source": [
        "- 위와 같이 파일을 작성한 뒤 저장한다. \n",
        "- 그리고, `shell`에서 다음과 같이 실행한다. \n",
        "```bash\n",
        "~ $ python calculation.py\n",
        "a + b = -1\n",
        "a - b = 7\n",
        "```\n"
      ]
    },
    {
      "cell_type": "markdown",
      "metadata": {
        "id": "05WeFipjSW5G"
      },
      "source": [
        "### (3) main.py 작성 및 실행\n",
        "- 기존 `calculation.py`에서 `if~`이하의 구문을 제거한 후, 다시 저장한다. \n",
        "- 이번에는 `main.py`에서 아래와 같이 파일을 작성한다. "
      ]
    },
    {
      "cell_type": "code",
      "metadata": {
        "id": "HPowiz_yUQIg",
        "outputId": "c131a88e-2129-437b-fe22-f403259e0180",
        "colab": {
          "base_uri": "https://localhost:8080/",
          "height": 368
        }
      },
      "source": [
        "# -*- coding: utf-8 -*-\n",
        "import calculation as cal\n",
        "\n",
        "a = 3\n",
        "b = 4\n",
        "\n",
        "def main():\n",
        "  print(\"안녕하세요, Main() 입니다. \")\n",
        "  print(\"a + b =\", cal.subtract(a, b))\n",
        "  print(\"a - b =\", cal.plus(a, b))\n",
        "\n",
        "if __name__ == \"__main__\":\n",
        "  main()"
      ],
      "execution_count": null,
      "outputs": [
        {
          "output_type": "error",
          "ename": "ModuleNotFoundError",
          "evalue": "ignored",
          "traceback": [
            "\u001b[0;31m---------------------------------------------------------------------------\u001b[0m",
            "\u001b[0;31mModuleNotFoundError\u001b[0m                       Traceback (most recent call last)",
            "\u001b[0;32m<ipython-input-5-2cd45e555884>\u001b[0m in \u001b[0;36m<module>\u001b[0;34m()\u001b[0m\n\u001b[1;32m      1\u001b[0m \u001b[0;34m\u001b[0m\u001b[0m\n\u001b[0;32m----> 2\u001b[0;31m \u001b[0;32mimport\u001b[0m \u001b[0mcalculation\u001b[0m \u001b[0;32mas\u001b[0m \u001b[0mcal\u001b[0m\u001b[0;34m\u001b[0m\u001b[0;34m\u001b[0m\u001b[0m\n\u001b[0m\u001b[1;32m      3\u001b[0m \u001b[0;34m\u001b[0m\u001b[0m\n\u001b[1;32m      4\u001b[0m \u001b[0ma\u001b[0m \u001b[0;34m=\u001b[0m \u001b[0;36m3\u001b[0m\u001b[0;34m\u001b[0m\u001b[0;34m\u001b[0m\u001b[0m\n\u001b[1;32m      5\u001b[0m \u001b[0mb\u001b[0m \u001b[0;34m=\u001b[0m \u001b[0;36m4\u001b[0m\u001b[0;34m\u001b[0m\u001b[0;34m\u001b[0m\u001b[0m\n",
            "\u001b[0;31mModuleNotFoundError\u001b[0m: No module named 'calculation'",
            "",
            "\u001b[0;31m---------------------------------------------------------------------------\u001b[0;32m\nNOTE: If your import is failing due to a missing package, you can\nmanually install dependencies using either !pip or !apt.\n\nTo view examples of installing some common dependencies, click the\n\"Open Examples\" button below.\n\u001b[0;31m---------------------------------------------------------------------------\u001b[0m\n"
          ]
        }
      ]
    },
    {
      "cell_type": "markdown",
      "metadata": {
        "id": "YG3Bss2nUn6i"
      },
      "source": [
        "- 그리고 이번에는 `shell`에서 `main.py`를 실행한다.\n",
        "\n",
        "```bash\n",
        "~ $ python main.py\n",
        "안녕하세요, Main() 입니다. \n",
        "a + b = -1\n",
        "a - b = 7\n",
        "```"
      ]
    },
    {
      "cell_type": "markdown",
      "metadata": {
        "id": "w1OFUakMVmip"
      },
      "source": [
        "### (4) 소결론\n",
        "- 같은 파일 경로에 있다면, 다른 `file`에서 `함수(=module)`을 불러올 때는 패키지에서 파일을 불러오는 것처럼, `import ~`형태로 사용할 수 있다. \n",
        "- 그리고, 각 파일명 안에는 다양한 작성할 수 있고, 또한 불러올 수 있다. \n"
      ]
    },
    {
      "cell_type": "markdown",
      "metadata": {
        "id": "fmcBYM6OWTLo"
      },
      "source": [
        "## V. 두개의 폴더를 활용한 실행모드 구축\n",
        "- 이제 한 폴더 안에서 다른 파일의 함수를 불러올 수 있음을 확인하였다. \n",
        "- 이제는 두개의 폴더를 만들어 각각의 기능을 구현해본다. \n",
        "- 폴더는 크게 두가지다.\n",
        "  + 사칙연산을 의미하는 `arithmetic`\n",
        "  + 데이터 전처리를 의미하는 `dataPreprocessing`\n",
        "- 각각의 폴더안에 각 2가지의 파일을 작성할 예정이다. \n",
        "- 마지막으로 `main.py`는 독립적으로 위치해 놓는다. \n"
      ]
    },
    {
      "cell_type": "markdown",
      "metadata": {
        "id": "PpMasPEqXgyY"
      },
      "source": [
        "### (1) Arithmetic 폴더\n",
        "- `plus.py`와 `subtract.py`안에 함수를 각각 저장한 뒤 작성한다. \n",
        "  + plus.py\n",
        "\n",
        "```python\n",
        "# -*- coding: utf-8 -*-\n",
        "def add(a, b): \n",
        "  c= a+b\n",
        "  return c\n",
        "```\n",
        "\n",
        "  + subtract.py\n",
        "\n",
        "```python\n",
        "# -*- coding: utf-8 -*-\n",
        "def minus(a, b):\n",
        "  c = a-b\n",
        "  return c\n",
        "```\n",
        "\n"
      ]
    },
    {
      "cell_type": "markdown",
      "metadata": {
        "id": "L7oNjV_Nj19G"
      },
      "source": [
        "### (2) dataPreprocessing 폴더\n",
        "- 파일 불러오기를 실행하는 `importData.py`와 데이터 전처리를 담당하는 `processing.py`에 해당하는 소스코드 작성 후 각각 저장한다. \n",
        "  + importData.py\n",
        "\n",
        "```python\n",
        "# -*- coding: utf-8 -*-\n",
        "\n",
        "def readData():\n",
        "    print(\"~~ 데이터를 불러옵니다 ~~ \")\n",
        "    data = \"빅쿼리에서 불러오는 데이터\"\n",
        "    return data\n",
        "```\n",
        "\n",
        "  + processing.py\n",
        "\n",
        "```python\n",
        "# -*- coding: utf-8 -*-\n",
        "from time import sleep\n",
        "\n",
        "def process_data(data):\n",
        "    print(\"~~ 데이터 전처리 함수를 실행합니다! ~~\")\n",
        "    modified_data = data + \"가 수정 완료 되었습니다.\"\n",
        "    sleep(3)\n",
        "    print(\"~~ 데이터 전처리가 끝났습니다! ~~\")\n",
        "    return modified_data\n",
        "```"
      ]
    },
    {
      "cell_type": "markdown",
      "metadata": {
        "id": "kmlbCnPGj4pJ"
      },
      "source": [
        "### (3) main.py 수정\n",
        "- 다음은 `main.py`를 아래와 같이 수정하도록 한다. \n",
        "\n",
        "```python\n",
        "# -*- coding: utf-8 -*-\n",
        "from arithmetic import plus as pl\n",
        "from arithmetic import subtract as sub\n",
        "from dataPreprocessing import processing\n",
        "from dataPreprocessing import importData\n",
        "\n",
        "a = 3\n",
        "b = 4\n",
        "\n",
        "def main():\n",
        "  print(\"~~ 사칙 연산을 시작합니다 ~~ \")\n",
        "  print(\"a + b =\", sub.minus(a, b))\n",
        "  print(\"a - b =\", pl.add(a, b))\n",
        "  print(\"~~ 사칙 연산을 종료합니다 ~~ \")\n",
        "\n",
        "  ## 데이터 전처리 시작\n",
        "  data = importData.readData()\n",
        "  processing.process_data(data)\n",
        "\n",
        "if __name__ == \"__main__\":\n",
        "  main()\n",
        "```\n",
        "\n",
        "- 그 다음 `shell`에서 다음과 같이 실행하면 아래와 같은 결과물을 얻게 될 것이다. \n",
        "\n",
        "```bash\n",
        "~ $ python main.py\n",
        "~~ 사칙 연산을 시작합니다 ~~ \n",
        "a + b = -1\n",
        "a - b = 7\n",
        "~~ 사칙 연산을 종료합니다 ~~ \n",
        "~~ 데이터를 불러옵니다 ~~ \n",
        "~~ 데이터 전처리 함수를 실행합니다! ~~\n",
        "~~ 데이터 전처리가 끝났습니다! ~~\n",
        "```"
      ]
    },
    {
      "cell_type": "markdown",
      "metadata": {
        "id": "zaXtphuEknq2"
      },
      "source": [
        "### (4) 파일구조 리뷰\n",
        "- 파일 구조는 아래와 같다. \n",
        "\n",
        "```bash\n",
        ".\n",
        "├── arithmetic # 폴더\n",
        "│   ├── plus.py\n",
        "│   └── subtract.py\n",
        "├── dataPreprocessing # 폴더\n",
        "│   ├── importData.py\n",
        "│   └── processing.py\n",
        "├── main.py\n",
        "```"
      ]
    },
    {
      "cell_type": "markdown",
      "metadata": {
        "id": "qyc-SDt8kIJE"
      },
      "source": [
        "## VI. 결론\n",
        "- `from`의 각각의 폴더명을 의미한다. \n",
        "- `import`는 동일 폴더내의 다양한 `py` 파일명을 의미한다. \n",
        "- 각각의 파일명안에 있는 다양한 함수들을 불러와서 사용할 수 있다. \n",
        "- 프로젝트 파일을 제출할 시에는 위와 같이 `main.py`를 실행만 하더라도 결과가 나올 수 있도록 프로젝트 파일을 `Refactoring`해서 업로드하는 것을 추천한다. "
      ]
    }
  ]
}