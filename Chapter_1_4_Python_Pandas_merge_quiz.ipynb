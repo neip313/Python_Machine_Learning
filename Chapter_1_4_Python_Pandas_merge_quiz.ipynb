{
  "nbformat": 4,
  "nbformat_minor": 0,
  "metadata": {
    "colab": {
      "name": "Chapter_1_4_Python_Pandas_merge_quiz.ipynb",
      "provenance": [],
      "collapsed_sections": [],
      "toc_visible": true,
      "include_colab_link": true
    },
    "kernelspec": {
      "name": "python3",
      "display_name": "Python 3"
    }
  },
  "cells": [
    {
      "cell_type": "markdown",
      "metadata": {
        "id": "view-in-github",
        "colab_type": "text"
      },
      "source": [
        "<a href=\"https://colab.research.google.com/github/neip313/Python_Machine_Learning/blob/main/Chapter_1_4_Python_Pandas_merge_quiz.ipynb\" target=\"_parent\"><img src=\"https://colab.research.google.com/assets/colab-badge.svg\" alt=\"Open In Colab\"/></a>"
      ]
    },
    {
      "cell_type": "markdown",
      "metadata": {
        "id": "wEKO0skEPoLn"
      },
      "source": [
        "---\n",
        "title: \"EDA with Pandas - Data Merge\"\n",
        "date: 2020-06-05T13:15:47+09:00\n",
        "tags:\n",
        "  - \"Data Transformation\"\n",
        "  - \"EDA\"\n",
        "  - \"Python\"\n",
        "  - \"Pandas Merge\"\n",
        "  - \"Python Basic\"\n",
        "categories:\n",
        "  - \"Data Transformation\"\n",
        "  - \"Python\"\n",
        "  - \"Pandas Merge\"\n",
        "  - \"Python Basic\"\n",
        "menu: \n",
        "  python:\n",
        "    name: EDA with Pandas - Data Merge\n",
        "---\n",
        "\n",
        "![](/img/python_logo/merge.png#center)"
      ]
    },
    {
      "cell_type": "markdown",
      "metadata": {
        "id": "48llMxYNpPqg"
      },
      "source": [
        "## I. 개요\n",
        "\n",
        "- 실무 데이터에서는 여러가지 데이터를 만나는 경우가 흔하다. \n",
        "- 이 때, `SQL`에서 데이터를 직접 병합하는 방법이 좋다. \n",
        "- 그러나, 현실적으로 `DB`에 접근하는 권한을 가진 경우는 흔하지는 않다. 현재 운영중인 서비스상에 `DB`를 직접 만지는 경우는 거의 없다 (DBA가 할지도..)\n",
        "- 따라서, 데이터분석가는 흩어져 있는 데이터 `Dump`를 받게 될 가능성이 큰데, 이 때 Python에서 데이터를 병합하는 작업을 진행하게 된다. \n",
        "- `Kaggle`이나 각종 경진대회에 출전하게 되면 서로 다른 데이터를 합쳐야 하는 경우가 매우 많다. "
      ]
    },
    {
      "cell_type": "markdown",
      "metadata": {
        "id": "U5USolBdsMJE"
      },
      "source": [
        "## II. 모듈 Import\n",
        "- 패키지 설치방법은 [설치 문서](https://pandas.pydata.org/pandas-docs/stable/getting_started/install.html)를 확인한다. \n"
      ]
    },
    {
      "cell_type": "code",
      "metadata": {
        "id": "fZcsxMO_ntCK",
        "outputId": "efb8864a-d193-4741-b5d2-cc98c2908654",
        "colab": {
          "base_uri": "https://localhost:8080/",
          "height": 34
        }
      },
      "source": [
        "import pandas as pd\n",
        "print(pd.__version__)"
      ],
      "execution_count": null,
      "outputs": [
        {
          "output_type": "stream",
          "text": [
            "1.0.4\n"
          ],
          "name": "stdout"
        }
      ]
    },
    {
      "cell_type": "markdown",
      "metadata": {
        "id": "HA6aVCEtwSts"
      },
      "source": [
        "- 데이터프레임을 보다 이쁘게 출력하기 위해 다음 2개의 패키지를 불러온다.\n"
      ]
    },
    {
      "cell_type": "code",
      "metadata": {
        "id": "p1CjvaH0wcFm"
      },
      "source": [
        "from IPython.core.display import display, HTML\n",
        "from tabulate import tabulate"
      ],
      "execution_count": null,
      "outputs": []
    },
    {
      "cell_type": "markdown",
      "metadata": {
        "id": "SA5hv7OJSmWr"
      },
      "source": [
        "## III. Pandas 데이터 병합 Sample Tutorial\n",
        "- 간단하게 데이터를 병합하는 방법에 대해 실습을 진행한다. \n",
        "  + 데이터와 소스 코드는 Pandas 공식 홈페이지에서 한글 형태로 조금 수정했다. "
      ]
    },
    {
      "cell_type": "markdown",
      "metadata": {
        "id": "Lzg_ocyq_HgL"
      },
      "source": [
        "### (1) 파라미터 세팅\n",
        "- 먼저, 행과 열을 최대 출력하는 개수를 지정한다. "
      ]
    },
    {
      "cell_type": "code",
      "metadata": {
        "id": "BzIdUhxD_aDd"
      },
      "source": [
        "pd.set_option('display.max_columns', 500)\n",
        "pd.set_option('display.max_rows', 500)"
      ],
      "execution_count": null,
      "outputs": []
    },
    {
      "cell_type": "markdown",
      "metadata": {
        "id": "VU3qZ9Qz_p21"
      },
      "source": [
        "### (2) 데이터 생성\n",
        "- 먼저 가상의 데이터를 두개 만든다. "
      ]
    },
    {
      "cell_type": "code",
      "metadata": {
        "id": "LZklnUX-At0R",
        "outputId": "011460c1-9c57-43cb-c0f7-462294f40a59",
        "colab": {
          "base_uri": "https://localhost:8080/",
          "height": 119
        }
      },
      "source": [
        "temp_1 = pd.DataFrame({'key': ['A', 'B', 'C', 'D'], \n",
        "                       'num1': [1,2,3,4]})\n",
        "print(tabulate(temp_1, headers=['key', 'num1'], tablefmt='pipe'))"
      ],
      "execution_count": null,
      "outputs": [
        {
          "output_type": "stream",
          "text": [
            "|    | key   |   num1 |\n",
            "|---:|:------|-------:|\n",
            "|  0 | A     |      1 |\n",
            "|  1 | B     |      2 |\n",
            "|  2 | C     |      3 |\n",
            "|  3 | D     |      4 |\n"
          ],
          "name": "stdout"
        }
      ]
    },
    {
      "cell_type": "code",
      "metadata": {
        "id": "IRdBT9COw--i",
        "outputId": "ae8d067c-f22d-4b23-aadf-4504d311b124",
        "colab": {
          "base_uri": "https://localhost:8080/",
          "height": 119
        }
      },
      "source": [
        "temp_2 = pd.DataFrame({'key': ['A', 'B', 'E', 'F'], \n",
        "                       'num2': [5,6,7,8]})\n",
        "print(tabulate(temp_2, headers=['key', 'num2'], tablefmt='pipe'))"
      ],
      "execution_count": null,
      "outputs": [
        {
          "output_type": "stream",
          "text": [
            "|    | key   |   num2 |\n",
            "|---:|:------|-------:|\n",
            "|  0 | A     |      5 |\n",
            "|  1 | B     |      6 |\n",
            "|  2 | E     |      7 |\n",
            "|  3 | F     |      8 |\n"
          ],
          "name": "stdout"
        }
      ]
    },
    {
      "cell_type": "markdown",
      "metadata": {
        "id": "TBHE_a9PA8UO"
      },
      "source": [
        "### (3) Data Merge - inner join (교집합)\n",
        "- `key`값을 근거로 데이터를 병합한다.\n",
        "- 이 때, merge의 형태는 `inner join` 형태로 출력된다. "
      ]
    },
    {
      "cell_type": "code",
      "metadata": {
        "id": "uvhOpHBtxf8q",
        "outputId": "c015369a-a3fc-4b47-b9ff-43d70a4eeecb",
        "colab": {
          "base_uri": "https://localhost:8080/",
          "height": 85
        }
      },
      "source": [
        "merge_df = pd.merge(temp_1, temp_2, on='key')\n",
        "print(tabulate(merge_df, headers=['key', 'num1', 'num2'], tablefmt='pipe'))"
      ],
      "execution_count": null,
      "outputs": [
        {
          "output_type": "stream",
          "text": [
            "|    | key   |   num1 |   num2 |\n",
            "|---:|:------|-------:|-------:|\n",
            "|  0 | A     |      1 |      5 |\n",
            "|  1 | B     |      2 |      6 |\n"
          ],
          "name": "stdout"
        }
      ]
    },
    {
      "cell_type": "code",
      "metadata": {
        "id": "AGM-x5N9zfs9",
        "outputId": "2fb030c7-66d1-42d0-8613-42219269a9c0",
        "colab": {
          "base_uri": "https://localhost:8080/",
          "height": 85
        }
      },
      "source": [
        "inner_df = pd.merge(temp_1, temp_2, on='key', how='inner')\n",
        "print(tabulate(inner_df, headers=['key', 'num1', 'num2'], tablefmt='pipe'))"
      ],
      "execution_count": null,
      "outputs": [
        {
          "output_type": "stream",
          "text": [
            "|    | key   |   num1 |   num2 |\n",
            "|---:|:------|-------:|-------:|\n",
            "|  0 | A     |      1 |      5 |\n",
            "|  1 | B     |      2 |      6 |\n"
          ],
          "name": "stdout"
        }
      ]
    },
    {
      "cell_type": "markdown",
      "metadata": {
        "id": "9nRm3xYlzsV9"
      },
      "source": [
        "- 위 두개의 결과값이 똑같음을 확인할 수 있다."
      ]
    },
    {
      "cell_type": "markdown",
      "metadata": {
        "id": "5r-YAg5HzxCo"
      },
      "source": [
        "### (4) Data Merge - outer join\n",
        "- 이번에는 `outer join`을 해보자. "
      ]
    },
    {
      "cell_type": "code",
      "metadata": {
        "id": "BXrrwEYIz5_a",
        "outputId": "1d4f590a-46c0-4fa4-f009-fcb7003518d4",
        "colab": {
          "base_uri": "https://localhost:8080/",
          "height": 153
        }
      },
      "source": [
        "outer_df = pd.merge(temp_1, temp_2, on='key', how='outer')\n",
        "print(tabulate(outer_df, headers=['key', 'num1', 'num2'], tablefmt='pipe'))"
      ],
      "execution_count": null,
      "outputs": [
        {
          "output_type": "stream",
          "text": [
            "|    | key   |   num1 |   num2 |\n",
            "|---:|:------|-------:|-------:|\n",
            "|  0 | A     |      1 |      5 |\n",
            "|  1 | B     |      2 |      6 |\n",
            "|  2 | C     |      3 |    nan |\n",
            "|  3 | D     |      4 |    nan |\n",
            "|  4 | E     |    nan |      7 |\n",
            "|  5 | F     |    nan |      8 |\n"
          ],
          "name": "stdout"
        }
      ]
    },
    {
      "cell_type": "markdown",
      "metadata": {
        "id": "P7I8S6tJz_w_"
      },
      "source": [
        "- 결과값을 보면,  우선 `key`값은 모두 출력되었다. \n",
        "- 이 때, 각 데이터에서 가져오는 `num1`과 `num2`의 `Column`도 같이 들어오는데, 각 `column`마다 없는 값들은 이렇게 `nan`으로 조회됨을 확인할 수 있다. "
      ]
    },
    {
      "cell_type": "markdown",
      "metadata": {
        "id": "eOctlVo00gGk"
      },
      "source": [
        "### (5) Assignment\n",
        "- 이제 수강생 분들이 `left` & `right` 조인을 해보도록 한다. \n",
        "- 공식문서를 보면서 코드 작성하는 것을 추천한다. \n",
        "  + [Merge, join, and concatenate](https://pandas.pydata.org/pandas-docs/stable/user_guide/merging.html)\n",
        "  + 먼저 `right join`을 해본다."
      ]
    },
    {
      "cell_type": "code",
      "metadata": {
        "id": "3X5paEtK05zx"
      },
      "source": [
        "# pd.merge(temp_1, temp_2) 여기 코드에서 남은 코드를 작성하면 됩니다. "
      ],
      "execution_count": null,
      "outputs": []
    },
    {
      "cell_type": "markdown",
      "metadata": {
        "id": "znCjCQ7w12X7"
      },
      "source": [
        "- 그리고 이번에는 `left join`을 해본다. "
      ]
    },
    {
      "cell_type": "code",
      "metadata": {
        "id": "Ide0yYU22A3r"
      },
      "source": [
        "# pd.merge(temp_1, temp_2) 여기 코드에서 남은 코드를 작성하면 됩니다. "
      ],
      "execution_count": null,
      "outputs": []
    },
    {
      "cell_type": "markdown",
      "metadata": {
        "id": "rua_Sv0opE-y"
      },
      "source": [
        "## VI. What's next\n",
        "- 데이터를 병합하는 방법 중 `Merge`에 대해서 배웠다. \n",
        "- `Merge`에는 크게 4가지 방법이 있고, 방법에 따라서 최종 데이터의 출력값이 서로 다름을 확인하였다. \n",
        "- 다음 시간에는 또다른 병합 방법인 `Concatenate`에 학습하도록 한다."
      ]
    }
  ]
}