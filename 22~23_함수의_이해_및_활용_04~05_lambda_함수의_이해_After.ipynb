{
  "nbformat": 4,
  "nbformat_minor": 0,
  "metadata": {
    "kernelspec": {
      "display_name": "Python 3",
      "language": "python",
      "name": "python3"
    },
    "language_info": {
      "codemirror_mode": {
        "name": "ipython",
        "version": 3
      },
      "file_extension": ".py",
      "mimetype": "text/x-python",
      "name": "python",
      "nbconvert_exporter": "python",
      "pygments_lexer": "ipython3",
      "version": "3.7.3"
    },
    "colab": {
      "name": "22~23.함수의 이해 및 활용 - 04~05.lambda 함수의 이해_After.ipynb",
      "provenance": [],
      "include_colab_link": true
    }
  },
  "cells": [
    {
      "cell_type": "markdown",
      "metadata": {
        "id": "view-in-github",
        "colab_type": "text"
      },
      "source": [
        "<a href=\"https://colab.research.google.com/github/neip313/Python_Machine_Learning/blob/main/22~23_%ED%95%A8%EC%88%98%EC%9D%98_%EC%9D%B4%ED%95%B4_%EB%B0%8F_%ED%99%9C%EC%9A%A9_04~05_lambda_%ED%95%A8%EC%88%98%EC%9D%98_%EC%9D%B4%ED%95%B4_After.ipynb\" target=\"_parent\"><img src=\"https://colab.research.google.com/assets/colab-badge.svg\" alt=\"Open In Colab\"/></a>"
      ]
    },
    {
      "cell_type": "markdown",
      "metadata": {
        "id": "Xy8UI8qETNL-"
      },
      "source": [
        "\n",
        "\n",
        "### 학습목표\n",
        " 2. Lambda 함수 이해 및 사용"
      ]
    },
    {
      "cell_type": "markdown",
      "metadata": {
        "id": "VNxNf6aGTNMf"
      },
      "source": [
        "* **Lambda 함수**\n",
        " + 단일문으로 표현되는 익명함수\n",
        " + 익명함수란 이름이 없는 구현체만 존재하는 간단한 함수를 의미\n",
        " + 코드 상에서 한번만 사용되는 기능이 있을 때, 굳이 함수로 만들지 않고 1회성으로 만들어서 쓸 때 사용."
      ]
    },
    {
      "cell_type": "code",
      "metadata": {
        "id": "rmAI-1-9TNMl",
        "colab": {
          "base_uri": "https://localhost:8080/"
        },
        "outputId": "4d8b0e55-f22f-4940-f6a6-8b495449af1f"
      },
      "source": [
        "def square2(x):\n",
        "    return x**2\n",
        "\n",
        "square2(5)"
      ],
      "execution_count": null,
      "outputs": [
        {
          "output_type": "execute_result",
          "data": {
            "text/plain": [
              "25"
            ]
          },
          "metadata": {
            "tags": []
          },
          "execution_count": 1
        }
      ]
    },
    {
      "cell_type": "code",
      "metadata": {
        "id": "oaAzCkdCTNNa",
        "colab": {
          "base_uri": "https://localhost:8080/"
        },
        "outputId": "1cc854c4-b72f-4318-8465-a62f3a1d52bd"
      },
      "source": [
        "square = lambda x:x**2\n",
        "square(5)"
      ],
      "execution_count": null,
      "outputs": [
        {
          "output_type": "execute_result",
          "data": {
            "text/plain": [
              "25"
            ]
          },
          "metadata": {
            "tags": []
          },
          "execution_count": 2
        }
      ]
    },
    {
      "cell_type": "code",
      "metadata": {
        "id": "pENOip8tTNOk",
        "colab": {
          "base_uri": "https://localhost:8080/"
        },
        "outputId": "2288528e-503b-4ebb-e5b4-6f20217cbba9"
      },
      "source": [
        "def add(x, y):\n",
        "    return x + y\n",
        "\n",
        "add2 = lambda x,y:x+y\n",
        "add2(10, 20)"
      ],
      "execution_count": null,
      "outputs": [
        {
          "output_type": "execute_result",
          "data": {
            "text/plain": [
              "30"
            ]
          },
          "metadata": {
            "tags": []
          },
          "execution_count": 3
        }
      ]
    },
    {
      "cell_type": "code",
      "metadata": {
        "id": "Sg2gdHxuTNOw",
        "colab": {
          "base_uri": "https://localhost:8080/"
        },
        "outputId": "8861c53a-864e-4a13-9614-a1ac6dae7bfe"
      },
      "source": [
        "def str_len(s):\n",
        "    return len(s)\n",
        "\n",
        "str_len('goods')"
      ],
      "execution_count": null,
      "outputs": [
        {
          "output_type": "execute_result",
          "data": {
            "text/plain": [
              "5"
            ]
          },
          "metadata": {
            "tags": []
          },
          "execution_count": 4
        }
      ]
    },
    {
      "cell_type": "code",
      "metadata": {
        "id": "LTMU8yDJTNO8",
        "colab": {
          "base_uri": "https://localhost:8080/"
        },
        "outputId": "0f459117-8be0-4837-9289-2f5189cd2eba"
      },
      "source": [
        "strings = ['bob', 'charles', 'alexander3', 'teddy']\n",
        "# strings.sort(key=str_len)\n",
        "strings.sort(key=lambda s:len(s))\n",
        "\n",
        "print(strings)"
      ],
      "execution_count": null,
      "outputs": [
        {
          "output_type": "stream",
          "text": [
            "['bob', 'teddy', 'charles', 'alexander3']\n"
          ],
          "name": "stdout"
        }
      ]
    },
    {
      "cell_type": "markdown",
      "metadata": {
        "id": "o0qmKPVKTNPb"
      },
      "source": [
        "#### **filter, map, reduce**\n",
        " + lambda가 유용하게 사용되는 3가지 대표적 함수\n",
        " + 함수형 프로그래밍의 기본 요소이기도 함\n",
        " + filter : 특정 조건을 만족하는 요소만 남기고 필터링\n",
        " + map    : 각 원소를 주어진 수식에 따라 변형하여 새로운 리스트를 반환\n",
        " + reduce : 차례대로 앞 2개의 원소를 가지고 연산. 연산의 결과가 또 다음 연산의 입력으로 진행됨. 따라서 마지막까지 진행되면 최종 출력은 한개의 값만 남게 됨"
      ]
    },
    {
      "cell_type": "code",
      "metadata": {
        "id": "8b7oVrDPTNPd",
        "colab": {
          "base_uri": "https://localhost:8080/"
        },
        "outputId": "39502b51-1207-490d-b659-f656a59f801c"
      },
      "source": [
        "def even(n):\n",
        "    return n % 2 == 0\n",
        "\n",
        "even(3)"
      ],
      "execution_count": null,
      "outputs": [
        {
          "output_type": "execute_result",
          "data": {
            "text/plain": [
              "False"
            ]
          },
          "metadata": {
            "tags": []
          },
          "execution_count": 6
        }
      ]
    },
    {
      "cell_type": "code",
      "metadata": {
        "id": "-_HC1kRcTNPo",
        "colab": {
          "base_uri": "https://localhost:8080/"
        },
        "outputId": "db3df4ae-3bd2-4e6a-b874-27d3631962ed"
      },
      "source": [
        "nums = [1, 2, 3, 6, 8, 9, 10, 11, 13, 15]\n",
        "\n",
        "list(filter(lambda n:n%2==0, nums))"
      ],
      "execution_count": null,
      "outputs": [
        {
          "output_type": "execute_result",
          "data": {
            "text/plain": [
              "[2, 6, 8, 10]"
            ]
          },
          "metadata": {
            "tags": []
          },
          "execution_count": 7
        }
      ]
    },
    {
      "cell_type": "code",
      "metadata": {
        "id": "5jZWSLr_TNPy",
        "colab": {
          "base_uri": "https://localhost:8080/"
        },
        "outputId": "e210a31a-b1aa-4fcf-8f36-aded1b8bab6f"
      },
      "source": [
        "# map\n",
        "# 주어진 리스트, 리스트의 제곱을한 숫자로 새로운 리스트\n",
        "nums = [1, 2, 3, 6, 8, 9, 10, 11, 13, 15]\n",
        "list(map(lambda n:n**2, nums))\n"
      ],
      "execution_count": null,
      "outputs": [
        {
          "output_type": "execute_result",
          "data": {
            "text/plain": [
              "[1, 4, 9, 36, 64, 81, 100, 121, 169, 225]"
            ]
          },
          "metadata": {
            "tags": []
          },
          "execution_count": 8
        }
      ]
    },
    {
      "cell_type": "code",
      "metadata": {
        "id": "GTefQakSTNQB",
        "colab": {
          "base_uri": "https://localhost:8080/"
        },
        "outputId": "139aa868-0c2a-4045-d9d0-13aa8a238cd8"
      },
      "source": [
        "list(map(lambda n:n%2==0, nums))"
      ],
      "execution_count": null,
      "outputs": [
        {
          "output_type": "execute_result",
          "data": {
            "text/plain": [
              "[False, True, False, True, True, False, True, False, False, False]"
            ]
          },
          "metadata": {
            "tags": []
          },
          "execution_count": 9
        }
      ]
    },
    {
      "cell_type": "code",
      "metadata": {
        "id": "1Z59Q38JTNQb",
        "colab": {
          "base_uri": "https://localhost:8080/"
        },
        "outputId": "31f1b754-ccd1-4b0b-b690-8ec8788c0b55"
      },
      "source": [
        "import functools\n",
        "\n",
        "a = [1, 3, 5, 8]\n",
        "# 리스트 내의 모든 숫자의 합\n",
        "\n",
        "functools.reduce(lambda x,y:x*y, a)"
      ],
      "execution_count": null,
      "outputs": [
        {
          "output_type": "execute_result",
          "data": {
            "text/plain": [
              "120"
            ]
          },
          "metadata": {
            "tags": []
          },
          "execution_count": 10
        }
      ]
    },
    {
      "cell_type": "markdown",
      "metadata": {
        "id": "FdDMzrfETNQh"
      },
      "source": [
        "\n",
        "#### 함수 연습문제\n",
        " 1. 주어진 숫자 리스트의 평균을 구하는 함수를 출력하시오\n",
        " 1. 해당 숫자가 소수인지 아닌지 판별하시오.\n",
        " 2. 2부터 해당 숫자사이에 소수가 몇개인지 출력하는 함수를 구하시오 "
      ]
    },
    {
      "cell_type": "code",
      "metadata": {
        "id": "Cks0RmZMTNQk",
        "colab": {
          "base_uri": "https://localhost:8080/"
        },
        "outputId": "c1c655e5-48f1-4301-9960-92a54d48e45c"
      },
      "source": [
        "# 입력: 숫자 리스트\n",
        "# 출력: 숫자 리스트의 평균값\n",
        "\n",
        "def mean(nums):\n",
        "    # sum 내장 함수로 대체 가능\n",
        "#     _sum = 0\n",
        "#     for i in nums:\n",
        "#         _sum += i\n",
        "    \n",
        "    return sum(nums) / len(nums)\n",
        "\n",
        "print(mean([1, 2, 3]))\n",
        "print(mean([1, 2, 3, 4, 5]))\n",
        "print(mean([1, 2, 3.0, 3.9, 8.7]))"
      ],
      "execution_count": null,
      "outputs": [
        {
          "output_type": "stream",
          "text": [
            "2.0\n",
            "3.0\n",
            "3.72\n"
          ],
          "name": "stdout"
        }
      ]
    },
    {
      "cell_type": "code",
      "metadata": {
        "id": "6eceFGELTNQw",
        "colab": {
          "base_uri": "https://localhost:8080/"
        },
        "outputId": "03dcd8ef-5eca-4d73-a403-d8f0e75756c5"
      },
      "source": [
        "# 소수 판별 (1과 자기 자신으로만 나눠지는 수)\n",
        "# 입력: 양의 정수 1개\n",
        "# 출력: boolean (소수: True, 합성수: False)\n",
        "\n",
        "# 16\n",
        "# 2, 3, 4, 5, 6, 7, 8, .... 15\n",
        "def is_prime(num):\n",
        "    for i in range(2, num):\n",
        "        if num % i == 0: # 나눠 떨어지면 \n",
        "            return False\n",
        "    return True  \n",
        "    \n",
        "print(is_prime(100))\n",
        "print(is_prime(89))\n",
        "print(is_prime(17))\n",
        "print(is_prime(2))"
      ],
      "execution_count": null,
      "outputs": [
        {
          "output_type": "stream",
          "text": [
            "False\n",
            "True\n",
            "True\n",
            "True\n"
          ],
          "name": "stdout"
        }
      ]
    },
    {
      "cell_type": "code",
      "metadata": {
        "id": "TPi1zfPdTNQ8",
        "colab": {
          "base_uri": "https://localhost:8080/"
        },
        "outputId": "148c2e69-889f-45c1-9b6c-ef49ccd12bd1"
      },
      "source": [
        "# 2, 3, 4, 5, 6, 7 -> 4\n",
        "# 2, 3, 4, 5 -> 3\n",
        "# 입력: 양의 정수 1개\n",
        "# 출력: 2-해당 숫자 사이의 소수의 개수\n",
        "\n",
        "def num_prime(num):\n",
        "    count = 0\n",
        "    for i in range(2, num+1):\n",
        "        if is_prime(i):\n",
        "            count += 1\n",
        "    return count\n",
        "\n",
        "print(num_prime(7))\n",
        "print(num_prime(5))\n",
        "print(num_prime(100))"
      ],
      "execution_count": null,
      "outputs": [
        {
          "output_type": "stream",
          "text": [
            "4\n",
            "3\n",
            "25\n"
          ],
          "name": "stdout"
        }
      ]
    },
    {
      "cell_type": "code",
      "metadata": {
        "id": "O2QXhWwZTNRG"
      },
      "source": [
        ""
      ],
      "execution_count": null,
      "outputs": []
    },
    {
      "cell_type": "code",
      "metadata": {
        "id": "gE2V5nT2TNRQ"
      },
      "source": [
        ""
      ],
      "execution_count": null,
      "outputs": []
    },
    {
      "cell_type": "code",
      "metadata": {
        "id": "Y16HFML_TNRc"
      },
      "source": [
        ""
      ],
      "execution_count": null,
      "outputs": []
    },
    {
      "cell_type": "code",
      "metadata": {
        "id": "yoeETq9dTNRk"
      },
      "source": [
        ""
      ],
      "execution_count": null,
      "outputs": []
    }
  ]
}