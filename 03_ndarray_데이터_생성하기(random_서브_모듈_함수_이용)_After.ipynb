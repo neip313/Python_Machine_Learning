{
  "nbformat": 4,
  "nbformat_minor": 0,
  "metadata": {
    "kernelspec": {
      "display_name": "Python 3",
      "language": "python",
      "name": "python3"
    },
    "language_info": {
      "codemirror_mode": {
        "name": "ipython",
        "version": 3
      },
      "file_extension": ".py",
      "mimetype": "text/x-python",
      "name": "python",
      "nbconvert_exporter": "python",
      "pygments_lexer": "ipython3",
      "version": "3.7.3"
    },
    "colab": {
      "name": "03. ndarray 데이터 생성하기(random 서브 모듈 함수 이용)_After.ipynb",
      "provenance": [],
      "include_colab_link": true
    }
  },
  "cells": [
    {
      "cell_type": "markdown",
      "metadata": {
        "id": "view-in-github",
        "colab_type": "text"
      },
      "source": [
        "<a href=\"https://colab.research.google.com/github/neip313/Python_Machine_Learning/blob/main/03_ndarray_%EB%8D%B0%EC%9D%B4%ED%84%B0_%EC%83%9D%EC%84%B1%ED%95%98%EA%B8%B0(random_%EC%84%9C%EB%B8%8C_%EB%AA%A8%EB%93%88_%ED%95%A8%EC%88%98_%EC%9D%B4%EC%9A%A9)_After.ipynb\" target=\"_parent\"><img src=\"https://colab.research.google.com/assets/colab-badge.svg\" alt=\"Open In Colab\"/></a>"
      ]
    },
    {
      "cell_type": "markdown",
      "metadata": {
        "id": "L_sG8KwH7Hxl"
      },
      "source": [
        "### 학습목표\n",
        " - random 서브모듈 함수를 통해 ndarray 생성하기"
      ]
    },
    {
      "cell_type": "code",
      "metadata": {
        "id": "Rd6RitSM7Hxn"
      },
      "source": [
        "import numpy as np"
      ],
      "execution_count": 2,
      "outputs": []
    },
    {
      "cell_type": "markdown",
      "metadata": {
        "id": "iYBM_FxI7Hxo"
      },
      "source": [
        "#### random 서브모듈"
      ]
    },
    {
      "cell_type": "markdown",
      "metadata": {
        "id": "SP97U1HW7Hxp"
      },
      "source": [
        "#### rand 함수\n",
        " - 0, 1사이의 분포로 랜덤한 ndarray 생성"
      ]
    },
    {
      "cell_type": "code",
      "metadata": {
        "colab": {
          "base_uri": "https://localhost:8080/"
        },
        "id": "iEfpRywZ7Hxp",
        "outputId": "9a6d7f89-4783-43e9-eb91-6d2f07bdb871"
      },
      "source": [
        "np.random.rand(4, 5, 3)"
      ],
      "execution_count": 3,
      "outputs": [
        {
          "output_type": "execute_result",
          "data": {
            "text/plain": [
              "array([[[0.16639286, 0.87690277, 0.40703534],\n",
              "        [0.38618927, 0.93367101, 0.577955  ],\n",
              "        [0.64102744, 0.50417359, 0.72838112],\n",
              "        [0.60926719, 0.76902408, 0.52431149],\n",
              "        [0.69822445, 0.30487155, 0.15669416]],\n",
              "\n",
              "       [[0.57129936, 0.8053363 , 0.69714289],\n",
              "        [0.26967083, 0.92909215, 0.76482671],\n",
              "        [0.89990099, 0.5825801 , 0.76018347],\n",
              "        [0.82362361, 0.92094325, 0.22268407],\n",
              "        [0.69584503, 0.83941588, 0.8253616 ]],\n",
              "\n",
              "       [[0.14241744, 0.89491227, 0.27651781],\n",
              "        [0.87497683, 0.45244773, 0.92097588],\n",
              "        [0.86556238, 0.07174219, 0.8347333 ],\n",
              "        [0.70745075, 0.29464525, 0.10396343],\n",
              "        [0.30479712, 0.00537667, 0.76051148]],\n",
              "\n",
              "       [[0.35844405, 0.4900895 , 0.24204358],\n",
              "        [0.64868354, 0.39985269, 0.62862429],\n",
              "        [0.10344596, 0.25968141, 0.50710251],\n",
              "        [0.97265486, 0.80299072, 0.64551836],\n",
              "        [0.21281304, 0.25013583, 0.53634935]]])"
            ]
          },
          "metadata": {
            "tags": []
          },
          "execution_count": 3
        }
      ]
    },
    {
      "cell_type": "markdown",
      "metadata": {
        "id": "B0-e_1p07Hxp"
      },
      "source": [
        "#### randn함수\n",
        " - n: normal distribution(정규분포)\n",
        " - 정규분포로 샘플링된 랜덤 ndarray 생성"
      ]
    },
    {
      "cell_type": "code",
      "metadata": {
        "colab": {
          "base_uri": "https://localhost:8080/"
        },
        "id": "vWZa0uj77Hxp",
        "outputId": "a8207ace-49b1-4a8d-97f7-7d9205a320e6"
      },
      "source": [
        "np.random.randn(5)"
      ],
      "execution_count": 4,
      "outputs": [
        {
          "output_type": "execute_result",
          "data": {
            "text/plain": [
              "array([-0.68651288, -1.37996345,  1.24497354, -0.06947069,  0.98015995])"
            ]
          },
          "metadata": {
            "tags": []
          },
          "execution_count": 4
        }
      ]
    },
    {
      "cell_type": "code",
      "metadata": {
        "colab": {
          "base_uri": "https://localhost:8080/"
        },
        "id": "cXQU6Bi67Hxp",
        "outputId": "5ccefaec-0e9f-4c74-d3f3-af692fc6c015"
      },
      "source": [
        "np.random.randn(3, 4, 2)"
      ],
      "execution_count": 5,
      "outputs": [
        {
          "output_type": "execute_result",
          "data": {
            "text/plain": [
              "array([[[ 0.69244773,  1.22300763],\n",
              "        [-0.85306609, -0.04699105],\n",
              "        [-1.83276872,  1.0471796 ],\n",
              "        [-0.80014479, -1.90665087]],\n",
              "\n",
              "       [[ 0.72078552, -0.68321196],\n",
              "        [ 0.34136029, -0.22652988],\n",
              "        [ 0.07040334,  0.24079177],\n",
              "        [-0.83669599,  0.30199401]],\n",
              "\n",
              "       [[ 0.76129057, -0.88818153],\n",
              "        [-0.56127873, -0.55095391],\n",
              "        [ 0.76179461,  0.74445828],\n",
              "        [-0.14517825, -0.3413311 ]]])"
            ]
          },
          "metadata": {
            "tags": []
          },
          "execution_count": 5
        }
      ]
    },
    {
      "cell_type": "markdown",
      "metadata": {
        "id": "67cSGsqB7Hxp"
      },
      "source": [
        "#### randint 함수\n",
        " - 특정 정수 사이에서 랜덤하게 샘플링"
      ]
    },
    {
      "cell_type": "code",
      "metadata": {
        "colab": {
          "base_uri": "https://localhost:8080/"
        },
        "id": "yb0cwFcp7Hxp",
        "outputId": "0d62d61f-0c8b-41fd-d312-47f5ef58adae"
      },
      "source": [
        "np.random.randint(1, 100, size=(5,))"
      ],
      "execution_count": 6,
      "outputs": [
        {
          "output_type": "execute_result",
          "data": {
            "text/plain": [
              "array([82, 24, 71, 89, 34])"
            ]
          },
          "metadata": {
            "tags": []
          },
          "execution_count": 6
        }
      ]
    },
    {
      "cell_type": "markdown",
      "metadata": {
        "id": "MdzcTr_k7Hxp"
      },
      "source": [
        "#### seed 함수\n",
        " - 랜덤한 값을 동일하게 다시 생성하고자 할때 사용"
      ]
    },
    {
      "cell_type": "code",
      "metadata": {
        "colab": {
          "base_uri": "https://localhost:8080/"
        },
        "id": "DiYvySa67Hxp",
        "outputId": "9649c09c-9961-4636-cf64-8f118931c5a6"
      },
      "source": [
        "np.random.seed(23)\n",
        "np.random.randn(3, 4)"
      ],
      "execution_count": 7,
      "outputs": [
        {
          "output_type": "execute_result",
          "data": {
            "text/plain": [
              "array([[ 0.66698806,  0.02581308, -0.77761941,  0.94863382],\n",
              "       [ 0.70167179, -1.05108156, -0.36754812, -1.13745969],\n",
              "       [-1.32214752,  1.77225828, -0.34745899,  0.67014016]])"
            ]
          },
          "metadata": {
            "tags": []
          },
          "execution_count": 7
        }
      ]
    },
    {
      "cell_type": "markdown",
      "metadata": {
        "id": "Iiq_4b0h7Hxq"
      },
      "source": [
        "#### choice\n",
        " - 주어진 1차원 ndarray로 부터 랜덤으로 샘플링\n",
        " - 정수가 주어진 경우, np.arange(해당숫자)로 간주"
      ]
    },
    {
      "cell_type": "code",
      "metadata": {
        "colab": {
          "base_uri": "https://localhost:8080/"
        },
        "id": "b0WpA3KD7Hxq",
        "outputId": "756735a8-56ba-43fa-c69e-eb2d8b2785b2"
      },
      "source": [
        "np.random.choice(100, size=(3, 4))"
      ],
      "execution_count": 8,
      "outputs": [
        {
          "output_type": "execute_result",
          "data": {
            "text/plain": [
              "array([[79, 90, 62, 57],\n",
              "       [19, 33, 59, 39],\n",
              "       [15, 36, 65,  1]])"
            ]
          },
          "metadata": {
            "tags": []
          },
          "execution_count": 8
        }
      ]
    },
    {
      "cell_type": "code",
      "metadata": {
        "colab": {
          "base_uri": "https://localhost:8080/"
        },
        "id": "mEWwjqwZ7Hxq",
        "outputId": "c5d680b1-af15-4a9d-b7b2-aa9b8f4502e0"
      },
      "source": [
        "x = np.array([1, 2, 3, 1.5, 2.6, 4.9])\n",
        "np.random.choice(x, size=(2, 2), replace=False)"
      ],
      "execution_count": 9,
      "outputs": [
        {
          "output_type": "execute_result",
          "data": {
            "text/plain": [
              "array([[1. , 2. ],\n",
              "       [3. , 4.9]])"
            ]
          },
          "metadata": {
            "tags": []
          },
          "execution_count": 9
        }
      ]
    },
    {
      "cell_type": "markdown",
      "metadata": {
        "id": "Z7l_LIXf7Hxq"
      },
      "source": [
        "#### 확률분포에 따른 ndarray 생성\n",
        " - uniform\n",
        " - normal 등등"
      ]
    },
    {
      "cell_type": "code",
      "metadata": {
        "colab": {
          "base_uri": "https://localhost:8080/"
        },
        "id": "AysJGk167Hxq",
        "outputId": "972b9c12-b9e0-49ea-9b20-684640f4ab4f"
      },
      "source": [
        "np.random.uniform(1.0, 3.0, size=(4, 5))"
      ],
      "execution_count": 10,
      "outputs": [
        {
          "output_type": "execute_result",
          "data": {
            "text/plain": [
              "array([[2.51225457, 2.66736254, 1.34436822, 1.42430685, 2.74942904],\n",
              "       [1.8654592 , 2.75215591, 1.94121243, 1.60485579, 2.53464481],\n",
              "       [1.02068753, 2.35248663, 1.94336175, 2.26833065, 2.84085397],\n",
              "       [1.26336399, 2.67879335, 2.40971945, 2.93578399, 2.80844986]])"
            ]
          },
          "metadata": {
            "tags": []
          },
          "execution_count": 10
        }
      ]
    },
    {
      "cell_type": "code",
      "metadata": {
        "colab": {
          "base_uri": "https://localhost:8080/"
        },
        "id": "Pt2jiViq7Hxr",
        "outputId": "9cdd2727-2113-4ddf-867b-fbac0ea7354f"
      },
      "source": [
        "np.random.normal(size=(3, 4))\n",
        "np.random.randn(3, 4)"
      ],
      "execution_count": 11,
      "outputs": [
        {
          "output_type": "execute_result",
          "data": {
            "text/plain": [
              "array([[-1.10028295,  0.19820952,  0.0407598 ,  0.78145406],\n",
              "       [ 0.06493754, -0.15102838, -0.01601653,  1.5072508 ],\n",
              "       [-1.60482532,  1.78616035, -0.2363808 , -2.42559596]])"
            ]
          },
          "metadata": {
            "tags": []
          },
          "execution_count": 11
        }
      ]
    }
  ]
}