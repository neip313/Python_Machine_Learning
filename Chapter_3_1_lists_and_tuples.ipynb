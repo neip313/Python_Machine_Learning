{
  "nbformat": 4,
  "nbformat_minor": 0,
  "metadata": {
    "colab": {
      "name": "Chapter_3_1_lists_and_tuples.ipynb",
      "provenance": [],
      "collapsed_sections": [],
      "include_colab_link": true
    },
    "kernelspec": {
      "name": "python3",
      "display_name": "Python 3"
    }
  },
  "cells": [
    {
      "cell_type": "markdown",
      "metadata": {
        "id": "view-in-github",
        "colab_type": "text"
      },
      "source": [
        "<a href=\"https://colab.research.google.com/github/neip313/Python_Machine_Learning/blob/main/Chapter_3_1_lists_and_tuples.ipynb\" target=\"_parent\"><img src=\"https://colab.research.google.com/assets/colab-badge.svg\" alt=\"Open In Colab\"/></a>"
      ]
    },
    {
      "cell_type": "markdown",
      "metadata": {
        "id": "--6K6q__gRnA"
      },
      "source": [
        "---\n",
        "title: \"The difference betwen Lists and Tuples in Python\"\n",
        "date: 2020-06-17T10:30:47+09:00\n",
        "tags:\n",
        "  - \"Basic Data Structures\"\n",
        "  - \"Python Basic\"\n",
        "  - \"Python\"\n",
        "  - \"Lists and Tuples\"\n",
        "categories:\n",
        "  - \"Data Structures\"\n",
        "  - \"Python\"\n",
        "  - \"Python Basic\"\n",
        "menu: \n",
        "  kaggle:\n",
        "    name: Lists and Tuples in Python\n",
        "---\n",
        "\n",
        "![](/img/kaggle/housing_price/eda_1/tutorial_01.png)"
      ]
    },
    {
      "cell_type": "markdown",
      "metadata": {
        "id": "REY6iQaBdZXy"
      },
      "source": [
        "## I. 개요\n",
        "- 이번 시간부터 본격적으로 파이썬의 기초 자료형에 대해 간단한 튜토리얼을 준비했다. \n",
        "- 데이터 분석과는 큰 관계가 없을 수 있지만, 데이터 정제 할 때, 도움이 되기도 한다. \n",
        "- 그 중에서 면접의 단골질문과 같은 `Lists & Tuple`에 대해 나누는 시간을 가졌다. "
      ]
    },
    {
      "cell_type": "markdown",
      "metadata": {
        "id": "dk83BdKKeFGP"
      },
      "source": [
        "## II. Lists\n",
        "- 먼저 `Lists`는 `[]` 형태로 정의가 된다.  "
      ]
    },
    {
      "cell_type": "code",
      "metadata": {
        "id": "pWPY-oFAeNZJ",
        "outputId": "3c96ddd5-9844-4bba-d556-19e4cd24b168",
        "colab": {
          "base_uri": "https://localhost:8080/",
          "height": 34
        }
      },
      "source": [
        "alphabet = ['A', 'B', 'C', 'D']\n",
        "print(alphabet)"
      ],
      "execution_count": null,
      "outputs": [
        {
          "output_type": "stream",
          "text": [
            "['A', 'B', 'C', 'D']\n"
          ],
          "name": "stdout"
        }
      ]
    },
    {
      "cell_type": "markdown",
      "metadata": {
        "id": "aLlQsvVieZm_"
      },
      "source": [
        "- 코드는 간단하다. 그러나 함의하고 있는 내용은 다음과 같다. \n",
        "  + `List`는 정렬(`ordered`)되었다. \n",
        "  + `List`는 다양한 형태의 데이터 유형을 담을 수 있다. \n",
        "  + `List`안에 있는 값은 인덱스로 접근한다. \n",
        "  + `List`안에 또다른 `List`를 담을 수 있다. \n",
        "  + `List`는 변하기 쉽다. \n",
        "  + `List`는 동적이다.  "
      ]
    },
    {
      "cell_type": "markdown",
      "metadata": {
        "id": "HBvxs7DnfbXP"
      },
      "source": [
        "### (1) `List`는 정렬(`ordered`)되었다. \n",
        "- 우선 코드로 확인하자. "
      ]
    },
    {
      "cell_type": "code",
      "metadata": {
        "id": "nd2mg-QZfhpM",
        "outputId": "287a0270-edc3-4e93-9421-e193032bfbf7",
        "colab": {
          "base_uri": "https://localhost:8080/",
          "height": 34
        }
      },
      "source": [
        "a1 = [1, 2, 3, 4]\n",
        "a2 = [2, 3, 4, 1]\n",
        "\n",
        "a1 == a2"
      ],
      "execution_count": null,
      "outputs": [
        {
          "output_type": "execute_result",
          "data": {
            "text/plain": [
              "False"
            ]
          },
          "metadata": {
            "tags": []
          },
          "execution_count": 2
        }
      ]
    },
    {
      "cell_type": "code",
      "metadata": {
        "id": "YHLvPGubfzAb",
        "outputId": "7b02db0c-d093-4b52-da53-c2d74d28b6cb",
        "colab": {
          "base_uri": "https://localhost:8080/",
          "height": 34
        }
      },
      "source": [
        "a1 is a2"
      ],
      "execution_count": null,
      "outputs": [
        {
          "output_type": "execute_result",
          "data": {
            "text/plain": [
              "False"
            ]
          },
          "metadata": {
            "tags": []
          },
          "execution_count": 3
        }
      ]
    },
    {
      "cell_type": "code",
      "metadata": {
        "id": "va_FcZe-f1NQ",
        "outputId": "d380f064-07b0-4124-96b8-17738bdddbca",
        "colab": {
          "base_uri": "https://localhost:8080/",
          "height": 34
        }
      },
      "source": [
        "[1, 2, 3, 4] == [2, 3, 4, 1]"
      ],
      "execution_count": null,
      "outputs": [
        {
          "output_type": "execute_result",
          "data": {
            "text/plain": [
              "False"
            ]
          },
          "metadata": {
            "tags": []
          },
          "execution_count": 4
        }
      ]
    },
    {
      "cell_type": "markdown",
      "metadata": {
        "id": "4gcy3xnkf2ht"
      },
      "source": [
        "- 일련의 코드는 `a1`과 `a2`가 같지 않다는 것을 프로그래밍적으로 증명한 것이다. \n",
        "  + 좀 더 쉽게 표현하면 `List`안에 있는 값은 순서가 있다는 뜻이다.\n"
      ]
    },
    {
      "cell_type": "markdown",
      "metadata": {
        "id": "_vNmb2TphGIB"
      },
      "source": [
        "### (2) `List`는 다양한 형태의 데이터 유형을 담을 수 있다. \n",
        "- `List`의 편리성이기도 하지만, 분석시에는 데이터프레임으로 변환할 때 큰 애로사항이 되기도 한다. \n",
        "- 우선, 코드로 확인해보자. "
      ]
    },
    {
      "cell_type": "code",
      "metadata": {
        "id": "XAFh3xzihUz_",
        "outputId": "5555fe80-902b-4d26-b15d-d341398bcfa9",
        "colab": {
          "base_uri": "https://localhost:8080/",
          "height": 34
        }
      },
      "source": [
        "multi_values = [11.1, 'foo', 3, 5, 'bar', True, False, 3.1245]\n",
        "print(multi_values)"
      ],
      "execution_count": null,
      "outputs": [
        {
          "output_type": "stream",
          "text": [
            "[11.1, 'foo', 3, 5, 'bar', True, False, 3.1245]\n"
          ],
          "name": "stdout"
        }
      ]
    },
    {
      "cell_type": "markdown",
      "metadata": {
        "id": "iTS1BAO-jC9O"
      },
      "source": [
        "- 또한, `List`는 다양한 함수, class, 심지어는 모듈도 담을 수 있다. "
      ]
    },
    {
      "cell_type": "code",
      "metadata": {
        "id": "S7SnwkS_jg0V",
        "outputId": "9d3d6eaf-3e7a-426e-fc10-eabca8b2df51",
        "colab": {
          "base_uri": "https://localhost:8080/",
          "height": 34
        }
      },
      "source": [
        "float"
      ],
      "execution_count": null,
      "outputs": [
        {
          "output_type": "execute_result",
          "data": {
            "text/plain": [
              "float"
            ]
          },
          "metadata": {
            "tags": []
          },
          "execution_count": 6
        }
      ]
    },
    {
      "cell_type": "code",
      "metadata": {
        "id": "9fho_ZbIjjib",
        "outputId": "903ee5d7-00f9-425c-b601-321ed9537b52",
        "colab": {
          "base_uri": "https://localhost:8080/",
          "height": 34
        }
      },
      "source": [
        "len"
      ],
      "execution_count": null,
      "outputs": [
        {
          "output_type": "execute_result",
          "data": {
            "text/plain": [
              "<function len>"
            ]
          },
          "metadata": {
            "tags": []
          },
          "execution_count": 7
        }
      ]
    },
    {
      "cell_type": "code",
      "metadata": {
        "id": "6ZNdMuPyjlrH",
        "outputId": "4b5534b7-49e5-48cb-8dbd-339c9248e46d",
        "colab": {
          "base_uri": "https://localhost:8080/",
          "height": 34
        }
      },
      "source": [
        "def temp():\n",
        "  pass\n",
        "temp"
      ],
      "execution_count": null,
      "outputs": [
        {
          "output_type": "execute_result",
          "data": {
            "text/plain": [
              "<function __main__.temp>"
            ]
          },
          "metadata": {
            "tags": []
          },
          "execution_count": 8
        }
      ]
    },
    {
      "cell_type": "code",
      "metadata": {
        "id": "Jz3HHFVxjqWy",
        "outputId": "c7e10a33-c809-4a21-f263-54a474ac5d1c",
        "colab": {
          "base_uri": "https://localhost:8080/",
          "height": 34
        }
      },
      "source": [
        "import math\n",
        "math"
      ],
      "execution_count": null,
      "outputs": [
        {
          "output_type": "execute_result",
          "data": {
            "text/plain": [
              "<module 'math' (built-in)>"
            ]
          },
          "metadata": {
            "tags": []
          },
          "execution_count": 9
        }
      ]
    },
    {
      "cell_type": "code",
      "metadata": {
        "id": "UysA7siPjt4A",
        "outputId": "0ddb829b-216c-4705-ffc8-ba94ed622944",
        "colab": {
          "base_uri": "https://localhost:8080/",
          "height": 34
        }
      },
      "source": [
        "multi_objects = [float, len, temp, math]\n",
        "multi_objects"
      ],
      "execution_count": null,
      "outputs": [
        {
          "output_type": "execute_result",
          "data": {
            "text/plain": [
              "[float, <function len>, <function __main__.temp>, <module 'math' (built-in)>]"
            ]
          },
          "metadata": {
            "tags": []
          },
          "execution_count": 10
        }
      ]
    },
    {
      "cell_type": "markdown",
      "metadata": {
        "id": "X0x_ucnCj89s"
      },
      "source": [
        "### (3) `List`안에 있는 값은 인덱스로 접근한다. \n",
        "- 다음 그림이 인덱스로 접근하는 기본적인 방법이다. \n",
        "  + 참고로 또다른 분석 언어인 `R`은 `0`이 아닌 `1`부터 시작한다. \n",
        "![](/img/) \n",
        "- 소스코드로 빠르게 확인해보자. "
      ]
    },
    {
      "cell_type": "code",
      "metadata": {
        "id": "nf16ZIPyNi-h"
      },
      "source": [
        "temp = [\"A\", \"B\", \"C\", \"D\", \"E\"]"
      ],
      "execution_count": null,
      "outputs": []
    },
    {
      "cell_type": "code",
      "metadata": {
        "id": "DQ5Z0wdUNtNs",
        "outputId": "e08192b8-f743-4274-9f91-08fc81d2f5e2",
        "colab": {
          "base_uri": "https://localhost:8080/",
          "height": 34
        }
      },
      "source": [
        "temp[0]"
      ],
      "execution_count": null,
      "outputs": [
        {
          "output_type": "execute_result",
          "data": {
            "text/plain": [
              "'A'"
            ]
          },
          "metadata": {
            "tags": []
          },
          "execution_count": 12
        }
      ]
    },
    {
      "cell_type": "code",
      "metadata": {
        "id": "JSfZ_H2ENurl",
        "outputId": "bf7083d9-813e-41c7-e673-8c121b0ebca3",
        "colab": {
          "base_uri": "https://localhost:8080/",
          "height": 34
        }
      },
      "source": [
        "temp[1]"
      ],
      "execution_count": null,
      "outputs": [
        {
          "output_type": "execute_result",
          "data": {
            "text/plain": [
              "'B'"
            ]
          },
          "metadata": {
            "tags": []
          },
          "execution_count": 13
        }
      ]
    },
    {
      "cell_type": "code",
      "metadata": {
        "id": "VDW84En4NwlA",
        "outputId": "bbbadad2-4d04-4b14-b5ab-46e7a213cba9",
        "colab": {
          "base_uri": "https://localhost:8080/",
          "height": 34
        }
      },
      "source": [
        "temp[4]"
      ],
      "execution_count": null,
      "outputs": [
        {
          "output_type": "execute_result",
          "data": {
            "text/plain": [
              "'E'"
            ]
          },
          "metadata": {
            "tags": []
          },
          "execution_count": 14
        }
      ]
    },
    {
      "cell_type": "markdown",
      "metadata": {
        "id": "I0DOUayRRgYs"
      },
      "source": [
        "- 그런데, `Negative List` 형태로도 접근할 수 있다. \n",
        "  + `-1`, `-2`와 같은 형태로 접근하는 것이다. \n",
        "- 코드를 통해 확인해보자."
      ]
    },
    {
      "cell_type": "code",
      "metadata": {
        "id": "-e8je0RVxqqv",
        "outputId": "e7ed6df9-e25f-4a2c-bb73-2468a8cc978a",
        "colab": {
          "base_uri": "https://localhost:8080/",
          "height": 34
        }
      },
      "source": [
        "temp[-1]"
      ],
      "execution_count": null,
      "outputs": [
        {
          "output_type": "execute_result",
          "data": {
            "text/plain": [
              "'E'"
            ]
          },
          "metadata": {
            "tags": []
          },
          "execution_count": 15
        }
      ]
    },
    {
      "cell_type": "code",
      "metadata": {
        "id": "L6YM41U6xtZa",
        "outputId": "5be118e4-a35c-46ed-c942-fe4fa750320b",
        "colab": {
          "base_uri": "https://localhost:8080/",
          "height": 34
        }
      },
      "source": [
        "temp[-4]"
      ],
      "execution_count": null,
      "outputs": [
        {
          "output_type": "execute_result",
          "data": {
            "text/plain": [
              "'B'"
            ]
          },
          "metadata": {
            "tags": []
          },
          "execution_count": 16
        }
      ]
    },
    {
      "cell_type": "code",
      "metadata": {
        "id": "ViwAv9naxxA1",
        "outputId": "7e07088f-22c3-4842-dcdb-f566cd8ed45b",
        "colab": {
          "base_uri": "https://localhost:8080/",
          "height": 34
        }
      },
      "source": [
        "temp[-5]"
      ],
      "execution_count": null,
      "outputs": [
        {
          "output_type": "execute_result",
          "data": {
            "text/plain": [
              "'A'"
            ]
          },
          "metadata": {
            "tags": []
          },
          "execution_count": 17
        }
      ]
    },
    {
      "cell_type": "markdown",
      "metadata": {
        "id": "H-tE387Mxy78"
      },
      "source": [
        "- 슬라이싱을 활용한 인덱스 접근법도 있다.\n",
        "  + temp[m:n] 형태로 `From M to N`으로 접근한다. \n",
        "- 코드를 통해서 확인해보자. "
      ]
    },
    {
      "cell_type": "code",
      "metadata": {
        "id": "RTG0V0_kyclV",
        "outputId": "762433d0-b192-4446-e090-a17c9833ab59",
        "colab": {
          "base_uri": "https://localhost:8080/",
          "height": 34
        }
      },
      "source": [
        "temp[0:5]"
      ],
      "execution_count": null,
      "outputs": [
        {
          "output_type": "execute_result",
          "data": {
            "text/plain": [
              "['A', 'B', 'C', 'D', 'E']"
            ]
          },
          "metadata": {
            "tags": []
          },
          "execution_count": 18
        }
      ]
    },
    {
      "cell_type": "code",
      "metadata": {
        "id": "rUKMk-4QyfoQ",
        "outputId": "1c2e6527-8581-403c-8884-e0f93e7a8ccc",
        "colab": {
          "base_uri": "https://localhost:8080/",
          "height": 34
        }
      },
      "source": [
        "temp[2:4]"
      ],
      "execution_count": null,
      "outputs": [
        {
          "output_type": "execute_result",
          "data": {
            "text/plain": [
              "['C', 'D']"
            ]
          },
          "metadata": {
            "tags": []
          },
          "execution_count": 19
        }
      ]
    },
    {
      "cell_type": "code",
      "metadata": {
        "id": "XYc6t9B4yhlT",
        "outputId": "5d373fc5-da22-4505-85e4-21b03e7b70ef",
        "colab": {
          "base_uri": "https://localhost:8080/",
          "height": 34
        }
      },
      "source": [
        "temp[-5:-1]"
      ],
      "execution_count": null,
      "outputs": [
        {
          "output_type": "execute_result",
          "data": {
            "text/plain": [
              "['A', 'B', 'C', 'D']"
            ]
          },
          "metadata": {
            "tags": []
          },
          "execution_count": 20
        }
      ]
    },
    {
      "cell_type": "code",
      "metadata": {
        "id": "yFzau6ux0yz1",
        "outputId": "f6f27fbd-ff4a-4af4-f7aa-b168d70f0243",
        "colab": {
          "base_uri": "https://localhost:8080/",
          "height": 34
        }
      },
      "source": [
        "temp[-5:]"
      ],
      "execution_count": null,
      "outputs": [
        {
          "output_type": "execute_result",
          "data": {
            "text/plain": [
              "['A', 'B', 'C', 'D', 'E']"
            ]
          },
          "metadata": {
            "tags": []
          },
          "execution_count": 21
        }
      ]
    },
    {
      "cell_type": "markdown",
      "metadata": {
        "id": "TJWU3QYb120N"
      },
      "source": [
        "- 이 외에도, 슬라이싱 기법을 활용한 다양한 접근법이 있다. 스택오버플로우의 문서를 확인해보면 보다 더 많은 정보를 얻을 수 있다. \n",
        "  + [Understanding slice notation](https://stackoverflow.com/questions/509211/understanding-slice-notation)\n"
      ]
    },
    {
      "cell_type": "markdown",
      "metadata": {
        "id": "LkQTbFNA2KRq"
      },
      "source": [
        "### (4) `List`안에 또다른 `List`를 담을 수 있다. \n",
        "- `List`안에 다양한 객체가 들어가 있음을 확인했다. \n",
        "- 그런데, `List`안에 또 다른 `List`가 들어갈 수도 있다. \n",
        "  + 코드를 통해 확인해보자. "
      ]
    },
    {
      "cell_type": "code",
      "metadata": {
        "id": "poYDnD9X31Xe",
        "outputId": "55a6d376-cf4e-4157-8227-5746ee4fb465",
        "colab": {
          "base_uri": "https://localhost:8080/",
          "height": 34
        }
      },
      "source": [
        "x = ['a', ['bb', ['ccc', 'ddd'], 'ee', 'ff'], 'g', ['hh', 'ii'], 'j']\n",
        "x"
      ],
      "execution_count": null,
      "outputs": [
        {
          "output_type": "execute_result",
          "data": {
            "text/plain": [
              "['a', ['bb', ['ccc', 'ddd'], 'ee', 'ff'], 'g', ['hh', 'ii'], 'j']"
            ]
          },
          "metadata": {
            "tags": []
          },
          "execution_count": 22
        }
      ]
    },
    {
      "cell_type": "markdown",
      "metadata": {
        "id": "PPFeu4Ks34Cm"
      },
      "source": [
        "- 인덱스로 접근하는 방법에 대해 배웠기 때문에, 하나씩 접근해보도록 한다. \n",
        "- 우선 `a`에 접근해보자. "
      ]
    },
    {
      "cell_type": "code",
      "metadata": {
        "id": "lMd_4oG_4xy8",
        "outputId": "c3f517bf-0946-4523-8397-ef412fbba2cb",
        "colab": {
          "base_uri": "https://localhost:8080/",
          "height": 34
        }
      },
      "source": [
        "x[0]"
      ],
      "execution_count": null,
      "outputs": [
        {
          "output_type": "execute_result",
          "data": {
            "text/plain": [
              "'a'"
            ]
          },
          "metadata": {
            "tags": []
          },
          "execution_count": 23
        }
      ]
    },
    {
      "cell_type": "markdown",
      "metadata": {
        "id": "5j7t3-gg4zvn"
      },
      "source": [
        "- 이번에는 `bb`에 접근해보자. \n"
      ]
    },
    {
      "cell_type": "code",
      "metadata": {
        "id": "UKRmWQie43x_",
        "outputId": "7a63fb95-7399-46fe-d1c4-009f94e1d50b",
        "colab": {
          "base_uri": "https://localhost:8080/",
          "height": 34
        }
      },
      "source": [
        "x[1]"
      ],
      "execution_count": null,
      "outputs": [
        {
          "output_type": "execute_result",
          "data": {
            "text/plain": [
              "['bb', ['ccc', 'ddd'], 'ee', 'ff']"
            ]
          },
          "metadata": {
            "tags": []
          },
          "execution_count": 24
        }
      ]
    },
    {
      "cell_type": "markdown",
      "metadata": {
        "id": "4EZs-w7Q5Apb"
      },
      "source": [
        "- `x[1]` 안에 또다른 리스트가 있음을 확인했다. \n",
        "  + `bb`에 접근하려면 `x[1]`에서 `[]`를 추가해서 접근하면 된다. "
      ]
    },
    {
      "cell_type": "code",
      "metadata": {
        "id": "Fm_eN0pM5P8J",
        "outputId": "0ccd666b-2709-4bd4-c916-3e5587b1c68a",
        "colab": {
          "base_uri": "https://localhost:8080/",
          "height": 34
        }
      },
      "source": [
        "x[1][0]"
      ],
      "execution_count": null,
      "outputs": [
        {
          "output_type": "execute_result",
          "data": {
            "text/plain": [
              "'bb'"
            ]
          },
          "metadata": {
            "tags": []
          },
          "execution_count": 25
        }
      ]
    },
    {
      "cell_type": "markdown",
      "metadata": {
        "id": "Ayx4P4y05SoD"
      },
      "source": [
        "- 이번에는 `ccc`에 접근해보자. "
      ]
    },
    {
      "cell_type": "code",
      "metadata": {
        "id": "50RqGw9T5VaV",
        "outputId": "6f11efdb-da5c-409a-8e17-ee4f686c72c1",
        "colab": {
          "base_uri": "https://localhost:8080/",
          "height": 34
        }
      },
      "source": [
        "x[1][1][0]"
      ],
      "execution_count": null,
      "outputs": [
        {
          "output_type": "execute_result",
          "data": {
            "text/plain": [
              "'ccc'"
            ]
          },
          "metadata": {
            "tags": []
          },
          "execution_count": 26
        }
      ]
    },
    {
      "cell_type": "markdown",
      "metadata": {
        "id": "1VKXCsvL5Yge"
      },
      "source": [
        "- 위와 같은 방식으로 `Nested List`의 값에 대해 보다 쉽게 접근하는 방법을 배울 수 있었다. "
      ]
    },
    {
      "cell_type": "markdown",
      "metadata": {
        "id": "kzfMSrXL5jRS"
      },
      "source": [
        "### (5) `List`는 변하기 쉽다. \n",
        "- 보통 `Mutable`이라고 문법적으로 표현을 많이 한다. \n",
        "- 우선 코드로 이해해보자. "
      ]
    },
    {
      "cell_type": "code",
      "metadata": {
        "id": "0Nzq3Ki3453Q",
        "outputId": "357ac827-c6d8-4a1c-bccd-c7375a356fc3",
        "colab": {
          "base_uri": "https://localhost:8080/",
          "height": 34
        }
      },
      "source": [
        "message = \"strings immutable\"\n",
        "message[0]"
      ],
      "execution_count": null,
      "outputs": [
        {
          "output_type": "execute_result",
          "data": {
            "text/plain": [
              "'s'"
            ]
          },
          "metadata": {
            "tags": []
          },
          "execution_count": 47
        }
      ]
    },
    {
      "cell_type": "markdown",
      "metadata": {
        "id": "0KAlRKxY6EJr"
      },
      "source": [
        "- `s` 대신에 `p`를 입력하도록 해보자. 이론적으로는 `message[0] = p'를 하면 된다.  "
      ]
    },
    {
      "cell_type": "code",
      "metadata": {
        "id": "L5JgxdIG6RWT",
        "outputId": "007b5de0-c3a1-4453-8e71-e5a3d3c41e27",
        "colab": {
          "base_uri": "https://localhost:8080/",
          "height": 181
        }
      },
      "source": [
        "message[0] = 'p'\n",
        "print(message)"
      ],
      "execution_count": null,
      "outputs": [
        {
          "output_type": "error",
          "ename": "TypeError",
          "evalue": "ignored",
          "traceback": [
            "\u001b[0;31m---------------------------------------------------------------------------\u001b[0m",
            "\u001b[0;31mTypeError\u001b[0m                                 Traceback (most recent call last)",
            "\u001b[0;32m<ipython-input-28-b4b635824af6>\u001b[0m in \u001b[0;36m<module>\u001b[0;34m()\u001b[0m\n\u001b[0;32m----> 1\u001b[0;31m \u001b[0mmessage\u001b[0m\u001b[0;34m[\u001b[0m\u001b[0;36m0\u001b[0m\u001b[0;34m]\u001b[0m \u001b[0;34m=\u001b[0m \u001b[0;34m'p'\u001b[0m\u001b[0;34m\u001b[0m\u001b[0;34m\u001b[0m\u001b[0m\n\u001b[0m\u001b[1;32m      2\u001b[0m \u001b[0mprint\u001b[0m\u001b[0;34m(\u001b[0m\u001b[0mmessage\u001b[0m\u001b[0;34m)\u001b[0m\u001b[0;34m\u001b[0m\u001b[0;34m\u001b[0m\u001b[0m\n",
            "\u001b[0;31mTypeError\u001b[0m: 'str' object does not support item assignment"
          ]
        }
      ]
    },
    {
      "cell_type": "markdown",
      "metadata": {
        "id": "c5bq-TEJ6WTA"
      },
      "source": [
        "- 에러가 났다. 즉, 문자열은 바로 치환이 되지 않는다. 이러한 것을 문법적으로 `Immutable`이라고 한다. \n",
        "- 그러면 `List`는 어떨까?"
      ]
    },
    {
      "cell_type": "code",
      "metadata": {
        "id": "aSrG_V0K6lgo",
        "outputId": "f23feb29-1aa1-4d02-b52f-3bbb96726c7c",
        "colab": {
          "base_uri": "https://localhost:8080/",
          "height": 34
        }
      },
      "source": [
        "a = ['foo', 'bar', 'baz', 'qux', 'quux', 'corge']\n",
        "a[1]"
      ],
      "execution_count": null,
      "outputs": [
        {
          "output_type": "execute_result",
          "data": {
            "text/plain": [
              "'bar'"
            ]
          },
          "metadata": {
            "tags": []
          },
          "execution_count": 29
        }
      ]
    },
    {
      "cell_type": "markdown",
      "metadata": {
        "id": "R-_B090L6rg1"
      },
      "source": [
        "- `bar` 대신에 이제 숫자 `10`을 대입해보자. "
      ]
    },
    {
      "cell_type": "code",
      "metadata": {
        "id": "sV0AkQ2G7Bh0",
        "outputId": "0fa1e34a-fc01-4657-8711-e5aae0dc8e98",
        "colab": {
          "base_uri": "https://localhost:8080/",
          "height": 34
        }
      },
      "source": [
        "a[1]=10\n",
        "a"
      ],
      "execution_count": null,
      "outputs": [
        {
          "output_type": "execute_result",
          "data": {
            "text/plain": [
              "['foo', 10, 'baz', 'qux', 'quux', 'corge']"
            ]
          },
          "metadata": {
            "tags": []
          },
          "execution_count": 30
        }
      ]
    },
    {
      "cell_type": "markdown",
      "metadata": {
        "id": "4Y6fM76W6qRX"
      },
      "source": [
        "- `string`에서 바뀌지 않는 것이 `list`에서 쉽게 바뀐 것을 확인할 수 있다. \n",
        "- 이렇게 바뀌는 것을 `Mutable`이라고 표현한다. \n",
        "  + 반대로 `Tuple`은 `Immutable`이라고 표현한다. (추후에 조금 더 깊게 다루도록 한다)"
      ]
    },
    {
      "cell_type": "markdown",
      "metadata": {
        "id": "EZxt66ip7000"
      },
      "source": [
        "### (6) List는 동적이다. \n",
        "- 사실 `Mutable`이라는 뜻 자체가 매우 동적임을 나타난다. \n",
        "- 필자는 보통 `자유도가 높다`라고 표현하고 싶다. \n",
        "- 다양한 형태로 작업이 가능하다. \n",
        "- 우선 다양한 값을 `Add`추가 하는 것을 진행하자. "
      ]
    },
    {
      "cell_type": "code",
      "metadata": {
        "id": "8BF1zn9Y8IOb",
        "outputId": "611e2309-8c3e-400a-c082-e97a559ed2af",
        "colab": {
          "base_uri": "https://localhost:8080/",
          "height": 34
        }
      },
      "source": [
        "temp = ['A', 'B', 'C', 'D', 'E', 'F']\n",
        "temp[3:3] = [1, 2, 3]\n",
        "temp"
      ],
      "execution_count": null,
      "outputs": [
        {
          "output_type": "execute_result",
          "data": {
            "text/plain": [
              "['A', 'B', 'C', 1, 2, 3, 'D', 'E', 'F']"
            ]
          },
          "metadata": {
            "tags": []
          },
          "execution_count": 31
        }
      ]
    },
    {
      "cell_type": "code",
      "metadata": {
        "id": "u-evOul98TyD",
        "outputId": "30d8e4f1-e7ae-4d83-f4da-c99897b67973",
        "colab": {
          "base_uri": "https://localhost:8080/",
          "height": 34
        }
      },
      "source": [
        "temp += [1000]\n",
        "temp"
      ],
      "execution_count": null,
      "outputs": [
        {
          "output_type": "execute_result",
          "data": {
            "text/plain": [
              "['A', 'B', 'C', 1, 2, 3, 'D', 'E', 'F', 1000]"
            ]
          },
          "metadata": {
            "tags": []
          },
          "execution_count": 32
        }
      ]
    },
    {
      "cell_type": "markdown",
      "metadata": {
        "id": "V1YWyAdk8gUY"
      },
      "source": [
        "- 이번에는 반대로 삭제하는 것을 진행해보자. "
      ]
    },
    {
      "cell_type": "code",
      "metadata": {
        "id": "_wJOk-_58jdp",
        "outputId": "90b397b2-1256-47c5-b9f9-f86d172ad6a0",
        "colab": {
          "base_uri": "https://localhost:8080/",
          "height": 34
        }
      },
      "source": [
        "temp[3:6] = []\n",
        "temp"
      ],
      "execution_count": null,
      "outputs": [
        {
          "output_type": "execute_result",
          "data": {
            "text/plain": [
              "['A', 'B', 'C', 'D', 'E', 'F', 1000]"
            ]
          },
          "metadata": {
            "tags": []
          },
          "execution_count": 33
        }
      ]
    },
    {
      "cell_type": "code",
      "metadata": {
        "id": "HBw6OCE08xT-",
        "outputId": "80c09331-6859-47ec-a0a9-18502b8bcd37",
        "colab": {
          "base_uri": "https://localhost:8080/",
          "height": 34
        }
      },
      "source": [
        "del temp[6]\n",
        "temp"
      ],
      "execution_count": null,
      "outputs": [
        {
          "output_type": "execute_result",
          "data": {
            "text/plain": [
              "['A', 'B', 'C', 'D', 'E', 'F']"
            ]
          },
          "metadata": {
            "tags": []
          },
          "execution_count": 34
        }
      ]
    },
    {
      "cell_type": "markdown",
      "metadata": {
        "id": "lU9r5eNT85vP"
      },
      "source": [
        "## III. Tuple \n",
        "- 리스트와 비슷하지만 조금 다른 `Tuple`에 대해 소개한다. \n",
        "- 문법적 특징은 `()`라고 표현한다. \n",
        "- 그리고, `Tuple`은 `Immutable`이다. "
      ]
    },
    {
      "cell_type": "code",
      "metadata": {
        "id": "9xznB3XX9Hfr",
        "outputId": "44ff4387-f58d-414c-8c93-0ef5224d557f",
        "colab": {
          "base_uri": "https://localhost:8080/",
          "height": 34
        }
      },
      "source": [
        "temp = ('A', 'B', 'C', 'D', 'E', 'F')\n",
        "temp"
      ],
      "execution_count": null,
      "outputs": [
        {
          "output_type": "execute_result",
          "data": {
            "text/plain": [
              "('A', 'B', 'C', 'D', 'E', 'F')"
            ]
          },
          "metadata": {
            "tags": []
          },
          "execution_count": 48
        }
      ]
    },
    {
      "cell_type": "markdown",
      "metadata": {
        "id": "WXo5WERL9WTY"
      },
      "source": [
        "- `List`와 매우 유사하기 때문에 `List`에 있는 문법들을 하나씩 응용해보는 것을 권한다. \n",
        "- 왜 `Immutable`인지 확인해보자. \n",
        "- `C` 대신에 `Cat`을 대입해보자. "
      ]
    },
    {
      "cell_type": "code",
      "metadata": {
        "id": "xx2n1NOm9x5p",
        "outputId": "44d4887a-6cfc-4e38-aa1f-ea4835f1fbbc",
        "colab": {
          "base_uri": "https://localhost:8080/",
          "height": 164
        }
      },
      "source": [
        "temp[2] = \"Cat\""
      ],
      "execution_count": null,
      "outputs": [
        {
          "output_type": "error",
          "ename": "TypeError",
          "evalue": "ignored",
          "traceback": [
            "\u001b[0;31m---------------------------------------------------------------------------\u001b[0m",
            "\u001b[0;31mTypeError\u001b[0m                                 Traceback (most recent call last)",
            "\u001b[0;32m<ipython-input-49-d6cba27b526a>\u001b[0m in \u001b[0;36m<module>\u001b[0;34m()\u001b[0m\n\u001b[0;32m----> 1\u001b[0;31m \u001b[0mtemp\u001b[0m\u001b[0;34m[\u001b[0m\u001b[0;36m2\u001b[0m\u001b[0;34m]\u001b[0m \u001b[0;34m=\u001b[0m \u001b[0;34m\"Cat\"\u001b[0m\u001b[0;34m\u001b[0m\u001b[0;34m\u001b[0m\u001b[0m\n\u001b[0m",
            "\u001b[0;31mTypeError\u001b[0m: 'tuple' object does not support item assignment"
          ]
        }
      ]
    },
    {
      "cell_type": "markdown",
      "metadata": {
        "id": "55w7aUEu97kO"
      },
      "source": [
        "- `string`에서 봤던 동일한 에러가 나온 것을 확인할 수 있다. \n"
      ]
    },
    {
      "cell_type": "markdown",
      "metadata": {
        "id": "5Tci8uqK-BU5"
      },
      "source": [
        "### (1) 왜 Tuple을 사용할까?\n",
        "- 프로그래밍적으로 `Tuple`이 `List`보다 연산속도가 빠르다. \n",
        "  + 굳이 증명할 필요는 없다. 개념적으로 이해만 하자. \n",
        "- 데이터 분석적으로 접근하면, 특정 데이터가 변하지 않도록 방지하는 기법으로 `Tuple`을 사용할 수 있다. \n",
        "- 또다른 데이터 구조로써 `Dictionary`를 배울텐데, 이 때 `Dictionary`도 문자열과 같은 `immutable type`을 요구한다. \n",
        "- Tuple의 강력함은 `Packing` & `Unpacking`의 기법이다. \n",
        "  + `Tuple`을 일종의 여행용 가방으로 생각하면 이해하기가 보다 쉽다. "
      ]
    },
    {
      "cell_type": "code",
      "metadata": {
        "id": "iUI7uFL7_PZz",
        "outputId": "fb261910-42e6-4353-9fea-654bfd340de1",
        "colab": {
          "base_uri": "https://localhost:8080/",
          "height": 34
        }
      },
      "source": [
        "t = ('foo', 'bar', 'baz', 'qux')\n",
        "t"
      ],
      "execution_count": null,
      "outputs": [
        {
          "output_type": "execute_result",
          "data": {
            "text/plain": [
              "('foo', 'bar', 'baz', 'qux')"
            ]
          },
          "metadata": {
            "tags": []
          },
          "execution_count": 37
        }
      ]
    },
    {
      "cell_type": "markdown",
      "metadata": {
        "id": "geRdqYmD_UEy"
      },
      "source": [
        "- 이 때, 각각의 `element`들을 다른 이름으로 저장해보자. \n",
        "  + 기존에는 `t[0]`과 같은 형태로 호출했다면, 이번에는 별도로 저장해보자는 뜻이다. \n",
        "- 이를 `Unpacking`이라고 부른다. "
      ]
    },
    {
      "cell_type": "code",
      "metadata": {
        "id": "J6ECKvii_odn"
      },
      "source": [
        "(s1, s2, s3, s4) = t "
      ],
      "execution_count": null,
      "outputs": []
    },
    {
      "cell_type": "code",
      "metadata": {
        "id": "EswN_SVs_1bM",
        "outputId": "5f17894f-c1c3-4268-d9e8-b845cdfdc13f",
        "colab": {
          "base_uri": "https://localhost:8080/",
          "height": 34
        }
      },
      "source": [
        "s1"
      ],
      "execution_count": null,
      "outputs": [
        {
          "output_type": "execute_result",
          "data": {
            "text/plain": [
              "'foo'"
            ]
          },
          "metadata": {
            "tags": []
          },
          "execution_count": 39
        }
      ]
    },
    {
      "cell_type": "code",
      "metadata": {
        "id": "1JW0Zr6F_15Q",
        "outputId": "1bfda09d-ac45-4b6c-985a-6b5b788bc48c",
        "colab": {
          "base_uri": "https://localhost:8080/",
          "height": 34
        }
      },
      "source": [
        "s2"
      ],
      "execution_count": null,
      "outputs": [
        {
          "output_type": "execute_result",
          "data": {
            "text/plain": [
              "'bar'"
            ]
          },
          "metadata": {
            "tags": []
          },
          "execution_count": 40
        }
      ]
    },
    {
      "cell_type": "code",
      "metadata": {
        "id": "DS98nP1v_2kS",
        "outputId": "686e3ab1-0e49-4d6f-d96f-d1406e272859",
        "colab": {
          "base_uri": "https://localhost:8080/",
          "height": 34
        }
      },
      "source": [
        "s3"
      ],
      "execution_count": null,
      "outputs": [
        {
          "output_type": "execute_result",
          "data": {
            "text/plain": [
              "'baz'"
            ]
          },
          "metadata": {
            "tags": []
          },
          "execution_count": 41
        }
      ]
    },
    {
      "cell_type": "code",
      "metadata": {
        "id": "7BuxaOIn_28f",
        "outputId": "ceaad176-471b-4ea8-f434-b5fea290d816",
        "colab": {
          "base_uri": "https://localhost:8080/",
          "height": 34
        }
      },
      "source": [
        "s4"
      ],
      "execution_count": null,
      "outputs": [
        {
          "output_type": "execute_result",
          "data": {
            "text/plain": [
              "'qux'"
            ]
          },
          "metadata": {
            "tags": []
          },
          "execution_count": 42
        }
      ]
    },
    {
      "cell_type": "markdown",
      "metadata": {
        "id": "H3CV-dpXADr8"
      },
      "source": [
        "- 이 때, 반드시 좌우의 값이 동일하게 작동해야 한다. \n",
        "- 만약, 좌우의 값이 일치하지 않으면 에러가 발생한다. \n",
        "- 코드를 통해 확인해보자. "
      ]
    },
    {
      "cell_type": "code",
      "metadata": {
        "id": "jQp6fjqZAWo0",
        "outputId": "842db338-15d6-49c3-973c-e752a3bdb347",
        "colab": {
          "base_uri": "https://localhost:8080/",
          "height": 164
        }
      },
      "source": [
        "(a1, a2, a3) = t"
      ],
      "execution_count": null,
      "outputs": [
        {
          "output_type": "error",
          "ename": "ValueError",
          "evalue": "ignored",
          "traceback": [
            "\u001b[0;31m---------------------------------------------------------------------------\u001b[0m",
            "\u001b[0;31mValueError\u001b[0m                                Traceback (most recent call last)",
            "\u001b[0;32m<ipython-input-43-76bce831b49d>\u001b[0m in \u001b[0;36m<module>\u001b[0;34m()\u001b[0m\n\u001b[0;32m----> 1\u001b[0;31m \u001b[0;34m(\u001b[0m\u001b[0ma1\u001b[0m\u001b[0;34m,\u001b[0m \u001b[0ma2\u001b[0m\u001b[0;34m,\u001b[0m \u001b[0ma3\u001b[0m\u001b[0;34m)\u001b[0m \u001b[0;34m=\u001b[0m \u001b[0mt\u001b[0m\u001b[0;34m\u001b[0m\u001b[0;34m\u001b[0m\u001b[0m\n\u001b[0m",
            "\u001b[0;31mValueError\u001b[0m: too many values to unpack (expected 3)"
          ]
        }
      ]
    },
    {
      "cell_type": "markdown",
      "metadata": {
        "id": "QAa7WshDAhKG"
      },
      "source": [
        "### (2) swap \n",
        "- 스왑은 보통 맞바꾸다의 뜻을 가지고 있다. \n",
        "- `Tuple`에서는 매우 쉽게 `swap`이 가능하다. "
      ]
    },
    {
      "cell_type": "code",
      "metadata": {
        "id": "vS7T-IeYAueb",
        "outputId": "a188dec0-057a-43ee-9a99-8dac5f887592",
        "colab": {
          "base_uri": "https://localhost:8080/",
          "height": 34
        }
      },
      "source": [
        "a1 = \"chloe\"\n",
        "v1 = \"loves\"\n",
        "a2 = \"evan\"\n",
        "\n",
        "temp = a1, v1, a2 # Tuple 형태로 표시됨\n",
        "temp"
      ],
      "execution_count": null,
      "outputs": [
        {
          "output_type": "execute_result",
          "data": {
            "text/plain": [
              "('chloe', 'loves', 'evan')"
            ]
          },
          "metadata": {
            "tags": []
          },
          "execution_count": 44
        }
      ]
    },
    {
      "cell_type": "markdown",
      "metadata": {
        "id": "YAoAt9JTA-XQ"
      },
      "source": [
        "- 여기에서 `chloe`와 `evan`의 위치를 바꾼다. "
      ]
    },
    {
      "cell_type": "code",
      "metadata": {
        "id": "iKpEJqm0BBtk",
        "outputId": "842c88ce-c0a0-4070-ed4a-f37786b20ec2",
        "colab": {
          "base_uri": "https://localhost:8080/",
          "height": 34
        }
      },
      "source": [
        "a1, a2 = a2, a1\n",
        "temp = a1, v1, a2 # Tuple 형태로 표시됨\n",
        "temp"
      ],
      "execution_count": null,
      "outputs": [
        {
          "output_type": "execute_result",
          "data": {
            "text/plain": [
              "('evan', 'loves', 'chloe')"
            ]
          },
          "metadata": {
            "tags": []
          },
          "execution_count": 45
        }
      ]
    },
    {
      "cell_type": "markdown",
      "metadata": {
        "id": "Fuf6k4SsBHxq"
      },
      "source": [
        "- 이렇게 매우 쉽게 바뀌는 것을 확인할 수 있다. "
      ]
    },
    {
      "cell_type": "markdown",
      "metadata": {
        "id": "4NK6Wahpn4E0"
      },
      "source": [
        "## VI. 결론\n",
        "- 지금까지 `list`와 `tuple`에 대해 배웠다. \n",
        "- 그 중에서 가장 중요한 개념은 `Mutable`과 `Immutable`의 차이다.\n",
        "- 다음 시간에는 `Dictionary`에 대해 배우도록 한다. "
      ]
    },
    {
      "cell_type": "markdown",
      "metadata": {
        "id": "6jG2VipdB314"
      },
      "source": [
        "## V. Reference\n",
        "Sturtz, J. (2018, September 26). Lists and Tuples in Python. Retrieved June 17, 2020, from https://realpython.com/python-lists-tuples/"
      ]
    }
  ]
}