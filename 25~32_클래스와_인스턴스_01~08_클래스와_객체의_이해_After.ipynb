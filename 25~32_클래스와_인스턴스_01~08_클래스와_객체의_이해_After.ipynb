{
  "nbformat": 4,
  "nbformat_minor": 0,
  "metadata": {
    "kernelspec": {
      "display_name": "Python 3",
      "language": "python",
      "name": "python3"
    },
    "language_info": {
      "codemirror_mode": {
        "name": "ipython",
        "version": 3
      },
      "file_extension": ".py",
      "mimetype": "text/x-python",
      "name": "python",
      "nbconvert_exporter": "python",
      "pygments_lexer": "ipython3",
      "version": "3.7.3"
    },
    "colab": {
      "name": "25~32.클래스와 인스턴스 - 01~08.클래스와 객체의 이해_After.ipynb",
      "provenance": [],
      "include_colab_link": true
    }
  },
  "cells": [
    {
      "cell_type": "markdown",
      "metadata": {
        "id": "view-in-github",
        "colab_type": "text"
      },
      "source": [
        "<a href=\"https://colab.research.google.com/github/neip313/Python_Machine_Learning/blob/main/25~32_%ED%81%B4%EB%9E%98%EC%8A%A4%EC%99%80_%EC%9D%B8%EC%8A%A4%ED%84%B4%EC%8A%A4_01~08_%ED%81%B4%EB%9E%98%EC%8A%A4%EC%99%80_%EA%B0%9D%EC%B2%B4%EC%9D%98_%EC%9D%B4%ED%95%B4_After.ipynb\" target=\"_parent\"><img src=\"https://colab.research.google.com/assets/colab-badge.svg\" alt=\"Open In Colab\"/></a>"
      ]
    },
    {
      "cell_type": "markdown",
      "metadata": {
        "id": "TmtBwdjKQoF3"
      },
      "source": [
        "### 학습목표\n",
        " 1. 클래스와 오브젝트에 대한 이해"
      ]
    },
    {
      "cell_type": "markdown",
      "metadata": {
        "id": "snjMwsPOQoGJ"
      },
      "source": [
        "#### **class란?**\n",
        " + 실세계의 것을 모델링하여 속성(attribute)와 동작(method)를 갖는 데이터 타입\n",
        " + python에서의 string, int, list, dict.. 모두가 다 클래스로 존재\n",
        " + 예를들어 학생이라는 클래스를 만든다면, 학생을 나타내는 속성과 학생이 행하는 행동을 함께 정의 할 수 있음\n",
        " + 따라서, 다루고자 하는 데이터(변수) 와 데이터를 다루는 연산(함수)를 하나로 캡슐화(encapsulation)하여 클래스로 표현\n",
        " + 모델링에서 중요시 하는 속성에 따라 클래스의 속성과 행동이 각각 달라짐"
      ]
    },
    {
      "cell_type": "code",
      "metadata": {
        "id": "_jSNbzXiQoGN"
      },
      "source": [
        "a = [1, 2, 3, 4]\n",
        "a.append(5)\n",
        "print(a)"
      ],
      "execution_count": null,
      "outputs": []
    },
    {
      "cell_type": "markdown",
      "metadata": {
        "id": "TGp26t86QoGq"
      },
      "source": [
        "#### **object 란?**\n",
        " - 클래스로 생성되어 구체화된 객체(인스턴스)\n",
        " - 파이썬의 모든 것(int, str, list..etc)은 객체(인스턴스)\n",
        " - 실제로 class가 인스턴스화 되어 메모리에 상주하는 상태를 의미\n",
        " - class가 빵틀이라면, object는 실제로 빵틀로 찍어낸 빵이라고 비유 가능\n"
      ]
    },
    {
      "cell_type": "code",
      "metadata": {
        "id": "uQZ8BPyCQoGv"
      },
      "source": [
        ""
      ],
      "execution_count": null,
      "outputs": []
    },
    {
      "cell_type": "markdown",
      "metadata": {
        "id": "bKUXwwRrQoG8"
      },
      "source": [
        "#### **class 선언하기**\n",
        "  - 객체를 생성하기 위해선 객체의 모체가 되는 class를 미리 선언해야 함 "
      ]
    },
    {
      "cell_type": "code",
      "metadata": {
        "id": "iRf5f_w_QoG-"
      },
      "source": [
        "class Person: #클래스와 객체 생성 \n",
        "    pass"
      ],
      "execution_count": null,
      "outputs": []
    },
    {
      "cell_type": "code",
      "metadata": {
        "id": "7PZb0T8fQoHO",
        "colab": {
          "base_uri": "https://localhost:8080/"
        },
        "outputId": "ba094054-7ef5-4165-adcf-cde628876b21"
      },
      "source": [
        "bob = Person()\n",
        "cathy = Person()\n",
        "\n",
        "a = list()\n",
        "b = list()\n",
        "\n",
        "print(type(bob), type(cathy))\n",
        "print(type(a), type(b))"
      ],
      "execution_count": null,
      "outputs": [
        {
          "output_type": "stream",
          "text": [
            "<class '__main__.Person'> <class '__main__.Person'>\n",
            "<class 'list'> <class 'list'>\n"
          ],
          "name": "stdout"
        }
      ]
    },
    {
      "cell_type": "markdown",
      "metadata": {
        "id": "wjKBtXVkQoHt"
      },
      "source": [
        "#### \\_\\_init__(self)\n",
        " + 생성자, 클래스 인스턴스가 생성될 때 호출됨\n",
        " + self인자는 항상 첫번째에 오며 자기 자신을 가리킴\n",
        " + 이름이 꼭 self일 필요는 없지만, 관례적으로 self로 사용\n",
        " \n",
        " + 생성자에서는 해당 클래스가 다루는 데이터를 정의\n",
        "   - 이 데이터를 멤버 변수(member variable) 또는 속성(attribute)라고 함"
      ]
    },
    {
      "cell_type": "code",
      "metadata": {
        "id": "ifop_AIJQoHv",
        "colab": {
          "base_uri": "https://localhost:8080/"
        },
        "outputId": "9f4ec5b4-32b3-4fec-a4e9-722e743485c1"
      },
      "source": [
        "class Person:\n",
        "    def __init__(self):\n",
        "        print(self, 'is generated')\n",
        "        self.name = 'Kate'\n",
        "        self.age = 10\n",
        "        \n",
        "p1 = Person()\n",
        "p2 = Person()\n",
        "\n",
        "p1.name = 'aaron'\n",
        "p1.age = 20\n",
        "\n",
        "print(p1.name, p1.age)"
      ],
      "execution_count": null,
      "outputs": [
        {
          "output_type": "stream",
          "text": [
            "<__main__.Person object at 0x7f2c30215e48> is generated\n",
            "<__main__.Person object at 0x7f2c30215dd8> is generated\n",
            "aaron 20\n"
          ],
          "name": "stdout"
        }
      ]
    },
    {
      "cell_type": "code",
      "metadata": {
        "id": "UYfma1HKQoH6",
        "colab": {
          "base_uri": "https://localhost:8080/"
        },
        "outputId": "f6ee5686-3e41-4c07-a000-9f7c314d3036"
      },
      "source": [
        "class Person:\n",
        "    def __init__(self, name, age=10):\n",
        "        # print(self, 'is generated')\n",
        "        self.name = name\n",
        "        self.age = age\n",
        "        \n",
        "p1 = Person('Bob', 30)\n",
        "p2 = Person('Kate', 20)\n",
        "p3 = Person('Aaron')\n",
        "\n",
        "print(p1.name, p1.age)\n",
        "print(p2.name, p2.age)\n",
        "print(p3.name, p3.age)"
      ],
      "execution_count": null,
      "outputs": [
        {
          "output_type": "stream",
          "text": [
            "Bob 30\n",
            "Kate 20\n",
            "Aaron 10\n"
          ],
          "name": "stdout"
        }
      ]
    },
    {
      "cell_type": "markdown",
      "metadata": {
        "id": "vhZQgqOAQoID"
      },
      "source": [
        "#### **self**\n",
        " - 파이썬의 method는 항상 첫번째 인자로 self를 전달\n",
        " - self는 현재 해당 메쏘드가 호출되는 객체 자신을 가리킴\n",
        " - C++/C#, Java의 this에 해당\n",
        " - 역시, 이름이 self일 필요는 없으나, 위치는 항상 맨 처음의 parameter이며 관례적으로 self로 사용"
      ]
    },
    {
      "cell_type": "code",
      "metadata": {
        "id": "LykTaBI8QoIF",
        "colab": {
          "base_uri": "https://localhost:8080/"
        },
        "outputId": "45b48312-a3c3-4118-f9b8-ffa7cdbf02ee"
      },
      "source": [
        "class Person:\n",
        "    def __init__(self, name, age):\n",
        "        print('self: ', self)\n",
        "        self.name = name\n",
        "        self.age = age\n",
        "        \n",
        "    def sleep(self):\n",
        "        print('self:', self)\n",
        "        print(self.name, '은 잠을 잡니다.')\n",
        "        \n",
        "a = Person('Aaron', 20)\n",
        "b = Person('Bob', 30)\n",
        "\n",
        "print(a)\n",
        "print(b)\n",
        "\n",
        "a.sleep()\n",
        "b.sleep()\n"
      ],
      "execution_count": null,
      "outputs": [
        {
          "output_type": "stream",
          "text": [
            "self:  <__main__.Person object at 0x7f2c30290160>\n",
            "self:  <__main__.Person object at 0x7f2c30290780>\n",
            "<__main__.Person object at 0x7f2c30290160>\n",
            "<__main__.Person object at 0x7f2c30290780>\n",
            "self: <__main__.Person object at 0x7f2c30290160>\n",
            "Aaron 은 잠을 잡니다.\n",
            "self: <__main__.Person object at 0x7f2c30290780>\n",
            "Bob 은 잠을 잡니다.\n"
          ],
          "name": "stdout"
        }
      ]
    },
    {
      "cell_type": "code",
      "metadata": {
        "id": "eN71pdXcQoIS"
      },
      "source": [
        ""
      ],
      "execution_count": null,
      "outputs": []
    },
    {
      "cell_type": "markdown",
      "metadata": {
        "id": "UJ4tJX61QoIg"
      },
      "source": [
        "#### **mehtod 정의**\n",
        " + 멤버함수라고도 하며, 해당 클래스의 object에서만 호출가능\n",
        " + 메쏘드는 객체 레벨에서 호출되며, 해당 객체의 속성에 대한 연산을 행함\n",
        " + {obj}.{method}() 형태로 호출됨"
      ]
    },
    {
      "cell_type": "code",
      "metadata": {
        "id": "ceHFKI55QoIh",
        "colab": {
          "base_uri": "https://localhost:8080/"
        },
        "outputId": "44617a3b-6b4a-490b-d966-0871ac237965"
      },
      "source": [
        "# 1. 숫자를 하나 증가\n",
        "# 2. 숫자를 0으로 초기화\n",
        "class Counter:\n",
        "    def __init__(self):\n",
        "        self.num = 0\n",
        "        \n",
        "    def increment(self):\n",
        "        self.num += 1\n",
        "    \n",
        "    def reset(self):\n",
        "        self.num = 0\n",
        "        \n",
        "    def print_current_value(self):\n",
        "        print('현재값은:', self.num)\n",
        "        \n",
        "    \n",
        "c1 = Counter()\n",
        "c1.print_current_value()\n",
        "c1.increment()\n",
        "c1.increment()\n",
        "c1.increment()\n",
        "c1.print_current_value()\n",
        "\n",
        "c1.reset()\n",
        "\n",
        "c1.print_current_value()\n",
        "\n",
        "c2 = Counter()\n",
        "c2.increment()\n",
        "c2.print_current_value()"
      ],
      "execution_count": null,
      "outputs": [
        {
          "output_type": "stream",
          "text": [
            "현재값은: 0\n",
            "현재값은: 3\n",
            "현재값은: 0\n",
            "현재값은: 1\n"
          ],
          "name": "stdout"
        }
      ]
    },
    {
      "cell_type": "markdown",
      "metadata": {
        "id": "JJTwaLd8QoIx"
      },
      "source": [
        "#### **method type**\n",
        " - instance method - 객체로 호출\n",
        "   - 메쏘드는 객체 레벨로 호출 되기 때문에, 해당 메쏘드를 호출한 객체에만 영향을 미침\n",
        " - class method(static method) - class로 호출\n",
        "   - 클래스 메쏘드의 경우, 클래스 레벨로 호출되기 때문에, 클래스 멤버 변수만 변경 가능\n"
      ]
    },
    {
      "cell_type": "code",
      "metadata": {
        "id": "DYkEmT7CQoIy",
        "colab": {
          "base_uri": "https://localhost:8080/"
        },
        "outputId": "62c8a21a-30c3-4318-d1f8-64bf21998c13"
      },
      "source": [
        "class Math:\n",
        "    @staticmethod\n",
        "    def add(a, b):\n",
        "        return a + b\n",
        "    \n",
        "    @staticmethod\n",
        "    def multiply(a, b):\n",
        "        return a * b\n",
        "    \n",
        "Math.add(10, 20)\n",
        "Math.multiply(10, 20)"
      ],
      "execution_count": null,
      "outputs": [
        {
          "output_type": "execute_result",
          "data": {
            "text/plain": [
              "200"
            ]
          },
          "metadata": {
            "tags": []
          },
          "execution_count": 9
        }
      ]
    },
    {
      "cell_type": "markdown",
      "metadata": {
        "id": "OjfLSlxcQoI7"
      },
      "source": [
        " #### **Class Inheritance (상속)**\n",
        "  - 기존에 정의해둔 클래스의 기능을 그대로 물려받을 수 있다.\n",
        "  - 기존 클래스에 기능 일부를 추가하거나, 변경하여 새로운 클래스를 정의한다.\n",
        "  - 코드를 재사용할 수 있게된다.\n",
        "  - 상속 받고자 하는 대상인 기존 클래스는 (Parent, Super, Base class 라고 부른다.)\n",
        "  - 상속 받는 새로운 클래스는(Child, Sub, Derived class 라고 부른다.)\n",
        "  - 의미적으로 is-a관계를 갖는다"
      ]
    },
    {
      "cell_type": "code",
      "metadata": {
        "id": "V-qYqWfiQoI9",
        "colab": {
          "base_uri": "https://localhost:8080/"
        },
        "outputId": "e733f29d-300c-4854-8c0f-60d015b1743c"
      },
      "source": [
        "class Person:\n",
        "    def __init__(self, name, age):\n",
        "        self.name = name\n",
        "        self.age = age\n",
        "        \n",
        "    def eat(self, food):\n",
        "        print('{}은 {}를 먹습니다.'.format(self.name, food))\n",
        "    \n",
        "    def sleep(self, minute):\n",
        "        print('{}은 {}분동안 잡니다.'.format(self.name, minute))\n",
        "    \n",
        "    def work(self, minute):\n",
        "        print('{}은 {}분동안 일합니다.'.format(self.name, minute))\n",
        "\n",
        "class Student(Person):\n",
        "    def __init__(self, name, age):\n",
        "        self.name = name\n",
        "        self.age = age\n",
        "    \n",
        "class Employee(Person):\n",
        "    def __init__(self, name, age):\n",
        "        self.name = name\n",
        "        self.age = age\n",
        "\n",
        "bob = Employee('Bob', 25)\n",
        "bob.eat('BBQ')\n",
        "bob.sleep(30)\n",
        "bob.work(60)\n",
        "    \n",
        "    "
      ],
      "execution_count": null,
      "outputs": [
        {
          "output_type": "stream",
          "text": [
            "Bob은 BBQ를 먹습니다.\n",
            "Bob은 30분동안 잡니다.\n",
            "Bob은 60분동안 일합니다.\n"
          ],
          "name": "stdout"
        }
      ]
    },
    {
      "cell_type": "markdown",
      "metadata": {
        "id": "jCRfm4W8QoJF"
      },
      "source": [
        "#### **method override**\n",
        " - 부모 클래스의 method를 재정의(override)\n",
        " - 하위 클래스(자식 클래스) 의 인스턴스로 호출시, 재정의된 메소드가 호출됨"
      ]
    },
    {
      "cell_type": "code",
      "metadata": {
        "id": "SOKsmB-FQoJG",
        "colab": {
          "base_uri": "https://localhost:8080/"
        },
        "outputId": "8376dba0-2f36-4f21-a4ad-5c350649c128"
      },
      "source": [
        "class Person:\n",
        "    def __init__(self, name, age):\n",
        "        self.name = name\n",
        "        self.age = age\n",
        "        \n",
        "    def eat(self, food):\n",
        "        print('{}은 {}를 먹습니다.'.format(self.name, food))\n",
        "    \n",
        "    def sleep(self, minute):\n",
        "        print('{}은 {}분동안 잡니다.'.format(self.name, minute))\n",
        "    \n",
        "    def work(self, minute):\n",
        "        print('{}은 {}분동안 일합니다.'.format(self.name, minute))\n",
        "\n",
        "class Student(Person):\n",
        "    def __init__(self, name, age):\n",
        "        self.name = name\n",
        "        self.age = age\n",
        "        \n",
        "    def work(self, minute):\n",
        "        print('{}은 {}분동안 공부합니다.'.format(self.name, minute))\n",
        "        \n",
        "class Employee(Person):\n",
        "    def __init__(self, name, age):\n",
        "        self.name = name\n",
        "        self.age = age\n",
        "        \n",
        "    def work(self, minute):\n",
        "        print('{}은 {}분동안 업무를 합니다.'.format(self.name, minute))\n",
        "        \n",
        "bob = Employee('Bob', 25)\n",
        "bob.eat('BBQ')\n",
        "bob.sleep(30)\n",
        "bob.work(60)"
      ],
      "execution_count": null,
      "outputs": [
        {
          "output_type": "stream",
          "text": [
            "Bob은 BBQ를 먹습니다.\n",
            "Bob은 30분동안 잡니다.\n",
            "Bob은 60분동안 업무를 합니다.\n"
          ],
          "name": "stdout"
        }
      ]
    },
    {
      "cell_type": "markdown",
      "metadata": {
        "id": "J3G1YsJtQoJO"
      },
      "source": [
        "#### super \n",
        " - 하위클래스(자식 클래스)에서 부모클래스의 method를 호출할 때 사용"
      ]
    },
    {
      "cell_type": "code",
      "metadata": {
        "id": "USu2ByKaQoJQ",
        "colab": {
          "base_uri": "https://localhost:8080/"
        },
        "outputId": "6214f2fa-8c23-4904-de84-53464ab75523"
      },
      "source": [
        "class Person:\n",
        "    def __init__(self, name, age):\n",
        "        self.name = name\n",
        "        self.age = age\n",
        "        \n",
        "    def eat(self, food):\n",
        "        print('{}은 {}를 먹습니다.'.format(self.name, food))\n",
        "    \n",
        "    def sleep(self, minute):\n",
        "        print('{}은 {}분동안 잡니다.'.format(self.name, minute))\n",
        "    \n",
        "    def work(self, minute):\n",
        "        print('{}은 {}분동안 준비를 합니다.'.format(self.name, minute))\n",
        "\n",
        "class Student(Person):\n",
        "    def __init__(self, name, age):\n",
        "        self.name = name\n",
        "        self.age = age\n",
        "        \n",
        "    def work(self, minute):\n",
        "        super().work(minute)\n",
        "        print('{}은 {}분동안 공부합니다.'.format(self.name, minute))\n",
        "        \n",
        "class Employee(Person):\n",
        "    def __init__(self, name, age):\n",
        "        self.name = name\n",
        "        self.age = age\n",
        "        \n",
        "    def work(self, minute):\n",
        "        super().work(minute)\n",
        "        print('{}은 {}분동안 업무를 합니다.'.format(self.name, minute))\n",
        "        \n",
        "bob = Employee('Bob', 25)\n",
        "bob.eat('BBQ')\n",
        "bob.sleep(30)\n",
        "bob.work(60)"
      ],
      "execution_count": null,
      "outputs": [
        {
          "output_type": "stream",
          "text": [
            "Bob은 BBQ를 먹습니다.\n",
            "Bob은 30분동안 잡니다.\n",
            "Bob은 60분동안 준비를 합니다.\n",
            "Bob은 60분동안 업무를 합니다.\n"
          ],
          "name": "stdout"
        }
      ]
    },
    {
      "cell_type": "markdown",
      "metadata": {
        "id": "rvd6JgNmQoJX"
      },
      "source": [
        "#### **special method**\n",
        " - __로 시작 __로 끝나는 특수 함수\n",
        " - 해당 메쏘드들을 구현하면, 커스텀 객체에 여러가지 파이썬 내장 함수나 연산자를 적용 가능\n",
        " - 오버라이딩 가능한 함수 목록은 아래 링크에서 참조 \n",
        "   - https://docs.python.org/3/reference/datamodel.html\n",
        "   - https://docs.python.org/3/reference/datamodel.html#object.__add__"
      ]
    },
    {
      "cell_type": "code",
      "metadata": {
        "id": "kM0w-nmnQoJY",
        "colab": {
          "base_uri": "https://localhost:8080/"
        },
        "outputId": "1835b85b-de2d-4de1-f3d3-211002bc2c02"
      },
      "source": [
        "# Point \n",
        "# 2차원 좌표평면 각 점(x, y) \n",
        "# 연산\n",
        "# 두점 의 덧셈, 뺄셈 (1, 2) + (3, 4) = (4, 6)\n",
        "# 한점과 숫자의 곱셈 (1,  2) * 3 = (3, 6)\n",
        "# 그 점의 길이 (0,0) 부터의 거리\n",
        "# x, y 값 가져오기\n",
        "# 출력하기\n",
        "\n",
        "class Point:\n",
        "    def __init__(self, x, y):\n",
        "        self.x = x\n",
        "        self.y = y \n",
        "        \n",
        "    def __add__(self, pt):\n",
        "        new_x = self.x + pt.x\n",
        "        new_y = self.y + pt.y\n",
        "        return Point(new_x, new_y)\n",
        "    \n",
        "    def __sub__(self, pt):\n",
        "        new_x = self.x - pt.x\n",
        "        new_y = self.y - pt.y\n",
        "        return Point(new_x, new_y)\n",
        "    \n",
        "    def __mul__(self, factor):\n",
        "        return Point(self.x * factor, self.y * factor)\n",
        "    \n",
        "    def __getitem__(self, index):\n",
        "        if index == 0:\n",
        "            return self.x\n",
        "        elif index == 1:\n",
        "            return self.y\n",
        "        else:\n",
        "            return -1\n",
        "    \n",
        "    def __len__(self):\n",
        "        return self.x ** 2 + self.y ** 2\n",
        "        \n",
        "    def __str__(self):\n",
        "        return '({}, {})'.format(self.x, self.y)\n",
        "        \n",
        "p1 = Point(3, 4)\n",
        "p2 = Point(2, 7)\n",
        "\n",
        "a = 1 + 2\n",
        "p3 = p1 + p2\n",
        "p4 = p1 - p2\n",
        "\n",
        "# p5 = p1.multiply(3)\n",
        "p5 = p1 * 3\n",
        "\n",
        "print(len(p1))\n",
        "\n",
        "# p1[0] -> x\n",
        "# p1[1] -> y\n",
        "print(p1[0])\n",
        "print(p1[1])\n",
        "print(p1)\n",
        "print(p2)\n",
        "print(p3)\n",
        "print(p4)\n",
        "print(p5)"
      ],
      "execution_count": null,
      "outputs": [
        {
          "output_type": "stream",
          "text": [
            "25\n",
            "3\n",
            "4\n",
            "(3, 4)\n",
            "(2, 7)\n",
            "(5, 11)\n",
            "(1, -3)\n",
            "(9, 12)\n"
          ],
          "name": "stdout"
        }
      ]
    },
    {
      "cell_type": "markdown",
      "metadata": {
        "id": "Ls1UyhZ9QoJh"
      },
      "source": [
        "#### 연습문제)\n",
        " - 복소수 클래스를 정의 해봅시다.\n",
        " - 덧셈, 뺄셈, 곱셈 연산자 지원\n",
        " - 길이 (복소수의 크기) 지원 \n",
        " - 복소수 출력 '1 + 4j'와 같이 표현\n",
        " - 비교 연산 ==, != 지원\n",
        " - >=, <= , <, > 연산 지원\n",
        " - 절대값 지원\n"
      ]
    },
    {
      "cell_type": "code",
      "metadata": {
        "id": "CQ5t9OBPQoJi",
        "colab": {
          "base_uri": "https://localhost:8080/"
        },
        "outputId": "16c26562-4c0d-4722-cacc-974d48b79186"
      },
      "source": [
        "import math\n",
        "class ComplexNumber:\n",
        "    def __init__(self, real, img):\n",
        "        self.real = real\n",
        "        self.img = img\n",
        "        \n",
        "    def __add__(self, cn):\n",
        "        return ComplexNumber(self.real + cn.real, self.img + cn.img)\n",
        "    \n",
        "    def __sub__(self, cn):\n",
        "        return ComplexNumber(self.real - cn.real, self.img - cn.img)\n",
        "    \n",
        "    def __mul__(self, x):\n",
        "        if type(x) == int:\n",
        "            return ComplexNumber(self.real * x, self.img * x)\n",
        "        elif type(x) == ComplexNumber:\n",
        "            return ComplexNumber(self.real * x.real - self.img * x.img, self.real * x.img + self.img * x.real)\n",
        "#            (a + bj) * (c + dj) = (ac - bd) + (ad + bc)j\n",
        "        \n",
        "    def __str__(self):\n",
        "        if self.img >= 0:\n",
        "            return '{} + {}j'.format(self.real, self.img)\n",
        "        else:\n",
        "            return '{} - {}j'.format(self.real, abs(self.img))\n",
        "        \n",
        "    def __eq__(self, cn):\n",
        "        return self.real == cn.real and self.img == cn.img\n",
        "    \n",
        "    def __ne__(self, cn):\n",
        "        return not (self.real == cn.real and self.img == cn.img)\n",
        "    \n",
        "    def __abs__(self):\n",
        "        return math.sqrt(self.real ** 2 + self.img ** 2)\n",
        "    \n",
        "    def __len__(self):\n",
        "        return self.real ** 2 + self.img ** 2\n",
        "    \n",
        "a = ComplexNumber(1, 2)\n",
        "b = ComplexNumber(3, 2)\n",
        "\n",
        "abs(a)\n",
        "len(a)"
      ],
      "execution_count": null,
      "outputs": [
        {
          "output_type": "execute_result",
          "data": {
            "text/plain": [
              "5"
            ]
          },
          "metadata": {
            "tags": []
          },
          "execution_count": 14
        }
      ]
    },
    {
      "cell_type": "code",
      "metadata": {
        "id": "goR8PEdBQoJp"
      },
      "source": [
        ""
      ],
      "execution_count": null,
      "outputs": []
    }
  ]
}