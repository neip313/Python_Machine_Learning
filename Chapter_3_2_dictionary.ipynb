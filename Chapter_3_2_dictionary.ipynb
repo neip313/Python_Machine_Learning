{
  "nbformat": 4,
  "nbformat_minor": 0,
  "metadata": {
    "colab": {
      "name": "Chapter_3_2_dictionary.ipynb",
      "provenance": [],
      "collapsed_sections": [],
      "toc_visible": true,
      "include_colab_link": true
    },
    "kernelspec": {
      "name": "python3",
      "display_name": "Python 3"
    }
  },
  "cells": [
    {
      "cell_type": "markdown",
      "metadata": {
        "id": "view-in-github",
        "colab_type": "text"
      },
      "source": [
        "<a href=\"https://colab.research.google.com/github/neip313/Python_Machine_Learning/blob/main/Chapter_3_2_dictionary.ipynb\" target=\"_parent\"><img src=\"https://colab.research.google.com/assets/colab-badge.svg\" alt=\"Open In Colab\"/></a>"
      ]
    },
    {
      "cell_type": "markdown",
      "metadata": {
        "id": "--6K6q__gRnA"
      },
      "source": [
        "---\n",
        "title: \"About Dictionaries\"\n",
        "date: 2020-06-20T10:42:47+09:00\n",
        "tags:\n",
        "  - \"Basic Data Structures\"\n",
        "  - \"Python Basic\"\n",
        "  - \"Python\"\n",
        "  - \"Dictionary\"\n",
        "categories:\n",
        "  - \"Data Structures\"\n",
        "  - \"Python\"\n",
        "  - \"Python Basic\"\n",
        "menu: \n",
        "  kaggle:\n",
        "    name: About Dictionaries\n",
        "---\n",
        "\n",
        "![](/img/)"
      ]
    },
    {
      "cell_type": "markdown",
      "metadata": {
        "id": "REY6iQaBdZXy"
      },
      "source": [
        "## I. 개요\n",
        "- 이번 시간부터 본격적으로 파이썬의 기초 자료형에 대해 간단한 튜토리얼을 준비했다. \n",
        "- 데이터 분석과는 큰 관계가 없을 수 있지만, 데이터 정제 할 때, 도움이 되기도 한다. \n",
        "- 그 중에서 면접의 단골질문과 같은 `Dictionary`에 대해 나누는 시간을 가졌다. \n"
      ]
    },
    {
      "cell_type": "markdown",
      "metadata": {
        "id": "dk83BdKKeFGP"
      },
      "source": [
        "## II. Dictionary의 기본적인 특징\n",
        "- `Dictionary`는 영어 원뜻 그대로 사전을 생각하면 된다. \n",
        "- `Dictionary`는 `List`와 유사한 부분이 많다. \n",
        "  +  `List`와 같이 `Mutable`이라는 뜻을 포함한다. \n",
        "  +  `List`와 같이 다른 `Dictionary`, `list` 등을 포함시킬 수 있다. \n",
        "- 차이점은 원소에 대한 접근방법의 차이다. \n",
        "  + `List`에서 각 원소에 대한 접근법은 `index`을 활용한다. \n",
        "  + `Dictionary`에서 각 원소에 대한 접근법은 `keys`에 의해 접근한다. "
      ]
    },
    {
      "cell_type": "markdown",
      "metadata": {
        "id": "GZ5BwO55FCGr"
      },
      "source": [
        "## III. Dictionary 정의\n",
        "- 로고사진처럼, `Dictionary`는 `key-value`로 구성 되어 있다. \n",
        "- Dictionary를 정의하는 방법에는 여러가지가 있다. \n"
      ]
    },
    {
      "cell_type": "markdown",
      "metadata": {
        "id": "GORVQA6RIB3L"
      },
      "source": [
        "### (1) `{}`를 활용한 방법\n",
        "- 기본적인 문법은 아래와 같다. \n",
        "```python\n",
        "d = {\n",
        "    <키>: <값>,\n",
        "    <키>: <값>,\n",
        "      .\n",
        "      .\n",
        "      .\n",
        "    <키>: <값>,\n",
        "}\n",
        "```\n",
        "- 간단하게 국내 야구팀을 `Dictionary` 형태로 만들어보자."
      ]
    },
    {
      "cell_type": "code",
      "metadata": {
        "id": "QD3EarcKGKKZ",
        "outputId": "0335ae76-83c8-4248-d2ee-56f42e2c9ea0",
        "colab": {
          "base_uri": "https://localhost:8080/",
          "height": 187
        }
      },
      "source": [
        "KOR_team1 = {\n",
        "    \"인천\"  : \"SK\", \n",
        "    \"서울1\" : \"LG\", \n",
        "    \"서울2\" : \"두산\", \n",
        "    \"창원\"  : \"NC\",\n",
        "    \"광주\"  : \"기아\",\n",
        "    \"대구\"  : \"삼성\",\n",
        "    \"대전\"  : \"한화\",\n",
        "    \"부산\"  : \"롯데\",\n",
        "    \"수원\"  : \"KT\",\n",
        "    \"고척\"  : \"키움\",\n",
        "}\n",
        "KOR_team1"
      ],
      "execution_count": null,
      "outputs": [
        {
          "output_type": "execute_result",
          "data": {
            "text/plain": [
              "{'고척': '키움',\n",
              " '광주': '기아',\n",
              " '대구': '삼성',\n",
              " '대전': '한화',\n",
              " '부산': '롯데',\n",
              " '서울1': 'LG',\n",
              " '서울2': '두산',\n",
              " '수원': 'KT',\n",
              " '인천': 'SK',\n",
              " '창원': 'NC'}"
            ]
          },
          "metadata": {
            "tags": []
          },
          "execution_count": 1
        }
      ]
    },
    {
      "cell_type": "markdown",
      "metadata": {
        "id": "acDhEmTaINO8"
      },
      "source": [
        "### (2) 내장함수 `dict()`를 활용하는 방법\n",
        "- `key-value`를 활용하는데, 이 때 `tuple` 형태로 작성한다. \n",
        "\n",
        "```python\n",
        "d = dict([\n",
        "    (<키>, <값>),\n",
        "    (<키>, <값),\n",
        "      .\n",
        "      .\n",
        "      .\n",
        "    (<키>, <값>)\n",
        "])\n",
        "```\n",
        "\n",
        "- 똑같이 야구팀을 작성한다. "
      ]
    },
    {
      "cell_type": "code",
      "metadata": {
        "id": "TcWbx598I6C6",
        "outputId": "4528eadd-0642-4f93-c178-6003cd33c746",
        "colab": {
          "base_uri": "https://localhost:8080/",
          "height": 187
        }
      },
      "source": [
        "KOR_team2 = dict([\n",
        "  (\"인천\", \"SK\"), \n",
        "  (\"서울1\", \"LG\"), \n",
        "  (\"서울2\", \"두산\"), \n",
        "  (\"창원\", \"NC\"), \n",
        "  (\"광주\", \"기아\"), \n",
        "  (\"대구\", \"삼성\"), \n",
        "  (\"대전\", \"한화\"), \n",
        "  (\"부산\", \"롯데\"), \n",
        "  (\"수원\", \"KT\"), \n",
        "  (\"고척\", \"키움\")\n",
        "])\n",
        "\n",
        "KOR_team2"
      ],
      "execution_count": null,
      "outputs": [
        {
          "output_type": "execute_result",
          "data": {
            "text/plain": [
              "{'고척': '키움',\n",
              " '광주': '기아',\n",
              " '대구': '삼성',\n",
              " '대전': '한화',\n",
              " '부산': '롯데',\n",
              " '서울1': 'LG',\n",
              " '서울2': '두산',\n",
              " '수원': 'KT',\n",
              " '인천': 'SK',\n",
              " '창원': 'NC'}"
            ]
          },
          "metadata": {
            "tags": []
          },
          "execution_count": 18
        }
      ]
    },
    {
      "cell_type": "markdown",
      "metadata": {
        "id": "GIsX0FcUJfTe"
      },
      "source": [
        "### (3) dict with spring \n",
        "- `dict()` 함수 안에 문자열 변수를 입력하는 형태로 코드를 작성한다.\n"
      ]
    },
    {
      "cell_type": "code",
      "metadata": {
        "id": "RpGU1TgjL8W9",
        "outputId": "cf1dd824-71d4-4f19-f8eb-0c501704b8e3",
        "colab": {
          "base_uri": "https://localhost:8080/",
          "height": 187
        }
      },
      "source": [
        "KOR_team3 = dict(\n",
        "  인천 = \"SK\", \n",
        "  서울1 = \"LG\", \n",
        "  서울2 = \"두산\", \n",
        "  창원 = \"NC\", \n",
        "  광주 = \"기아\", \n",
        "  대구 = \"삼성\", \n",
        "  대전 = \"한화\", \n",
        "  부산 = \"롯데\", \n",
        "  수원 = \"KT\", \n",
        "  고척 = \"키움\" \n",
        ")\n",
        "\n",
        "KOR_team3"
      ],
      "execution_count": null,
      "outputs": [
        {
          "output_type": "execute_result",
          "data": {
            "text/plain": [
              "{'고척': '키움',\n",
              " '광주': '기아',\n",
              " '대구': '삼성',\n",
              " '대전': '한화',\n",
              " '부산': '롯데',\n",
              " '서울1': 'LG',\n",
              " '서울2': '두산',\n",
              " '수원': 'KT',\n",
              " '인천': 'SK',\n",
              " '창원': 'NC'}"
            ]
          },
          "metadata": {
            "tags": []
          },
          "execution_count": 19
        }
      ]
    },
    {
      "cell_type": "markdown",
      "metadata": {
        "id": "nc8Wj0sRNCwW"
      },
      "source": [
        "- 실제 `Dictionary` 형태로 정의가 되었는지 확인해본다. "
      ]
    },
    {
      "cell_type": "code",
      "metadata": {
        "id": "NaPa-0BCMfCA",
        "outputId": "11d55d72-51bb-4223-e96e-cb491d26845b",
        "colab": {
          "base_uri": "https://localhost:8080/",
          "height": 68
        }
      },
      "source": [
        "print(type(KOR_team1))\n",
        "print(type(KOR_team2))\n",
        "print(type(KOR_team3))"
      ],
      "execution_count": null,
      "outputs": [
        {
          "output_type": "stream",
          "text": [
            "<class 'dict'>\n",
            "<class 'dict'>\n",
            "<class 'dict'>\n"
          ],
          "name": "stdout"
        }
      ]
    },
    {
      "cell_type": "markdown",
      "metadata": {
        "id": "JWI0buXPNwTf"
      },
      "source": [
        "## IV. Dictionary 접근법\n",
        "- Dictionary 원소 접근법은 `indexing`이 아니라 `key`값에 의해 결정된다. "
      ]
    },
    {
      "cell_type": "code",
      "metadata": {
        "id": "SERmJuSnPpok",
        "outputId": "019e27e0-8a6e-413d-8092-a2a5e4242741",
        "colab": {
          "base_uri": "https://localhost:8080/",
          "height": 51
        }
      },
      "source": [
        "print(KOR_team1['인천'])\n",
        "print(KOR_team1['부산'])"
      ],
      "execution_count": null,
      "outputs": [
        {
          "output_type": "stream",
          "text": [
            "SK\n",
            "롯데\n"
          ],
          "name": "stdout"
        }
      ]
    },
    {
      "cell_type": "markdown",
      "metadata": {
        "id": "jfdIvTfQP7L3"
      },
      "source": [
        "- 만약에 전주에 새로운 야구팀(현대)이 생겼다고 가정하자. \n",
        "- 추가하는 소스코드는 아래와 같다. "
      ]
    },
    {
      "cell_type": "code",
      "metadata": {
        "id": "3I5GXvY4QDsB",
        "outputId": "aeaff2ec-e03b-4c22-c414-0943d8f19f17",
        "colab": {
          "base_uri": "https://localhost:8080/",
          "height": 204
        }
      },
      "source": [
        "KOR_team1['전주'] = \"현대\"\n",
        "KOR_team1"
      ],
      "execution_count": null,
      "outputs": [
        {
          "output_type": "execute_result",
          "data": {
            "text/plain": [
              "{'고척': '키움',\n",
              " '광주': '기아',\n",
              " '대구': '삼성',\n",
              " '대전': '한화',\n",
              " '부산': '롯데',\n",
              " '서울1': 'LG',\n",
              " '서울2': '두산',\n",
              " '수원': 'KT',\n",
              " '인천': 'SK',\n",
              " '전주': '현대',\n",
              " '창원': 'NC'}"
            ]
          },
          "metadata": {
            "tags": []
          },
          "execution_count": 21
        }
      ]
    },
    {
      "cell_type": "markdown",
      "metadata": {
        "id": "-pdM2pRSQfcn"
      },
      "source": [
        "- `전주`: `현대`가 추가된 것을 확인할 수 있다. \n",
        "- 이번에는 방금 추가한 `전주`: `현대`를 삭제하도록 하자. (`del`) 함수 사용"
      ]
    },
    {
      "cell_type": "code",
      "metadata": {
        "id": "Yp0pfRElRGXu",
        "outputId": "59e82271-7e39-4f07-e7d9-da5e202736f8",
        "colab": {
          "base_uri": "https://localhost:8080/",
          "height": 187
        }
      },
      "source": [
        "del KOR_team1['전주']\n",
        "KOR_team1"
      ],
      "execution_count": null,
      "outputs": [
        {
          "output_type": "execute_result",
          "data": {
            "text/plain": [
              "{'고척': '키움',\n",
              " '광주': '기아',\n",
              " '대구': '삼성',\n",
              " '대전': '한화',\n",
              " '부산': '롯데',\n",
              " '서울1': 'LG',\n",
              " '서울2': '두산',\n",
              " '수원': 'KT',\n",
              " '인천': 'SK',\n",
              " '창원': 'NC'}"
            ]
          },
          "metadata": {
            "tags": []
          },
          "execution_count": 22
        }
      ]
    },
    {
      "cell_type": "markdown",
      "metadata": {
        "id": "z9Muw389RP2d"
      },
      "source": [
        "- 정상적으로 삭제가 된 것을 확인할 수 있다. "
      ]
    },
    {
      "cell_type": "markdown",
      "metadata": {
        "id": "RHfCB3OBdCZY"
      },
      "source": [
        "## V. Dictionary Using Integer\n",
        "- 이전까지 접근한 것은 문자를 입력해서 접근했다. \n",
        "- `Integer`로 활용하는 방법은 없을까? "
      ]
    },
    {
      "cell_type": "code",
      "metadata": {
        "id": "ZxbHt38UeSr5",
        "outputId": "d0e4a69e-fed4-47f8-d4df-2664b759d26f",
        "colab": {
          "base_uri": "https://localhost:8080/",
          "height": 34
        }
      },
      "source": [
        "dic = {0: 'a', 1: 'b', 2: 'c', 3: 'd'}\n",
        "dic"
      ],
      "execution_count": null,
      "outputs": [
        {
          "output_type": "execute_result",
          "data": {
            "text/plain": [
              "{0: 'a', 1: 'b', 2: 'c', 3: 'd'}"
            ]
          },
          "metadata": {
            "tags": []
          },
          "execution_count": 23
        }
      ]
    },
    {
      "cell_type": "code",
      "metadata": {
        "id": "1zT_ERKxebDb",
        "outputId": "0ad6ffca-48db-4b70-85ef-815be8015aca",
        "colab": {
          "base_uri": "https://localhost:8080/",
          "height": 51
        }
      },
      "source": [
        "print(dic[0])\n",
        "print(dic[1])"
      ],
      "execution_count": null,
      "outputs": [
        {
          "output_type": "stream",
          "text": [
            "a\n",
            "b\n"
          ],
          "name": "stdout"
        }
      ]
    },
    {
      "cell_type": "markdown",
      "metadata": {
        "id": "B0QP_29-etxJ"
      },
      "source": [
        "- 그러나 주의해야 하는 것은 `dic`는 `list`가 아니다. \n",
        "- 즉, `list`에서 할 수 있었던, `slicing`이나 `append`를 사용할 수 없다. \n",
        "  + 관련 에러 몇개를 확인해보자. "
      ]
    },
    {
      "cell_type": "code",
      "metadata": {
        "id": "wW972HZ8e-5f",
        "outputId": "46f1f386-9cc9-438d-ca7c-0fe4c7aefc44",
        "colab": {
          "base_uri": "https://localhost:8080/",
          "height": 164
        }
      },
      "source": [
        "dic.append('e')"
      ],
      "execution_count": null,
      "outputs": [
        {
          "output_type": "error",
          "ename": "AttributeError",
          "evalue": "ignored",
          "traceback": [
            "\u001b[0;31m---------------------------------------------------------------------------\u001b[0m",
            "\u001b[0;31mAttributeError\u001b[0m                            Traceback (most recent call last)",
            "\u001b[0;32m<ipython-input-10-8bfa5988d009>\u001b[0m in \u001b[0;36m<module>\u001b[0;34m()\u001b[0m\n\u001b[0;32m----> 1\u001b[0;31m \u001b[0mdic\u001b[0m\u001b[0;34m.\u001b[0m\u001b[0mappend\u001b[0m\u001b[0;34m(\u001b[0m\u001b[0;34m'e'\u001b[0m\u001b[0;34m)\u001b[0m\u001b[0;34m\u001b[0m\u001b[0;34m\u001b[0m\u001b[0m\n\u001b[0m",
            "\u001b[0;31mAttributeError\u001b[0m: 'dict' object has no attribute 'append'"
          ]
        }
      ]
    },
    {
      "cell_type": "markdown",
      "metadata": {
        "id": "8XwTsojkfDKm"
      },
      "source": [
        "- `AttributeError: 'dict' object has no attribute 'append'` 이 뜻이 함의하는 것은 `dictionary`에는 `append`라는 속성값이 없다는 뜻이다. "
      ]
    },
    {
      "cell_type": "code",
      "metadata": {
        "id": "DBn5FkMDfLoU",
        "outputId": "de76e512-9aa1-4d75-a547-01a57836b86d",
        "colab": {
          "base_uri": "https://localhost:8080/",
          "height": 164
        }
      },
      "source": [
        "dic[0:2]"
      ],
      "execution_count": null,
      "outputs": [
        {
          "output_type": "error",
          "ename": "TypeError",
          "evalue": "ignored",
          "traceback": [
            "\u001b[0;31m---------------------------------------------------------------------------\u001b[0m",
            "\u001b[0;31mTypeError\u001b[0m                                 Traceback (most recent call last)",
            "\u001b[0;32m<ipython-input-11-82c17d59c309>\u001b[0m in \u001b[0;36m<module>\u001b[0;34m()\u001b[0m\n\u001b[0;32m----> 1\u001b[0;31m \u001b[0mdic\u001b[0m\u001b[0;34m[\u001b[0m\u001b[0;36m0\u001b[0m\u001b[0;34m:\u001b[0m\u001b[0;36m2\u001b[0m\u001b[0;34m]\u001b[0m\u001b[0;34m\u001b[0m\u001b[0;34m\u001b[0m\u001b[0m\n\u001b[0m",
            "\u001b[0;31mTypeError\u001b[0m: unhashable type: 'slice'"
          ]
        }
      ]
    },
    {
      "cell_type": "markdown",
      "metadata": {
        "id": "gYuV1sjQfOrt"
      },
      "source": [
        "- 마찬가지로 `list`에서 작동했던 `slice`는 여기에서는 존재하지 않는다. "
      ]
    },
    {
      "cell_type": "markdown",
      "metadata": {
        "id": "fw7U3mm-fVZr"
      },
      "source": [
        "## VI. Dictionary와 관련된 여러 함수 소개\n",
        "- Dictionary와 함께 사용되면 좋은 함수들을 간단하게 소개 한다."
      ]
    },
    {
      "cell_type": "markdown",
      "metadata": {
        "id": "e0EdBV_tf6vG"
      },
      "source": [
        "### (1) d.clear()\n",
        "- 먼저 아래 코드를 확인해보자. "
      ]
    },
    {
      "cell_type": "code",
      "metadata": {
        "id": "DYD3HEhngDwE",
        "outputId": "ccfc144b-7a67-4bfd-e833-5bf5512bbf03",
        "colab": {
          "base_uri": "https://localhost:8080/",
          "height": 34
        }
      },
      "source": [
        "dic = {'A': 1, 'B': 2, 'C': 3}\n",
        "dic"
      ],
      "execution_count": null,
      "outputs": [
        {
          "output_type": "execute_result",
          "data": {
            "text/plain": [
              "{'A': 1, 'B': 2, 'C': 3}"
            ]
          },
          "metadata": {
            "tags": []
          },
          "execution_count": 25
        }
      ]
    },
    {
      "cell_type": "markdown",
      "metadata": {
        "id": "lzhkVpyZgPp5"
      },
      "source": [
        "- clear() 함수 적용 뒤 결과값을 확인해보자. "
      ]
    },
    {
      "cell_type": "code",
      "metadata": {
        "id": "FSNF33HagO1W",
        "outputId": "7911851e-2df0-4250-9292-8640b1d14d4c",
        "colab": {
          "base_uri": "https://localhost:8080/",
          "height": 34
        }
      },
      "source": [
        "dic.clear()\n",
        "dic"
      ],
      "execution_count": null,
      "outputs": [
        {
          "output_type": "execute_result",
          "data": {
            "text/plain": [
              "{}"
            ]
          },
          "metadata": {
            "tags": []
          },
          "execution_count": 26
        }
      ]
    },
    {
      "cell_type": "markdown",
      "metadata": {
        "id": "c-EhjnNvhTwp"
      },
      "source": [
        "- 결과값을 확인해보니 모두 삭제된 것을 확인할 수 있다. "
      ]
    },
    {
      "cell_type": "markdown",
      "metadata": {
        "id": "hv2Qktz9hX7u"
      },
      "source": [
        "### (2) d.get()\n",
        "- `get()`함수는 `key`값을 활용해서 `value`값을 가져오는 함수다. \n",
        "- 소스코드를 통해 확인하자. "
      ]
    },
    {
      "cell_type": "code",
      "metadata": {
        "id": "mpWm_okLh82d",
        "outputId": "3274e1c4-7cc4-4b28-a330-ed8326d0b42e",
        "colab": {
          "base_uri": "https://localhost:8080/",
          "height": 51
        }
      },
      "source": [
        "dic = {'A': 1, 'B': 2, 'C': 3}\n",
        "print(dic.get('B'))\n",
        "print(dic.get('Z'))"
      ],
      "execution_count": null,
      "outputs": [
        {
          "output_type": "stream",
          "text": [
            "2\n",
            "None\n"
          ],
          "name": "stdout"
        }
      ]
    },
    {
      "cell_type": "markdown",
      "metadata": {
        "id": "fiTrtcv0iDg-"
      },
      "source": [
        "- `.get('B')`에 해당하는 `Dictionary`값이 존재하기 때문에 2를 반환한다. \n",
        "- `.get('Z')`에 해당하는 `Dictionary`값이 존재하지 않기 때문에 `None`을 반환한다. \n",
        "  + 그런데 `None`을 반환하기 보다 특정 숫자 또는 문자로 출력하고 싶다면 다음과 같이 입력하면 된다. "
      ]
    },
    {
      "cell_type": "code",
      "metadata": {
        "id": "bHSNvpmWigDS",
        "outputId": "52311e3f-4728-4833-f22f-2e9b2f0ab5ce",
        "colab": {
          "base_uri": "https://localhost:8080/",
          "height": 51
        }
      },
      "source": [
        "print(dic.get('z', 0))\n",
        "print(dic.get('z', \"없음\"))"
      ],
      "execution_count": null,
      "outputs": [
        {
          "output_type": "stream",
          "text": [
            "0\n",
            "없음\n"
          ],
          "name": "stdout"
        }
      ]
    },
    {
      "cell_type": "markdown",
      "metadata": {
        "id": "zdb0BQhZixgO"
      },
      "source": [
        "### (3) d.keys()\n",
        "- `Dictionary`는 `key`와 `value`로 구성되어 있는데, `keys()`의 뜻은 현재 구성되어 있는 `Dictionary`에서 `keys()`를 `dict_keys` 형태로 반환한다.\n",
        "  + 이 때, `list`로 변환을 하려면 `list()`를 활용하면 된다. "
      ]
    },
    {
      "cell_type": "code",
      "metadata": {
        "id": "fWETY4ZojOo1",
        "outputId": "42aee388-ddc2-46bc-b8db-465f38049a41",
        "colab": {
          "base_uri": "https://localhost:8080/",
          "height": 51
        }
      },
      "source": [
        "dic = {'A': 1, 'B': 2, 'C': 3}\n",
        "print(dic.keys())\n",
        "print(list(dic.keys()))"
      ],
      "execution_count": null,
      "outputs": [
        {
          "output_type": "stream",
          "text": [
            "dict_keys(['A', 'B', 'C'])\n",
            "['A', 'B', 'C']\n"
          ],
          "name": "stdout"
        }
      ]
    },
    {
      "cell_type": "markdown",
      "metadata": {
        "id": "9uWWnWsuktg8"
      },
      "source": [
        "### (4) d.values()\n",
        "- `keys()`를 활용하여 `key`를 반환했던 것처럼, `values()`를 활용하여 `value`를 진행하자. \n",
        "  + 코드는 위와 동일하다. 다만, 함수만 바꾼다. "
      ]
    },
    {
      "cell_type": "code",
      "metadata": {
        "id": "gUEcUNoxlAH3",
        "outputId": "77b3c0f5-0559-4dfa-ba88-173d8fb1a1fd",
        "colab": {
          "base_uri": "https://localhost:8080/",
          "height": 51
        }
      },
      "source": [
        "dic = {'A': 1, 'B': 2, 'C': 3}\n",
        "print(dic.values())\n",
        "print(list(dic.values()))"
      ],
      "execution_count": null,
      "outputs": [
        {
          "output_type": "stream",
          "text": [
            "dict_values([1, 2, 3])\n",
            "[1, 2, 3]\n"
          ],
          "name": "stdout"
        }
      ]
    },
    {
      "cell_type": "markdown",
      "metadata": {
        "id": "LtcibMjLlScc"
      },
      "source": [
        "- 그 외에도 `pop()`, `popitem()`, `update()`를 활용법을 익혀본다. "
      ]
    },
    {
      "cell_type": "markdown",
      "metadata": {
        "id": "6jG2VipdB314"
      },
      "source": [
        "## V. Reference\n",
        "w3schools. Python Dictionaries. Retrieved June 20, 2020, from https://www.w3schools.com/python/python_dictionaries.asp"
      ]
    }
  ]
}